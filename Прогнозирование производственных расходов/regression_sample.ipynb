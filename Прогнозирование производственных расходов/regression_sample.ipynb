{
 "cells": [
  {
   "cell_type": "markdown",
   "id": "21939f04-4082-483e-86ec-6a22e5ae41fd",
   "metadata": {},
   "source": [
    "# Проект \"Промышленность\""
   ]
  },
  {
   "cell_type": "markdown",
   "id": "de57deb9-937f-48b0-8a88-f07827db7cf2",
   "metadata": {},
   "source": [
    "Чтобы оптимизировать производственные расходы, металлургический комбинат  решил уменьшить потребление электроэнергии на этапе обработки стали. Для этого комбинату нужно контролировать температуру сплава. Ваша задача — построить модель, которая будет её предсказывать. "
   ]
  },
  {
   "cell_type": "markdown",
   "id": "69bda053-fdf1-4907-990b-2240027338e9",
   "metadata": {},
   "source": [
    "План исследования: \n",
    "1. Загрузка и первичный осмотр данных\n",
    "2. Исследовательский анализ и предобработка данных. Генерация новых признаков.\n",
    "3. Объединение данных\n",
    "4. Исследовательский анализ и предобработка данных объединённого датафрейма\n",
    "5.  Подготовка данных: разделение данных на 2 выборки. Стандартизация. \n",
    "6.  Обучение моделей машинного обучения:\n",
    "     1. Ridge\n",
    "     2. Lasso\n",
    "     3. LGBMBoost\n",
    "     4. XGBoost\n",
    "7. Выбор лучшей модели\n",
    "8. Общий вывод и рекомендации заказчику"
   ]
  },
  {
   "cell_type": "markdown",
   "id": "81f2cb02-009d-48f3-adfc-42bf2e262b7f",
   "metadata": {},
   "source": [
    "Импорт необходимых библиотек"
   ]
  },
  {
   "cell_type": "code",
   "execution_count": 127,
   "id": "e7a4b97c-6dbd-4941-a616-c4761d00f432",
   "metadata": {
    "scrolled": true
   },
   "outputs": [],
   "source": [
    "import pandas as pd\n",
    "import matplotlib.pyplot as plt\n",
    "import datetime as dt\n",
    "import numpy as np\n",
    "from sklearn.preprocessing import StandardScaler\n",
    "from sklearn.model_selection import GridSearchCV, train_test_split, KFold\n",
    "from sklearn.linear_model import Ridge, Lasso\n",
    "from xgboost import XGBRegressor\n",
    "from lightgbm import LGBMRegressor\n",
    "from catboost import CatBoostRegressor\n",
    "from sklearn.metrics import mean_absolute_error\n",
    "import warnings\n",
    "warnings.filterwarnings(\"ignore\")"
   ]
  },
  {
   "cell_type": "markdown",
   "id": "c500ea65-2f3c-43ef-9963-69974a86f458",
   "metadata": {},
   "source": [
    "## Загрузка данных"
   ]
  },
  {
   "cell_type": "raw",
   "id": "e12bda16-d9a1-41a7-bd73-1f5f388ef878",
   "metadata": {},
   "source": [
    "\n",
    "Данные состоят из файлов, полученных из разных источников:  \n",
    "\n",
    "* data_arc.csv — данные об электродах;  \n",
    "* data_bulk.csv — данные о подаче сыпучих материалов (объём);  \n",
    "* data_bulk_time.csv — данные о подаче сыпучих материалов (время);  \n",
    "* data_gas.csv — данные о продувке сплава газом;  \n",
    "* data_temp.csv — результаты измерения температуры;  \n",
    "* data_wire.csv — данные о проволочных материалах (объём);  \n",
    "* data_wire_time.csv — данные о проволочных материалах (время).\n",
    "\n",
    "\n",
    "Во всех файлах столбец key содержит номер ковша. В файлах может быть несколько строк с одинаковым значением key: они соответствуют разным этапам обработки."
   ]
  },
  {
   "cell_type": "markdown",
   "id": "01d1dbe3-63c2-4998-b9e7-3cf0390d5cc4",
   "metadata": {},
   "source": [
    "### Данные об электродах"
   ]
  },
  {
   "cell_type": "code",
   "execution_count": 2,
   "id": "6c75739c-f526-4663-b202-a42c814aeb0f",
   "metadata": {
    "scrolled": true
   },
   "outputs": [
    {
     "data": {
      "text/html": [
       "<div>\n",
       "<style scoped>\n",
       "    .dataframe tbody tr th:only-of-type {\n",
       "        vertical-align: middle;\n",
       "    }\n",
       "\n",
       "    .dataframe tbody tr th {\n",
       "        vertical-align: top;\n",
       "    }\n",
       "\n",
       "    .dataframe thead th {\n",
       "        text-align: right;\n",
       "    }\n",
       "</style>\n",
       "<table border=\"1\" class=\"dataframe\">\n",
       "  <thead>\n",
       "    <tr style=\"text-align: right;\">\n",
       "      <th></th>\n",
       "      <th>key</th>\n",
       "      <th>Начало нагрева дугой</th>\n",
       "      <th>Конец нагрева дугой</th>\n",
       "      <th>Активная мощность</th>\n",
       "      <th>Реактивная мощность</th>\n",
       "    </tr>\n",
       "  </thead>\n",
       "  <tbody>\n",
       "    <tr>\n",
       "      <th>0</th>\n",
       "      <td>1</td>\n",
       "      <td>2019-05-03 11:02:14</td>\n",
       "      <td>2019-05-03 11:06:02</td>\n",
       "      <td>0.305130</td>\n",
       "      <td>0.211253</td>\n",
       "    </tr>\n",
       "    <tr>\n",
       "      <th>1</th>\n",
       "      <td>1</td>\n",
       "      <td>2019-05-03 11:07:28</td>\n",
       "      <td>2019-05-03 11:10:33</td>\n",
       "      <td>0.765658</td>\n",
       "      <td>0.477438</td>\n",
       "    </tr>\n",
       "  </tbody>\n",
       "</table>\n",
       "</div>"
      ],
      "text/plain": [
       "   key Начало нагрева дугой  Конец нагрева дугой  Активная мощность  \\\n",
       "0    1  2019-05-03 11:02:14  2019-05-03 11:06:02           0.305130   \n",
       "1    1  2019-05-03 11:07:28  2019-05-03 11:10:33           0.765658   \n",
       "\n",
       "   Реактивная мощность  \n",
       "0             0.211253  \n",
       "1             0.477438  "
      ]
     },
     "execution_count": 2,
     "metadata": {},
     "output_type": "execute_result"
    }
   ],
   "source": [
    "try: \n",
    "    df_arc = pd.read_csv('data_arc_new.csv')\n",
    "except:\n",
    "    df_arc = pd.read_csv('/datasets/data_arc_new.csv')\n",
    "df_arc.head(2)"
   ]
  },
  {
   "cell_type": "code",
   "execution_count": 3,
   "id": "5788fc6b-b29c-4c24-944e-02f2ef98c5b7",
   "metadata": {},
   "outputs": [
    {
     "name": "stdout",
     "output_type": "stream",
     "text": [
      "<class 'pandas.core.frame.DataFrame'>\n",
      "RangeIndex: 14876 entries, 0 to 14875\n",
      "Data columns (total 5 columns):\n",
      " #   Column                Non-Null Count  Dtype  \n",
      "---  ------                --------------  -----  \n",
      " 0   key                   14876 non-null  int64  \n",
      " 1   Начало нагрева дугой  14876 non-null  object \n",
      " 2   Конец нагрева дугой   14876 non-null  object \n",
      " 3   Активная мощность     14876 non-null  float64\n",
      " 4   Реактивная мощность   14876 non-null  float64\n",
      "dtypes: float64(2), int64(1), object(2)\n",
      "memory usage: 581.2+ KB\n"
     ]
    }
   ],
   "source": [
    "df_arc.info()"
   ]
  },
  {
   "cell_type": "code",
   "execution_count": 4,
   "id": "1982abc1-9cab-491f-85fc-78a51132dc66",
   "metadata": {},
   "outputs": [
    {
     "data": {
      "text/html": [
       "<div>\n",
       "<style scoped>\n",
       "    .dataframe tbody tr th:only-of-type {\n",
       "        vertical-align: middle;\n",
       "    }\n",
       "\n",
       "    .dataframe tbody tr th {\n",
       "        vertical-align: top;\n",
       "    }\n",
       "\n",
       "    .dataframe thead th {\n",
       "        text-align: right;\n",
       "    }\n",
       "</style>\n",
       "<table border=\"1\" class=\"dataframe\">\n",
       "  <thead>\n",
       "    <tr style=\"text-align: right;\">\n",
       "      <th></th>\n",
       "      <th>key</th>\n",
       "      <th>Активная мощность</th>\n",
       "      <th>Реактивная мощность</th>\n",
       "    </tr>\n",
       "  </thead>\n",
       "  <tbody>\n",
       "    <tr>\n",
       "      <th>count</th>\n",
       "      <td>14876.000000</td>\n",
       "      <td>14876.000000</td>\n",
       "      <td>14876.000000</td>\n",
       "    </tr>\n",
       "    <tr>\n",
       "      <th>mean</th>\n",
       "      <td>1615.220422</td>\n",
       "      <td>0.662752</td>\n",
       "      <td>0.438986</td>\n",
       "    </tr>\n",
       "    <tr>\n",
       "      <th>std</th>\n",
       "      <td>934.571502</td>\n",
       "      <td>0.258885</td>\n",
       "      <td>5.873485</td>\n",
       "    </tr>\n",
       "    <tr>\n",
       "      <th>min</th>\n",
       "      <td>1.000000</td>\n",
       "      <td>0.223120</td>\n",
       "      <td>-715.479924</td>\n",
       "    </tr>\n",
       "    <tr>\n",
       "      <th>25%</th>\n",
       "      <td>806.000000</td>\n",
       "      <td>0.467115</td>\n",
       "      <td>0.337175</td>\n",
       "    </tr>\n",
       "    <tr>\n",
       "      <th>50%</th>\n",
       "      <td>1617.000000</td>\n",
       "      <td>0.599587</td>\n",
       "      <td>0.441639</td>\n",
       "    </tr>\n",
       "    <tr>\n",
       "      <th>75%</th>\n",
       "      <td>2429.000000</td>\n",
       "      <td>0.830070</td>\n",
       "      <td>0.608201</td>\n",
       "    </tr>\n",
       "    <tr>\n",
       "      <th>max</th>\n",
       "      <td>3241.000000</td>\n",
       "      <td>1.463773</td>\n",
       "      <td>1.270284</td>\n",
       "    </tr>\n",
       "  </tbody>\n",
       "</table>\n",
       "</div>"
      ],
      "text/plain": [
       "                key  Активная мощность  Реактивная мощность\n",
       "count  14876.000000       14876.000000         14876.000000\n",
       "mean    1615.220422           0.662752             0.438986\n",
       "std      934.571502           0.258885             5.873485\n",
       "min        1.000000           0.223120          -715.479924\n",
       "25%      806.000000           0.467115             0.337175\n",
       "50%     1617.000000           0.599587             0.441639\n",
       "75%     2429.000000           0.830070             0.608201\n",
       "max     3241.000000           1.463773             1.270284"
      ]
     },
     "execution_count": 4,
     "metadata": {},
     "output_type": "execute_result"
    }
   ],
   "source": [
    "df_arc.describe()"
   ]
  },
  {
   "cell_type": "code",
   "execution_count": 5,
   "id": "3886f994-ee59-4200-85ab-3b7d1754f239",
   "metadata": {},
   "outputs": [
    {
     "data": {
      "text/plain": [
       "3214"
      ]
     },
     "execution_count": 5,
     "metadata": {},
     "output_type": "execute_result"
    }
   ],
   "source": [
    "len(df_arc['key'].unique())"
   ]
  },
  {
   "cell_type": "markdown",
   "id": "909cfd82-a6f7-4501-8453-14d5f1d70ac3",
   "metadata": {},
   "source": [
    "* Каждый ковш нагревается несколько раз. В датафрейме указано время начало и конца нагревания, а также активная и реактивная мощность электродов для каждого нагревания.\n",
    "* Датафрейм содержит информацию о 3214 ковшах\n",
    "* В датфрейме нет пропущеных значений.\n",
    "* Судя по статистике датафрейма,  признак \"Реактивная мощность\" содержит выбросы (некорректо зафиксированные данные, можность не может быть ниже нуля и отличаться на 3 порядка). "
   ]
  },
  {
   "cell_type": "markdown",
   "id": "4e2d4680-cfde-447d-a056-93a2731141db",
   "metadata": {},
   "source": [
    "### Данные о подаче сыпучих материалов (объём)"
   ]
  },
  {
   "cell_type": "code",
   "execution_count": 6,
   "id": "c97471c1-df2a-4cb1-9b92-a5117660ebe8",
   "metadata": {},
   "outputs": [
    {
     "data": {
      "text/html": [
       "<div>\n",
       "<style scoped>\n",
       "    .dataframe tbody tr th:only-of-type {\n",
       "        vertical-align: middle;\n",
       "    }\n",
       "\n",
       "    .dataframe tbody tr th {\n",
       "        vertical-align: top;\n",
       "    }\n",
       "\n",
       "    .dataframe thead th {\n",
       "        text-align: right;\n",
       "    }\n",
       "</style>\n",
       "<table border=\"1\" class=\"dataframe\">\n",
       "  <thead>\n",
       "    <tr style=\"text-align: right;\">\n",
       "      <th></th>\n",
       "      <th>key</th>\n",
       "      <th>Bulk 1</th>\n",
       "      <th>Bulk 2</th>\n",
       "      <th>Bulk 3</th>\n",
       "      <th>Bulk 4</th>\n",
       "      <th>Bulk 5</th>\n",
       "      <th>Bulk 6</th>\n",
       "      <th>Bulk 7</th>\n",
       "      <th>Bulk 8</th>\n",
       "      <th>Bulk 9</th>\n",
       "      <th>Bulk 10</th>\n",
       "      <th>Bulk 11</th>\n",
       "      <th>Bulk 12</th>\n",
       "      <th>Bulk 13</th>\n",
       "      <th>Bulk 14</th>\n",
       "      <th>Bulk 15</th>\n",
       "    </tr>\n",
       "  </thead>\n",
       "  <tbody>\n",
       "    <tr>\n",
       "      <th>0</th>\n",
       "      <td>1</td>\n",
       "      <td>NaN</td>\n",
       "      <td>NaN</td>\n",
       "      <td>NaN</td>\n",
       "      <td>43.0</td>\n",
       "      <td>NaN</td>\n",
       "      <td>NaN</td>\n",
       "      <td>NaN</td>\n",
       "      <td>NaN</td>\n",
       "      <td>NaN</td>\n",
       "      <td>NaN</td>\n",
       "      <td>NaN</td>\n",
       "      <td>206.0</td>\n",
       "      <td>NaN</td>\n",
       "      <td>150.0</td>\n",
       "      <td>154.0</td>\n",
       "    </tr>\n",
       "    <tr>\n",
       "      <th>1</th>\n",
       "      <td>2</td>\n",
       "      <td>NaN</td>\n",
       "      <td>NaN</td>\n",
       "      <td>NaN</td>\n",
       "      <td>73.0</td>\n",
       "      <td>NaN</td>\n",
       "      <td>NaN</td>\n",
       "      <td>NaN</td>\n",
       "      <td>NaN</td>\n",
       "      <td>NaN</td>\n",
       "      <td>NaN</td>\n",
       "      <td>NaN</td>\n",
       "      <td>206.0</td>\n",
       "      <td>NaN</td>\n",
       "      <td>149.0</td>\n",
       "      <td>154.0</td>\n",
       "    </tr>\n",
       "  </tbody>\n",
       "</table>\n",
       "</div>"
      ],
      "text/plain": [
       "   key  Bulk 1  Bulk 2  Bulk 3  Bulk 4  Bulk 5  Bulk 6  Bulk 7  Bulk 8  \\\n",
       "0    1     NaN     NaN     NaN    43.0     NaN     NaN     NaN     NaN   \n",
       "1    2     NaN     NaN     NaN    73.0     NaN     NaN     NaN     NaN   \n",
       "\n",
       "   Bulk 9  Bulk 10  Bulk 11  Bulk 12  Bulk 13  Bulk 14  Bulk 15  \n",
       "0     NaN      NaN      NaN    206.0      NaN    150.0    154.0  \n",
       "1     NaN      NaN      NaN    206.0      NaN    149.0    154.0  "
      ]
     },
     "execution_count": 6,
     "metadata": {},
     "output_type": "execute_result"
    }
   ],
   "source": [
    "try:\n",
    "    df_bulk = pd.read_csv('data_bulk_new.csv')\n",
    "except:\n",
    "    df_bulk = pd.read_csv('/datasets/data_bulk_new.csv')    \n",
    "df_bulk.head(2)"
   ]
  },
  {
   "cell_type": "code",
   "execution_count": 7,
   "id": "7cadc803-0cde-46f5-96f0-c48262a60e3f",
   "metadata": {},
   "outputs": [
    {
     "name": "stdout",
     "output_type": "stream",
     "text": [
      "<class 'pandas.core.frame.DataFrame'>\n",
      "RangeIndex: 3129 entries, 0 to 3128\n",
      "Data columns (total 16 columns):\n",
      " #   Column   Non-Null Count  Dtype  \n",
      "---  ------   --------------  -----  \n",
      " 0   key      3129 non-null   int64  \n",
      " 1   Bulk 1   252 non-null    float64\n",
      " 2   Bulk 2   22 non-null     float64\n",
      " 3   Bulk 3   1298 non-null   float64\n",
      " 4   Bulk 4   1014 non-null   float64\n",
      " 5   Bulk 5   77 non-null     float64\n",
      " 6   Bulk 6   576 non-null    float64\n",
      " 7   Bulk 7   25 non-null     float64\n",
      " 8   Bulk 8   1 non-null      float64\n",
      " 9   Bulk 9   19 non-null     float64\n",
      " 10  Bulk 10  176 non-null    float64\n",
      " 11  Bulk 11  177 non-null    float64\n",
      " 12  Bulk 12  2450 non-null   float64\n",
      " 13  Bulk 13  18 non-null     float64\n",
      " 14  Bulk 14  2806 non-null   float64\n",
      " 15  Bulk 15  2248 non-null   float64\n",
      "dtypes: float64(15), int64(1)\n",
      "memory usage: 391.2 KB\n"
     ]
    }
   ],
   "source": [
    "df_bulk.info()"
   ]
  },
  {
   "cell_type": "code",
   "execution_count": null,
   "id": "20289781",
   "metadata": {},
   "outputs": [],
   "source": []
  },
  {
   "cell_type": "code",
   "execution_count": 8,
   "id": "4cbcfe83-2a5e-4d16-8654-ddf64e92b467",
   "metadata": {},
   "outputs": [
    {
     "data": {
      "text/html": [
       "<div>\n",
       "<style scoped>\n",
       "    .dataframe tbody tr th:only-of-type {\n",
       "        vertical-align: middle;\n",
       "    }\n",
       "\n",
       "    .dataframe tbody tr th {\n",
       "        vertical-align: top;\n",
       "    }\n",
       "\n",
       "    .dataframe thead th {\n",
       "        text-align: right;\n",
       "    }\n",
       "</style>\n",
       "<table border=\"1\" class=\"dataframe\">\n",
       "  <thead>\n",
       "    <tr style=\"text-align: right;\">\n",
       "      <th></th>\n",
       "      <th>key</th>\n",
       "      <th>Bulk 1</th>\n",
       "      <th>Bulk 2</th>\n",
       "      <th>Bulk 3</th>\n",
       "      <th>Bulk 4</th>\n",
       "      <th>Bulk 5</th>\n",
       "      <th>Bulk 6</th>\n",
       "      <th>Bulk 7</th>\n",
       "      <th>Bulk 8</th>\n",
       "      <th>Bulk 9</th>\n",
       "      <th>Bulk 10</th>\n",
       "      <th>Bulk 11</th>\n",
       "      <th>Bulk 12</th>\n",
       "      <th>Bulk 13</th>\n",
       "      <th>Bulk 14</th>\n",
       "      <th>Bulk 15</th>\n",
       "    </tr>\n",
       "  </thead>\n",
       "  <tbody>\n",
       "    <tr>\n",
       "      <th>count</th>\n",
       "      <td>3129.000000</td>\n",
       "      <td>252.000000</td>\n",
       "      <td>22.000000</td>\n",
       "      <td>1298.000000</td>\n",
       "      <td>1014.000000</td>\n",
       "      <td>77.000000</td>\n",
       "      <td>576.000000</td>\n",
       "      <td>25.000000</td>\n",
       "      <td>1.0</td>\n",
       "      <td>19.000000</td>\n",
       "      <td>176.000000</td>\n",
       "      <td>177.000000</td>\n",
       "      <td>2450.000000</td>\n",
       "      <td>18.000000</td>\n",
       "      <td>2806.000000</td>\n",
       "      <td>2248.000000</td>\n",
       "    </tr>\n",
       "    <tr>\n",
       "      <th>mean</th>\n",
       "      <td>1624.383509</td>\n",
       "      <td>39.242063</td>\n",
       "      <td>253.045455</td>\n",
       "      <td>113.879045</td>\n",
       "      <td>104.394477</td>\n",
       "      <td>107.025974</td>\n",
       "      <td>118.925347</td>\n",
       "      <td>305.600000</td>\n",
       "      <td>49.0</td>\n",
       "      <td>76.315789</td>\n",
       "      <td>83.284091</td>\n",
       "      <td>76.819209</td>\n",
       "      <td>260.471020</td>\n",
       "      <td>181.111111</td>\n",
       "      <td>170.284747</td>\n",
       "      <td>160.513345</td>\n",
       "    </tr>\n",
       "    <tr>\n",
       "      <th>std</th>\n",
       "      <td>933.337642</td>\n",
       "      <td>18.277654</td>\n",
       "      <td>21.180578</td>\n",
       "      <td>75.483494</td>\n",
       "      <td>48.184126</td>\n",
       "      <td>81.790646</td>\n",
       "      <td>72.057776</td>\n",
       "      <td>191.022904</td>\n",
       "      <td>NaN</td>\n",
       "      <td>21.720581</td>\n",
       "      <td>26.060347</td>\n",
       "      <td>59.655365</td>\n",
       "      <td>120.649269</td>\n",
       "      <td>46.088009</td>\n",
       "      <td>65.868652</td>\n",
       "      <td>51.765319</td>\n",
       "    </tr>\n",
       "    <tr>\n",
       "      <th>min</th>\n",
       "      <td>1.000000</td>\n",
       "      <td>10.000000</td>\n",
       "      <td>228.000000</td>\n",
       "      <td>6.000000</td>\n",
       "      <td>12.000000</td>\n",
       "      <td>11.000000</td>\n",
       "      <td>17.000000</td>\n",
       "      <td>47.000000</td>\n",
       "      <td>49.0</td>\n",
       "      <td>63.000000</td>\n",
       "      <td>24.000000</td>\n",
       "      <td>8.000000</td>\n",
       "      <td>53.000000</td>\n",
       "      <td>151.000000</td>\n",
       "      <td>16.000000</td>\n",
       "      <td>1.000000</td>\n",
       "    </tr>\n",
       "    <tr>\n",
       "      <th>25%</th>\n",
       "      <td>816.000000</td>\n",
       "      <td>27.000000</td>\n",
       "      <td>242.000000</td>\n",
       "      <td>58.000000</td>\n",
       "      <td>72.000000</td>\n",
       "      <td>70.000000</td>\n",
       "      <td>69.750000</td>\n",
       "      <td>155.000000</td>\n",
       "      <td>49.0</td>\n",
       "      <td>66.000000</td>\n",
       "      <td>64.000000</td>\n",
       "      <td>25.000000</td>\n",
       "      <td>204.000000</td>\n",
       "      <td>153.250000</td>\n",
       "      <td>119.000000</td>\n",
       "      <td>105.000000</td>\n",
       "    </tr>\n",
       "    <tr>\n",
       "      <th>50%</th>\n",
       "      <td>1622.000000</td>\n",
       "      <td>31.000000</td>\n",
       "      <td>251.500000</td>\n",
       "      <td>97.500000</td>\n",
       "      <td>102.000000</td>\n",
       "      <td>86.000000</td>\n",
       "      <td>100.000000</td>\n",
       "      <td>298.000000</td>\n",
       "      <td>49.0</td>\n",
       "      <td>68.000000</td>\n",
       "      <td>86.500000</td>\n",
       "      <td>64.000000</td>\n",
       "      <td>208.000000</td>\n",
       "      <td>155.500000</td>\n",
       "      <td>151.000000</td>\n",
       "      <td>160.000000</td>\n",
       "    </tr>\n",
       "    <tr>\n",
       "      <th>75%</th>\n",
       "      <td>2431.000000</td>\n",
       "      <td>46.000000</td>\n",
       "      <td>257.750000</td>\n",
       "      <td>152.000000</td>\n",
       "      <td>133.000000</td>\n",
       "      <td>132.000000</td>\n",
       "      <td>157.000000</td>\n",
       "      <td>406.000000</td>\n",
       "      <td>49.0</td>\n",
       "      <td>70.500000</td>\n",
       "      <td>102.000000</td>\n",
       "      <td>106.000000</td>\n",
       "      <td>316.000000</td>\n",
       "      <td>203.500000</td>\n",
       "      <td>205.750000</td>\n",
       "      <td>205.000000</td>\n",
       "    </tr>\n",
       "    <tr>\n",
       "      <th>max</th>\n",
       "      <td>3241.000000</td>\n",
       "      <td>185.000000</td>\n",
       "      <td>325.000000</td>\n",
       "      <td>454.000000</td>\n",
       "      <td>281.000000</td>\n",
       "      <td>603.000000</td>\n",
       "      <td>503.000000</td>\n",
       "      <td>772.000000</td>\n",
       "      <td>49.0</td>\n",
       "      <td>147.000000</td>\n",
       "      <td>159.000000</td>\n",
       "      <td>313.000000</td>\n",
       "      <td>1849.000000</td>\n",
       "      <td>305.000000</td>\n",
       "      <td>636.000000</td>\n",
       "      <td>405.000000</td>\n",
       "    </tr>\n",
       "  </tbody>\n",
       "</table>\n",
       "</div>"
      ],
      "text/plain": [
       "               key      Bulk 1      Bulk 2       Bulk 3       Bulk 4  \\\n",
       "count  3129.000000  252.000000   22.000000  1298.000000  1014.000000   \n",
       "mean   1624.383509   39.242063  253.045455   113.879045   104.394477   \n",
       "std     933.337642   18.277654   21.180578    75.483494    48.184126   \n",
       "min       1.000000   10.000000  228.000000     6.000000    12.000000   \n",
       "25%     816.000000   27.000000  242.000000    58.000000    72.000000   \n",
       "50%    1622.000000   31.000000  251.500000    97.500000   102.000000   \n",
       "75%    2431.000000   46.000000  257.750000   152.000000   133.000000   \n",
       "max    3241.000000  185.000000  325.000000   454.000000   281.000000   \n",
       "\n",
       "           Bulk 5      Bulk 6      Bulk 7  Bulk 8      Bulk 9     Bulk 10  \\\n",
       "count   77.000000  576.000000   25.000000     1.0   19.000000  176.000000   \n",
       "mean   107.025974  118.925347  305.600000    49.0   76.315789   83.284091   \n",
       "std     81.790646   72.057776  191.022904     NaN   21.720581   26.060347   \n",
       "min     11.000000   17.000000   47.000000    49.0   63.000000   24.000000   \n",
       "25%     70.000000   69.750000  155.000000    49.0   66.000000   64.000000   \n",
       "50%     86.000000  100.000000  298.000000    49.0   68.000000   86.500000   \n",
       "75%    132.000000  157.000000  406.000000    49.0   70.500000  102.000000   \n",
       "max    603.000000  503.000000  772.000000    49.0  147.000000  159.000000   \n",
       "\n",
       "          Bulk 11      Bulk 12     Bulk 13      Bulk 14      Bulk 15  \n",
       "count  177.000000  2450.000000   18.000000  2806.000000  2248.000000  \n",
       "mean    76.819209   260.471020  181.111111   170.284747   160.513345  \n",
       "std     59.655365   120.649269   46.088009    65.868652    51.765319  \n",
       "min      8.000000    53.000000  151.000000    16.000000     1.000000  \n",
       "25%     25.000000   204.000000  153.250000   119.000000   105.000000  \n",
       "50%     64.000000   208.000000  155.500000   151.000000   160.000000  \n",
       "75%    106.000000   316.000000  203.500000   205.750000   205.000000  \n",
       "max    313.000000  1849.000000  305.000000   636.000000   405.000000  "
      ]
     },
     "execution_count": 8,
     "metadata": {},
     "output_type": "execute_result"
    }
   ],
   "source": [
    "df_bulk.describe()"
   ]
  },
  {
   "cell_type": "markdown",
   "id": "841b9f04-699d-4d4b-b0fe-69c2b49c0792",
   "metadata": {},
   "source": [
    "* Данные содержат много пропусков. Они означают, что данного материала добавлено не было\n",
    "* Некоторые столбцы малоинформативны, т.к. содержат менее 1% ненулевых значений: Bulk 2, Bulk 7, Bulk 8, Bulk 13"
   ]
  },
  {
   "cell_type": "markdown",
   "id": "43a2d0b7-4fd6-4f2f-9743-821b0722f035",
   "metadata": {},
   "source": [
    "### Данные о подаче сыпучих материалов (время)"
   ]
  },
  {
   "cell_type": "code",
   "execution_count": 9,
   "id": "036e4eb5-1aba-459f-826f-c33670c3db4d",
   "metadata": {
    "scrolled": true
   },
   "outputs": [
    {
     "data": {
      "text/html": [
       "<div>\n",
       "<style scoped>\n",
       "    .dataframe tbody tr th:only-of-type {\n",
       "        vertical-align: middle;\n",
       "    }\n",
       "\n",
       "    .dataframe tbody tr th {\n",
       "        vertical-align: top;\n",
       "    }\n",
       "\n",
       "    .dataframe thead th {\n",
       "        text-align: right;\n",
       "    }\n",
       "</style>\n",
       "<table border=\"1\" class=\"dataframe\">\n",
       "  <thead>\n",
       "    <tr style=\"text-align: right;\">\n",
       "      <th></th>\n",
       "      <th>key</th>\n",
       "      <th>Bulk 1</th>\n",
       "      <th>Bulk 2</th>\n",
       "      <th>Bulk 3</th>\n",
       "      <th>Bulk 4</th>\n",
       "      <th>Bulk 5</th>\n",
       "      <th>Bulk 6</th>\n",
       "      <th>Bulk 7</th>\n",
       "      <th>Bulk 8</th>\n",
       "      <th>Bulk 9</th>\n",
       "      <th>Bulk 10</th>\n",
       "      <th>Bulk 11</th>\n",
       "      <th>Bulk 12</th>\n",
       "      <th>Bulk 13</th>\n",
       "      <th>Bulk 14</th>\n",
       "      <th>Bulk 15</th>\n",
       "    </tr>\n",
       "  </thead>\n",
       "  <tbody>\n",
       "    <tr>\n",
       "      <th>0</th>\n",
       "      <td>1</td>\n",
       "      <td>NaN</td>\n",
       "      <td>NaN</td>\n",
       "      <td>NaN</td>\n",
       "      <td>2019-05-03 11:28:48</td>\n",
       "      <td>NaN</td>\n",
       "      <td>NaN</td>\n",
       "      <td>NaN</td>\n",
       "      <td>NaN</td>\n",
       "      <td>NaN</td>\n",
       "      <td>NaN</td>\n",
       "      <td>NaN</td>\n",
       "      <td>2019-05-03 11:24:31</td>\n",
       "      <td>NaN</td>\n",
       "      <td>2019-05-03 11:14:50</td>\n",
       "      <td>2019-05-03 11:10:43</td>\n",
       "    </tr>\n",
       "    <tr>\n",
       "      <th>1</th>\n",
       "      <td>2</td>\n",
       "      <td>NaN</td>\n",
       "      <td>NaN</td>\n",
       "      <td>NaN</td>\n",
       "      <td>2019-05-03 11:36:50</td>\n",
       "      <td>NaN</td>\n",
       "      <td>NaN</td>\n",
       "      <td>NaN</td>\n",
       "      <td>NaN</td>\n",
       "      <td>NaN</td>\n",
       "      <td>NaN</td>\n",
       "      <td>NaN</td>\n",
       "      <td>2019-05-03 11:53:30</td>\n",
       "      <td>NaN</td>\n",
       "      <td>2019-05-03 11:48:37</td>\n",
       "      <td>2019-05-03 11:44:39</td>\n",
       "    </tr>\n",
       "  </tbody>\n",
       "</table>\n",
       "</div>"
      ],
      "text/plain": [
       "   key Bulk 1 Bulk 2 Bulk 3               Bulk 4 Bulk 5 Bulk 6 Bulk 7 Bulk 8  \\\n",
       "0    1    NaN    NaN    NaN  2019-05-03 11:28:48    NaN    NaN    NaN    NaN   \n",
       "1    2    NaN    NaN    NaN  2019-05-03 11:36:50    NaN    NaN    NaN    NaN   \n",
       "\n",
       "  Bulk 9 Bulk 10 Bulk 11              Bulk 12 Bulk 13              Bulk 14  \\\n",
       "0    NaN     NaN     NaN  2019-05-03 11:24:31     NaN  2019-05-03 11:14:50   \n",
       "1    NaN     NaN     NaN  2019-05-03 11:53:30     NaN  2019-05-03 11:48:37   \n",
       "\n",
       "               Bulk 15  \n",
       "0  2019-05-03 11:10:43  \n",
       "1  2019-05-03 11:44:39  "
      ]
     },
     "execution_count": 9,
     "metadata": {},
     "output_type": "execute_result"
    }
   ],
   "source": [
    "try:\n",
    "    df_bulk_time = pd.read_csv('data_bulk_time_new.csv')\n",
    "except:\n",
    "    df_bulk_time = pd.read_csv('/datasets/data_bulk_time_new.csv')\n",
    "df_bulk_time.head(2)"
   ]
  },
  {
   "cell_type": "code",
   "execution_count": 10,
   "id": "d07e198c-7f86-4050-87c1-353acb0547a3",
   "metadata": {},
   "outputs": [
    {
     "name": "stdout",
     "output_type": "stream",
     "text": [
      "<class 'pandas.core.frame.DataFrame'>\n",
      "RangeIndex: 3129 entries, 0 to 3128\n",
      "Data columns (total 16 columns):\n",
      " #   Column   Non-Null Count  Dtype \n",
      "---  ------   --------------  ----- \n",
      " 0   key      3129 non-null   int64 \n",
      " 1   Bulk 1   252 non-null    object\n",
      " 2   Bulk 2   22 non-null     object\n",
      " 3   Bulk 3   1298 non-null   object\n",
      " 4   Bulk 4   1014 non-null   object\n",
      " 5   Bulk 5   77 non-null     object\n",
      " 6   Bulk 6   576 non-null    object\n",
      " 7   Bulk 7   25 non-null     object\n",
      " 8   Bulk 8   1 non-null      object\n",
      " 9   Bulk 9   19 non-null     object\n",
      " 10  Bulk 10  176 non-null    object\n",
      " 11  Bulk 11  177 non-null    object\n",
      " 12  Bulk 12  2450 non-null   object\n",
      " 13  Bulk 13  18 non-null     object\n",
      " 14  Bulk 14  2806 non-null   object\n",
      " 15  Bulk 15  2248 non-null   object\n",
      "dtypes: int64(1), object(15)\n",
      "memory usage: 391.2+ KB\n"
     ]
    }
   ],
   "source": [
    "df_bulk_time.info()"
   ]
  },
  {
   "cell_type": "markdown",
   "id": "aae1c8c6-3f91-4598-83a3-6f932451b11b",
   "metadata": {},
   "source": [
    "* Данные из этой таблицы малоинформативны и в ряде аспектов поторяют данные из предыдущего датафрейма. "
   ]
  },
  {
   "cell_type": "markdown",
   "id": "e1ffb1ee-f2dd-4ff0-ab0e-8623d5e93ade",
   "metadata": {},
   "source": [
    "### Данные о продувке сплава газом"
   ]
  },
  {
   "cell_type": "code",
   "execution_count": 11,
   "id": "177b70dd-7338-4415-9c4d-ece1cc61f02d",
   "metadata": {
    "scrolled": true
   },
   "outputs": [
    {
     "data": {
      "text/html": [
       "<div>\n",
       "<style scoped>\n",
       "    .dataframe tbody tr th:only-of-type {\n",
       "        vertical-align: middle;\n",
       "    }\n",
       "\n",
       "    .dataframe tbody tr th {\n",
       "        vertical-align: top;\n",
       "    }\n",
       "\n",
       "    .dataframe thead th {\n",
       "        text-align: right;\n",
       "    }\n",
       "</style>\n",
       "<table border=\"1\" class=\"dataframe\">\n",
       "  <thead>\n",
       "    <tr style=\"text-align: right;\">\n",
       "      <th></th>\n",
       "      <th>key</th>\n",
       "      <th>Газ 1</th>\n",
       "    </tr>\n",
       "  </thead>\n",
       "  <tbody>\n",
       "    <tr>\n",
       "      <th>0</th>\n",
       "      <td>1</td>\n",
       "      <td>29.749986</td>\n",
       "    </tr>\n",
       "    <tr>\n",
       "      <th>1</th>\n",
       "      <td>2</td>\n",
       "      <td>12.555561</td>\n",
       "    </tr>\n",
       "    <tr>\n",
       "      <th>2</th>\n",
       "      <td>3</td>\n",
       "      <td>28.554793</td>\n",
       "    </tr>\n",
       "    <tr>\n",
       "      <th>3</th>\n",
       "      <td>4</td>\n",
       "      <td>18.841219</td>\n",
       "    </tr>\n",
       "    <tr>\n",
       "      <th>4</th>\n",
       "      <td>5</td>\n",
       "      <td>5.413692</td>\n",
       "    </tr>\n",
       "  </tbody>\n",
       "</table>\n",
       "</div>"
      ],
      "text/plain": [
       "   key      Газ 1\n",
       "0    1  29.749986\n",
       "1    2  12.555561\n",
       "2    3  28.554793\n",
       "3    4  18.841219\n",
       "4    5   5.413692"
      ]
     },
     "execution_count": 11,
     "metadata": {},
     "output_type": "execute_result"
    }
   ],
   "source": [
    "try:\n",
    "    df_gas = pd.read_csv('data_gas_new.csv')\n",
    "except:\n",
    "    df_gas = pd.read_csv('/datasets/data_gas_new.csv')\n",
    "df_gas.head()"
   ]
  },
  {
   "cell_type": "code",
   "execution_count": 12,
   "id": "0716c96e-f012-46fc-98ad-29168ffc7ef2",
   "metadata": {},
   "outputs": [
    {
     "name": "stdout",
     "output_type": "stream",
     "text": [
      "<class 'pandas.core.frame.DataFrame'>\n",
      "RangeIndex: 3239 entries, 0 to 3238\n",
      "Data columns (total 2 columns):\n",
      " #   Column  Non-Null Count  Dtype  \n",
      "---  ------  --------------  -----  \n",
      " 0   key     3239 non-null   int64  \n",
      " 1   Газ 1   3239 non-null   float64\n",
      "dtypes: float64(1), int64(1)\n",
      "memory usage: 50.7 KB\n"
     ]
    }
   ],
   "source": [
    "df_gas.info()"
   ]
  },
  {
   "cell_type": "code",
   "execution_count": 13,
   "id": "03f3ff6c-1246-409a-a59d-b57084ff14d5",
   "metadata": {},
   "outputs": [
    {
     "data": {
      "text/html": [
       "<div>\n",
       "<style scoped>\n",
       "    .dataframe tbody tr th:only-of-type {\n",
       "        vertical-align: middle;\n",
       "    }\n",
       "\n",
       "    .dataframe tbody tr th {\n",
       "        vertical-align: top;\n",
       "    }\n",
       "\n",
       "    .dataframe thead th {\n",
       "        text-align: right;\n",
       "    }\n",
       "</style>\n",
       "<table border=\"1\" class=\"dataframe\">\n",
       "  <thead>\n",
       "    <tr style=\"text-align: right;\">\n",
       "      <th></th>\n",
       "      <th>key</th>\n",
       "      <th>Газ 1</th>\n",
       "    </tr>\n",
       "  </thead>\n",
       "  <tbody>\n",
       "    <tr>\n",
       "      <th>count</th>\n",
       "      <td>3239.000000</td>\n",
       "      <td>3239.000000</td>\n",
       "    </tr>\n",
       "    <tr>\n",
       "      <th>mean</th>\n",
       "      <td>1621.861377</td>\n",
       "      <td>11.002062</td>\n",
       "    </tr>\n",
       "    <tr>\n",
       "      <th>std</th>\n",
       "      <td>935.386334</td>\n",
       "      <td>6.220327</td>\n",
       "    </tr>\n",
       "    <tr>\n",
       "      <th>min</th>\n",
       "      <td>1.000000</td>\n",
       "      <td>0.008399</td>\n",
       "    </tr>\n",
       "    <tr>\n",
       "      <th>25%</th>\n",
       "      <td>812.500000</td>\n",
       "      <td>7.043089</td>\n",
       "    </tr>\n",
       "    <tr>\n",
       "      <th>50%</th>\n",
       "      <td>1622.000000</td>\n",
       "      <td>9.836267</td>\n",
       "    </tr>\n",
       "    <tr>\n",
       "      <th>75%</th>\n",
       "      <td>2431.500000</td>\n",
       "      <td>13.769915</td>\n",
       "    </tr>\n",
       "    <tr>\n",
       "      <th>max</th>\n",
       "      <td>3241.000000</td>\n",
       "      <td>77.995040</td>\n",
       "    </tr>\n",
       "  </tbody>\n",
       "</table>\n",
       "</div>"
      ],
      "text/plain": [
       "               key        Газ 1\n",
       "count  3239.000000  3239.000000\n",
       "mean   1621.861377    11.002062\n",
       "std     935.386334     6.220327\n",
       "min       1.000000     0.008399\n",
       "25%     812.500000     7.043089\n",
       "50%    1622.000000     9.836267\n",
       "75%    2431.500000    13.769915\n",
       "max    3241.000000    77.995040"
      ]
     },
     "execution_count": 13,
     "metadata": {},
     "output_type": "execute_result"
    }
   ],
   "source": [
    "df_gas.describe()"
   ]
  },
  {
   "cell_type": "markdown",
   "id": "8011bb86-8d70-4de8-bf92-5286921a1c49",
   "metadata": {},
   "source": [
    "* В представленном датафрейме количество наблюдений больше, чем в предыдущих, пропусков нет"
   ]
  },
  {
   "cell_type": "markdown",
   "id": "4a038ea3-2daf-46a2-b277-0366504ee83c",
   "metadata": {},
   "source": [
    "### Результаты измерения температуры"
   ]
  },
  {
   "cell_type": "code",
   "execution_count": 14,
   "id": "87988882-b81b-4e00-885e-ab766f648155",
   "metadata": {},
   "outputs": [
    {
     "data": {
      "text/html": [
       "<div>\n",
       "<style scoped>\n",
       "    .dataframe tbody tr th:only-of-type {\n",
       "        vertical-align: middle;\n",
       "    }\n",
       "\n",
       "    .dataframe tbody tr th {\n",
       "        vertical-align: top;\n",
       "    }\n",
       "\n",
       "    .dataframe thead th {\n",
       "        text-align: right;\n",
       "    }\n",
       "</style>\n",
       "<table border=\"1\" class=\"dataframe\">\n",
       "  <thead>\n",
       "    <tr style=\"text-align: right;\">\n",
       "      <th></th>\n",
       "      <th>key</th>\n",
       "      <th>Время замера</th>\n",
       "      <th>Температура</th>\n",
       "    </tr>\n",
       "  </thead>\n",
       "  <tbody>\n",
       "    <tr>\n",
       "      <th>0</th>\n",
       "      <td>1</td>\n",
       "      <td>2019-05-03 11:02:04</td>\n",
       "      <td>1571.0</td>\n",
       "    </tr>\n",
       "    <tr>\n",
       "      <th>1</th>\n",
       "      <td>1</td>\n",
       "      <td>2019-05-03 11:07:18</td>\n",
       "      <td>1604.0</td>\n",
       "    </tr>\n",
       "  </tbody>\n",
       "</table>\n",
       "</div>"
      ],
      "text/plain": [
       "   key         Время замера  Температура\n",
       "0    1  2019-05-03 11:02:04       1571.0\n",
       "1    1  2019-05-03 11:07:18       1604.0"
      ]
     },
     "execution_count": 14,
     "metadata": {},
     "output_type": "execute_result"
    }
   ],
   "source": [
    "try:\n",
    "    df_t = pd.read_csv('data_temp_new.csv')\n",
    "except:    \n",
    "    df_t = pd.read_csv('/datasets/data_temp_new.csv')\n",
    "df_t.head(2)"
   ]
  },
  {
   "cell_type": "code",
   "execution_count": 15,
   "id": "e30282da-6535-4133-a86e-1d1b05627bbe",
   "metadata": {
    "scrolled": true
   },
   "outputs": [
    {
     "data": {
      "text/plain": [
       "(14665, 3)"
      ]
     },
     "execution_count": 15,
     "metadata": {},
     "output_type": "execute_result"
    }
   ],
   "source": [
    "df_t = df_t.dropna()\n",
    "df_t.shape"
   ]
  },
  {
   "cell_type": "code",
   "execution_count": 16,
   "id": "b0152df2-b67c-4f07-a75e-1af147ef8c32",
   "metadata": {},
   "outputs": [
    {
     "name": "stdout",
     "output_type": "stream",
     "text": [
      "<class 'pandas.core.frame.DataFrame'>\n",
      "Int64Index: 14665 entries, 0 to 18086\n",
      "Data columns (total 3 columns):\n",
      " #   Column        Non-Null Count  Dtype  \n",
      "---  ------        --------------  -----  \n",
      " 0   key           14665 non-null  int64  \n",
      " 1   Время замера  14665 non-null  object \n",
      " 2   Температура   14665 non-null  float64\n",
      "dtypes: float64(1), int64(1), object(1)\n",
      "memory usage: 458.3+ KB\n"
     ]
    }
   ],
   "source": [
    "df_t.info()"
   ]
  },
  {
   "cell_type": "code",
   "execution_count": 17,
   "id": "1128a40f-e4e9-4466-adff-0b2af75988fd",
   "metadata": {},
   "outputs": [
    {
     "data": {
      "text/html": [
       "<div>\n",
       "<style scoped>\n",
       "    .dataframe tbody tr th:only-of-type {\n",
       "        vertical-align: middle;\n",
       "    }\n",
       "\n",
       "    .dataframe tbody tr th {\n",
       "        vertical-align: top;\n",
       "    }\n",
       "\n",
       "    .dataframe thead th {\n",
       "        text-align: right;\n",
       "    }\n",
       "</style>\n",
       "<table border=\"1\" class=\"dataframe\">\n",
       "  <thead>\n",
       "    <tr style=\"text-align: right;\">\n",
       "      <th></th>\n",
       "      <th>key</th>\n",
       "      <th>Температура</th>\n",
       "    </tr>\n",
       "  </thead>\n",
       "  <tbody>\n",
       "    <tr>\n",
       "      <th>count</th>\n",
       "      <td>14665.000000</td>\n",
       "      <td>14665.000000</td>\n",
       "    </tr>\n",
       "    <tr>\n",
       "      <th>mean</th>\n",
       "      <td>1325.484214</td>\n",
       "      <td>1590.722741</td>\n",
       "    </tr>\n",
       "    <tr>\n",
       "      <th>std</th>\n",
       "      <td>787.375969</td>\n",
       "      <td>20.394381</td>\n",
       "    </tr>\n",
       "    <tr>\n",
       "      <th>min</th>\n",
       "      <td>1.000000</td>\n",
       "      <td>1191.000000</td>\n",
       "    </tr>\n",
       "    <tr>\n",
       "      <th>25%</th>\n",
       "      <td>654.000000</td>\n",
       "      <td>1580.000000</td>\n",
       "    </tr>\n",
       "    <tr>\n",
       "      <th>50%</th>\n",
       "      <td>1314.000000</td>\n",
       "      <td>1590.000000</td>\n",
       "    </tr>\n",
       "    <tr>\n",
       "      <th>75%</th>\n",
       "      <td>1963.000000</td>\n",
       "      <td>1599.000000</td>\n",
       "    </tr>\n",
       "    <tr>\n",
       "      <th>max</th>\n",
       "      <td>3241.000000</td>\n",
       "      <td>1705.000000</td>\n",
       "    </tr>\n",
       "  </tbody>\n",
       "</table>\n",
       "</div>"
      ],
      "text/plain": [
       "                key   Температура\n",
       "count  14665.000000  14665.000000\n",
       "mean    1325.484214   1590.722741\n",
       "std      787.375969     20.394381\n",
       "min        1.000000   1191.000000\n",
       "25%      654.000000   1580.000000\n",
       "50%     1314.000000   1590.000000\n",
       "75%     1963.000000   1599.000000\n",
       "max     3241.000000   1705.000000"
      ]
     },
     "execution_count": 17,
     "metadata": {},
     "output_type": "execute_result"
    }
   ],
   "source": [
    "df_t.describe()"
   ]
  },
  {
   "cell_type": "code",
   "execution_count": 18,
   "id": "5f72759c-4d76-47cc-888a-e81ce20ff4cb",
   "metadata": {},
   "outputs": [
    {
     "data": {
      "text/plain": [
       "array([   1,    2,    3, ..., 3239, 3240, 3241], dtype=int64)"
      ]
     },
     "execution_count": 18,
     "metadata": {},
     "output_type": "execute_result"
    }
   ],
   "source": [
    "df_t['key'].unique()"
   ]
  },
  {
   "cell_type": "markdown",
   "id": "1554e09a-5ccb-410e-a27e-7be107f438fe",
   "metadata": {},
   "source": [
    "* Конечная температура сплава является целевым признаком\n",
    "* Датафрейм содержит пропуски в признаке температуры, которые невозможно заполнить. Соответствующие строки были удалены. "
   ]
  },
  {
   "cell_type": "markdown",
   "id": "50af757a-c8b3-4494-a4f4-4a2143eca10b",
   "metadata": {},
   "source": [
    "### Данные о проволочных материалах (объём)"
   ]
  },
  {
   "cell_type": "code",
   "execution_count": 19,
   "id": "25175bb4-ae63-4ab7-ade1-4fcb0175073c",
   "metadata": {
    "scrolled": true
   },
   "outputs": [
    {
     "data": {
      "text/html": [
       "<div>\n",
       "<style scoped>\n",
       "    .dataframe tbody tr th:only-of-type {\n",
       "        vertical-align: middle;\n",
       "    }\n",
       "\n",
       "    .dataframe tbody tr th {\n",
       "        vertical-align: top;\n",
       "    }\n",
       "\n",
       "    .dataframe thead th {\n",
       "        text-align: right;\n",
       "    }\n",
       "</style>\n",
       "<table border=\"1\" class=\"dataframe\">\n",
       "  <thead>\n",
       "    <tr style=\"text-align: right;\">\n",
       "      <th></th>\n",
       "      <th>key</th>\n",
       "      <th>Wire 1</th>\n",
       "      <th>Wire 2</th>\n",
       "      <th>Wire 3</th>\n",
       "      <th>Wire 4</th>\n",
       "      <th>Wire 5</th>\n",
       "      <th>Wire 6</th>\n",
       "      <th>Wire 7</th>\n",
       "      <th>Wire 8</th>\n",
       "      <th>Wire 9</th>\n",
       "    </tr>\n",
       "  </thead>\n",
       "  <tbody>\n",
       "    <tr>\n",
       "      <th>0</th>\n",
       "      <td>1</td>\n",
       "      <td>60.059998</td>\n",
       "      <td>NaN</td>\n",
       "      <td>NaN</td>\n",
       "      <td>NaN</td>\n",
       "      <td>NaN</td>\n",
       "      <td>NaN</td>\n",
       "      <td>NaN</td>\n",
       "      <td>NaN</td>\n",
       "      <td>NaN</td>\n",
       "    </tr>\n",
       "    <tr>\n",
       "      <th>1</th>\n",
       "      <td>2</td>\n",
       "      <td>96.052315</td>\n",
       "      <td>NaN</td>\n",
       "      <td>NaN</td>\n",
       "      <td>NaN</td>\n",
       "      <td>NaN</td>\n",
       "      <td>NaN</td>\n",
       "      <td>NaN</td>\n",
       "      <td>NaN</td>\n",
       "      <td>NaN</td>\n",
       "    </tr>\n",
       "  </tbody>\n",
       "</table>\n",
       "</div>"
      ],
      "text/plain": [
       "   key     Wire 1  Wire 2  Wire 3  Wire 4  Wire 5  Wire 6  Wire 7  Wire 8  \\\n",
       "0    1  60.059998     NaN     NaN     NaN     NaN     NaN     NaN     NaN   \n",
       "1    2  96.052315     NaN     NaN     NaN     NaN     NaN     NaN     NaN   \n",
       "\n",
       "   Wire 9  \n",
       "0     NaN  \n",
       "1     NaN  "
      ]
     },
     "execution_count": 19,
     "metadata": {},
     "output_type": "execute_result"
    }
   ],
   "source": [
    "try:\n",
    "    df_wire = pd.read_csv('data_wire_new.csv')\n",
    "except:\n",
    "    df_wire = pd.read_csv('/datasets/data_wire_new.csv')\n",
    "df_wire.head(2)"
   ]
  },
  {
   "cell_type": "code",
   "execution_count": 20,
   "id": "d5b7cb71-4c7e-4587-a06d-533b17220303",
   "metadata": {},
   "outputs": [
    {
     "name": "stdout",
     "output_type": "stream",
     "text": [
      "<class 'pandas.core.frame.DataFrame'>\n",
      "RangeIndex: 3081 entries, 0 to 3080\n",
      "Data columns (total 10 columns):\n",
      " #   Column  Non-Null Count  Dtype  \n",
      "---  ------  --------------  -----  \n",
      " 0   key     3081 non-null   int64  \n",
      " 1   Wire 1  3055 non-null   float64\n",
      " 2   Wire 2  1079 non-null   float64\n",
      " 3   Wire 3  63 non-null     float64\n",
      " 4   Wire 4  14 non-null     float64\n",
      " 5   Wire 5  1 non-null      float64\n",
      " 6   Wire 6  73 non-null     float64\n",
      " 7   Wire 7  11 non-null     float64\n",
      " 8   Wire 8  19 non-null     float64\n",
      " 9   Wire 9  29 non-null     float64\n",
      "dtypes: float64(9), int64(1)\n",
      "memory usage: 240.8 KB\n"
     ]
    }
   ],
   "source": [
    "df_wire.info()"
   ]
  },
  {
   "cell_type": "code",
   "execution_count": 21,
   "id": "dec08a24-b398-42dd-b4f3-62693735c96e",
   "metadata": {},
   "outputs": [
    {
     "data": {
      "text/html": [
       "<div>\n",
       "<style scoped>\n",
       "    .dataframe tbody tr th:only-of-type {\n",
       "        vertical-align: middle;\n",
       "    }\n",
       "\n",
       "    .dataframe tbody tr th {\n",
       "        vertical-align: top;\n",
       "    }\n",
       "\n",
       "    .dataframe thead th {\n",
       "        text-align: right;\n",
       "    }\n",
       "</style>\n",
       "<table border=\"1\" class=\"dataframe\">\n",
       "  <thead>\n",
       "    <tr style=\"text-align: right;\">\n",
       "      <th></th>\n",
       "      <th>key</th>\n",
       "      <th>Wire 1</th>\n",
       "      <th>Wire 2</th>\n",
       "      <th>Wire 3</th>\n",
       "      <th>Wire 4</th>\n",
       "      <th>Wire 5</th>\n",
       "      <th>Wire 6</th>\n",
       "      <th>Wire 7</th>\n",
       "      <th>Wire 8</th>\n",
       "      <th>Wire 9</th>\n",
       "    </tr>\n",
       "  </thead>\n",
       "  <tbody>\n",
       "    <tr>\n",
       "      <th>count</th>\n",
       "      <td>3081.000000</td>\n",
       "      <td>3055.000000</td>\n",
       "      <td>1079.000000</td>\n",
       "      <td>63.000000</td>\n",
       "      <td>14.000000</td>\n",
       "      <td>1.000</td>\n",
       "      <td>73.000000</td>\n",
       "      <td>11.000000</td>\n",
       "      <td>19.000000</td>\n",
       "      <td>29.000000</td>\n",
       "    </tr>\n",
       "    <tr>\n",
       "      <th>mean</th>\n",
       "      <td>1623.426485</td>\n",
       "      <td>100.895853</td>\n",
       "      <td>50.577323</td>\n",
       "      <td>189.482681</td>\n",
       "      <td>57.442841</td>\n",
       "      <td>15.132</td>\n",
       "      <td>48.016974</td>\n",
       "      <td>10.039007</td>\n",
       "      <td>53.625193</td>\n",
       "      <td>34.155752</td>\n",
       "    </tr>\n",
       "    <tr>\n",
       "      <th>std</th>\n",
       "      <td>932.996726</td>\n",
       "      <td>42.012518</td>\n",
       "      <td>39.320216</td>\n",
       "      <td>99.513444</td>\n",
       "      <td>28.824667</td>\n",
       "      <td>NaN</td>\n",
       "      <td>33.919845</td>\n",
       "      <td>8.610584</td>\n",
       "      <td>16.881728</td>\n",
       "      <td>19.931616</td>\n",
       "    </tr>\n",
       "    <tr>\n",
       "      <th>min</th>\n",
       "      <td>1.000000</td>\n",
       "      <td>1.918800</td>\n",
       "      <td>0.030160</td>\n",
       "      <td>0.144144</td>\n",
       "      <td>24.148801</td>\n",
       "      <td>15.132</td>\n",
       "      <td>0.034320</td>\n",
       "      <td>0.234208</td>\n",
       "      <td>45.076721</td>\n",
       "      <td>4.622800</td>\n",
       "    </tr>\n",
       "    <tr>\n",
       "      <th>25%</th>\n",
       "      <td>823.000000</td>\n",
       "      <td>72.115684</td>\n",
       "      <td>20.193680</td>\n",
       "      <td>95.135044</td>\n",
       "      <td>40.807002</td>\n",
       "      <td>15.132</td>\n",
       "      <td>25.053600</td>\n",
       "      <td>6.762756</td>\n",
       "      <td>46.094879</td>\n",
       "      <td>22.058401</td>\n",
       "    </tr>\n",
       "    <tr>\n",
       "      <th>50%</th>\n",
       "      <td>1619.000000</td>\n",
       "      <td>100.158234</td>\n",
       "      <td>40.142956</td>\n",
       "      <td>235.194977</td>\n",
       "      <td>45.234282</td>\n",
       "      <td>15.132</td>\n",
       "      <td>42.076324</td>\n",
       "      <td>9.017009</td>\n",
       "      <td>46.279999</td>\n",
       "      <td>30.066399</td>\n",
       "    </tr>\n",
       "    <tr>\n",
       "      <th>75%</th>\n",
       "      <td>2434.000000</td>\n",
       "      <td>126.060483</td>\n",
       "      <td>70.227558</td>\n",
       "      <td>276.252014</td>\n",
       "      <td>76.124619</td>\n",
       "      <td>15.132</td>\n",
       "      <td>64.212723</td>\n",
       "      <td>11.886057</td>\n",
       "      <td>48.089603</td>\n",
       "      <td>43.862003</td>\n",
       "    </tr>\n",
       "    <tr>\n",
       "      <th>max</th>\n",
       "      <td>3241.000000</td>\n",
       "      <td>330.314424</td>\n",
       "      <td>282.780152</td>\n",
       "      <td>385.008668</td>\n",
       "      <td>113.231044</td>\n",
       "      <td>15.132</td>\n",
       "      <td>180.454575</td>\n",
       "      <td>32.847674</td>\n",
       "      <td>102.762401</td>\n",
       "      <td>90.053604</td>\n",
       "    </tr>\n",
       "  </tbody>\n",
       "</table>\n",
       "</div>"
      ],
      "text/plain": [
       "               key       Wire 1       Wire 2      Wire 3      Wire 4  Wire 5  \\\n",
       "count  3081.000000  3055.000000  1079.000000   63.000000   14.000000   1.000   \n",
       "mean   1623.426485   100.895853    50.577323  189.482681   57.442841  15.132   \n",
       "std     932.996726    42.012518    39.320216   99.513444   28.824667     NaN   \n",
       "min       1.000000     1.918800     0.030160    0.144144   24.148801  15.132   \n",
       "25%     823.000000    72.115684    20.193680   95.135044   40.807002  15.132   \n",
       "50%    1619.000000   100.158234    40.142956  235.194977   45.234282  15.132   \n",
       "75%    2434.000000   126.060483    70.227558  276.252014   76.124619  15.132   \n",
       "max    3241.000000   330.314424   282.780152  385.008668  113.231044  15.132   \n",
       "\n",
       "           Wire 6     Wire 7      Wire 8     Wire 9  \n",
       "count   73.000000  11.000000   19.000000  29.000000  \n",
       "mean    48.016974  10.039007   53.625193  34.155752  \n",
       "std     33.919845   8.610584   16.881728  19.931616  \n",
       "min      0.034320   0.234208   45.076721   4.622800  \n",
       "25%     25.053600   6.762756   46.094879  22.058401  \n",
       "50%     42.076324   9.017009   46.279999  30.066399  \n",
       "75%     64.212723  11.886057   48.089603  43.862003  \n",
       "max    180.454575  32.847674  102.762401  90.053604  "
      ]
     },
     "execution_count": 21,
     "metadata": {},
     "output_type": "execute_result"
    }
   ],
   "source": [
    "df_wire.describe()"
   ]
  },
  {
   "cell_type": "markdown",
   "id": "d1125f6c-439f-4ab6-9aeb-aa8253f05647",
   "metadata": {},
   "source": [
    "* Данные содержат много пропусков. Они означают, что данного материала добавлено не было\n",
    "* Большинство признаков малоинформативны: Wire 3 - Wire 9"
   ]
  },
  {
   "cell_type": "markdown",
   "id": "31bbd136-034c-4a63-9a9d-f579427ba837",
   "metadata": {},
   "source": [
    "### Данные о проволочных материалах (время)"
   ]
  },
  {
   "cell_type": "code",
   "execution_count": 22,
   "id": "16ae33dc-9c29-4e06-ade0-c48131f73b86",
   "metadata": {},
   "outputs": [
    {
     "data": {
      "text/html": [
       "<div>\n",
       "<style scoped>\n",
       "    .dataframe tbody tr th:only-of-type {\n",
       "        vertical-align: middle;\n",
       "    }\n",
       "\n",
       "    .dataframe tbody tr th {\n",
       "        vertical-align: top;\n",
       "    }\n",
       "\n",
       "    .dataframe thead th {\n",
       "        text-align: right;\n",
       "    }\n",
       "</style>\n",
       "<table border=\"1\" class=\"dataframe\">\n",
       "  <thead>\n",
       "    <tr style=\"text-align: right;\">\n",
       "      <th></th>\n",
       "      <th>key</th>\n",
       "      <th>Wire 1</th>\n",
       "      <th>Wire 2</th>\n",
       "      <th>Wire 3</th>\n",
       "      <th>Wire 4</th>\n",
       "      <th>Wire 5</th>\n",
       "      <th>Wire 6</th>\n",
       "      <th>Wire 7</th>\n",
       "      <th>Wire 8</th>\n",
       "      <th>Wire 9</th>\n",
       "    </tr>\n",
       "  </thead>\n",
       "  <tbody>\n",
       "    <tr>\n",
       "      <th>0</th>\n",
       "      <td>1</td>\n",
       "      <td>2019-05-03 11:06:19</td>\n",
       "      <td>NaN</td>\n",
       "      <td>NaN</td>\n",
       "      <td>NaN</td>\n",
       "      <td>NaN</td>\n",
       "      <td>NaN</td>\n",
       "      <td>NaN</td>\n",
       "      <td>NaN</td>\n",
       "      <td>NaN</td>\n",
       "    </tr>\n",
       "    <tr>\n",
       "      <th>1</th>\n",
       "      <td>2</td>\n",
       "      <td>2019-05-03 11:36:50</td>\n",
       "      <td>NaN</td>\n",
       "      <td>NaN</td>\n",
       "      <td>NaN</td>\n",
       "      <td>NaN</td>\n",
       "      <td>NaN</td>\n",
       "      <td>NaN</td>\n",
       "      <td>NaN</td>\n",
       "      <td>NaN</td>\n",
       "    </tr>\n",
       "  </tbody>\n",
       "</table>\n",
       "</div>"
      ],
      "text/plain": [
       "   key               Wire 1 Wire 2 Wire 3 Wire 4 Wire 5 Wire 6 Wire 7 Wire 8  \\\n",
       "0    1  2019-05-03 11:06:19    NaN    NaN    NaN    NaN    NaN    NaN    NaN   \n",
       "1    2  2019-05-03 11:36:50    NaN    NaN    NaN    NaN    NaN    NaN    NaN   \n",
       "\n",
       "  Wire 9  \n",
       "0    NaN  \n",
       "1    NaN  "
      ]
     },
     "execution_count": 22,
     "metadata": {},
     "output_type": "execute_result"
    }
   ],
   "source": [
    "try:\n",
    "    df_wire_time = pd.read_csv('data_wire_time_new.csv')\n",
    "except:\n",
    "    df_wire_time = pd.read_csv('/datasets/data_wire_time_new.csv')\n",
    "df_wire_time.head(2)    "
   ]
  },
  {
   "cell_type": "code",
   "execution_count": 23,
   "id": "830b10cc-ee56-4648-8a4b-dc72663c127b",
   "metadata": {},
   "outputs": [
    {
     "name": "stdout",
     "output_type": "stream",
     "text": [
      "<class 'pandas.core.frame.DataFrame'>\n",
      "RangeIndex: 3081 entries, 0 to 3080\n",
      "Data columns (total 10 columns):\n",
      " #   Column  Non-Null Count  Dtype \n",
      "---  ------  --------------  ----- \n",
      " 0   key     3081 non-null   int64 \n",
      " 1   Wire 1  3055 non-null   object\n",
      " 2   Wire 2  1079 non-null   object\n",
      " 3   Wire 3  63 non-null     object\n",
      " 4   Wire 4  14 non-null     object\n",
      " 5   Wire 5  1 non-null      object\n",
      " 6   Wire 6  73 non-null     object\n",
      " 7   Wire 7  11 non-null     object\n",
      " 8   Wire 8  19 non-null     object\n",
      " 9   Wire 9  29 non-null     object\n",
      "dtypes: int64(1), object(9)\n",
      "memory usage: 240.8+ KB\n"
     ]
    }
   ],
   "source": [
    "df_wire_time.info()"
   ]
  },
  {
   "cell_type": "markdown",
   "id": "d29f4fc0-2e7c-4603-8d2a-8cd144d6fc86",
   "metadata": {},
   "source": [
    "* Данные из этой таблицы малоинформативны и в ряде аспектов поторяют данные из предыдущего датафрейма. "
   ]
  },
  {
   "cell_type": "markdown",
   "id": "56356417-2bf2-424a-8022-e13656a46e83",
   "metadata": {},
   "source": [
    "## Исследовательский анализ и предобработка данных"
   ]
  },
  {
   "cell_type": "markdown",
   "id": "e1429cb7-0cf5-409f-aed2-abf72b4ec1d5",
   "metadata": {},
   "source": [
    "Для исследования ящиком с усами возьмём не 1,5, а 3 межквартильных размаха"
   ]
  },
  {
   "cell_type": "markdown",
   "id": "86d6ceed-d0a7-447f-889c-f90501608ef7",
   "metadata": {},
   "source": [
    "### Данные об электродах"
   ]
  },
  {
   "cell_type": "code",
   "execution_count": 24,
   "id": "ff5731a4-6362-483b-b864-ba68405f888c",
   "metadata": {
    "scrolled": true
   },
   "outputs": [
    {
     "data": {
      "image/png": "[encoded data removed]",
      "text/plain": [
       "<Figure size 1000x300 with 1 Axes>"
      ]
     },
     "metadata": {},
     "output_type": "display_data"
    }
   ],
   "source": [
    "df_arc['Активная мощность'].hist(bins=50, figsize=(10, 3))\n",
    "plt.title('Активная мощность')\n",
    "plt.xlabel('мощность')\n",
    "plt.ylabel('количество измерений')\n",
    "plt.show()"
   ]
  },
  {
   "cell_type": "code",
   "execution_count": 25,
   "id": "10e0b242-a1aa-4da5-92a5-91b278e8681a",
   "metadata": {},
   "outputs": [
    {
     "data": {
      "image/png": "[encoded data removed]",
      "text/plain": [
       "<Figure size 1000x300 with 1 Axes>"
      ]
     },
     "metadata": {},
     "output_type": "display_data"
    }
   ],
   "source": [
    "df_arc['Реактивная мощность'].hist(bins=50, figsize=(10, 3))\n",
    "plt.title('Реактивная мощность')\n",
    "plt.xlabel('мощность')\n",
    "plt.ylabel('количество измерений')\n",
    "plt.show()"
   ]
  },
  {
   "cell_type": "code",
   "execution_count": 26,
   "id": "9dfb838f-f290-4008-a3d8-bfbe02c4074e",
   "metadata": {},
   "outputs": [
    {
     "data": {
      "text/plain": [
       "1"
      ]
     },
     "execution_count": 26,
     "metadata": {},
     "output_type": "execute_result"
    }
   ],
   "source": [
    "(df_arc['Реактивная мощность'] < 0).sum()"
   ]
  },
  {
   "cell_type": "code",
   "execution_count": 30,
   "id": "5d06c14a-97a5-4181-bb5b-adb2e673b760",
   "metadata": {},
   "outputs": [
    {
     "data": {
      "image/png": "[encoded data removed]",
      "text/plain": [
       "<Figure size 1000x300 with 2 Axes>"
      ]
     },
     "metadata": {},
     "output_type": "display_data"
    }
   ],
   "source": [
    "df_arc.drop(index=df_arc.loc[df_arc['Реактивная мощность'] < 0].index, columns='key').hist(bins=50, figsize=(10, 3))\n",
    "plt.title('Реактивная мощность')\n",
    "plt.xlabel('мощность')\n",
    "plt.ylabel('количество измерений')\n",
    "plt.show()"
   ]
  },
  {
   "cell_type": "markdown",
   "id": "277313ba-99cd-476a-854d-ee8c3af04255",
   "metadata": {},
   "source": [
    "**Полная мощность**"
   ]
  },
  {
   "cell_type": "code",
   "execution_count": 31,
   "id": "575478d3-1f24-45e4-b93f-e5bc37fb8803",
   "metadata": {},
   "outputs": [],
   "source": [
    "df_arc['Полная мощность'] = (df_arc['Активная мощность'] ** 2 + df_arc['Реактивная мощность'] ** 2) ** 0.5"
   ]
  },
  {
   "cell_type": "code",
   "execution_count": 32,
   "id": "74c33ec3-bb34-4ea1-975e-095011ab01eb",
   "metadata": {},
   "outputs": [],
   "source": [
    "df_arc_mean = df_arc.drop(columns=['Начало нагрева дугой','Конец нагрева дугой']).groupby('key').mean().reset_index()\n"
   ]
  },
  {
   "cell_type": "code",
   "execution_count": 33,
   "id": "98b39964-b138-45f1-b13b-572b43c24fb2",
   "metadata": {
    "scrolled": true
   },
   "outputs": [
    {
     "data": {
      "text/html": [
       "<div>\n",
       "<style scoped>\n",
       "    .dataframe tbody tr th:only-of-type {\n",
       "        vertical-align: middle;\n",
       "    }\n",
       "\n",
       "    .dataframe tbody tr th {\n",
       "        vertical-align: top;\n",
       "    }\n",
       "\n",
       "    .dataframe thead th {\n",
       "        text-align: right;\n",
       "    }\n",
       "</style>\n",
       "<table border=\"1\" class=\"dataframe\">\n",
       "  <thead>\n",
       "    <tr style=\"text-align: right;\">\n",
       "      <th></th>\n",
       "      <th>key</th>\n",
       "      <th>Активная мощность</th>\n",
       "      <th>Реактивная мощность</th>\n",
       "      <th>Полная мощность</th>\n",
       "    </tr>\n",
       "  </thead>\n",
       "  <tbody>\n",
       "    <tr>\n",
       "      <th>0</th>\n",
       "      <td>1</td>\n",
       "      <td>0.607346</td>\n",
       "      <td>0.428564</td>\n",
       "      <td>0.743747</td>\n",
       "    </tr>\n",
       "    <tr>\n",
       "      <th>1</th>\n",
       "      <td>2</td>\n",
       "      <td>0.534852</td>\n",
       "      <td>0.363339</td>\n",
       "      <td>0.647087</td>\n",
       "    </tr>\n",
       "    <tr>\n",
       "      <th>2</th>\n",
       "      <td>3</td>\n",
       "      <td>0.812728</td>\n",
       "      <td>0.587491</td>\n",
       "      <td>1.003845</td>\n",
       "    </tr>\n",
       "    <tr>\n",
       "      <th>3</th>\n",
       "      <td>4</td>\n",
       "      <td>0.676622</td>\n",
       "      <td>0.514248</td>\n",
       "      <td>0.850010</td>\n",
       "    </tr>\n",
       "    <tr>\n",
       "      <th>4</th>\n",
       "      <td>5</td>\n",
       "      <td>0.563238</td>\n",
       "      <td>0.421998</td>\n",
       "      <td>0.704245</td>\n",
       "    </tr>\n",
       "  </tbody>\n",
       "</table>\n",
       "</div>"
      ],
      "text/plain": [
       "   key  Активная мощность  Реактивная мощность  Полная мощность\n",
       "0    1           0.607346             0.428564         0.743747\n",
       "1    2           0.534852             0.363339         0.647087\n",
       "2    3           0.812728             0.587491         1.003845\n",
       "3    4           0.676622             0.514248         0.850010\n",
       "4    5           0.563238             0.421998         0.704245"
      ]
     },
     "execution_count": 33,
     "metadata": {},
     "output_type": "execute_result"
    }
   ],
   "source": [
    "df_arc_mean.head()"
   ]
  },
  {
   "cell_type": "code",
   "execution_count": 34,
   "id": "c46d9f93-4ba2-4e7d-a4d8-c79e6d339b4f",
   "metadata": {},
   "outputs": [
    {
     "data": {
      "image/png": "[encoded data removed]",
      "text/plain": [
       "<Figure size 1000x300 with 1 Axes>"
      ]
     },
     "metadata": {},
     "output_type": "display_data"
    }
   ],
   "source": [
    "df_arc.drop(df_arc.loc[df_arc['Реактивная мощность'] < 0].index)['Полная мощность'].hist(bins=50, figsize=(10, 3))\n",
    "plt.title('Полная мощность')\n",
    "plt.xlabel('мощность')\n",
    "plt.ylabel('количество измерений')\n",
    "plt.show()"
   ]
  },
  {
   "cell_type": "code",
   "execution_count": 35,
   "id": "c71a78dd-a95e-47ab-8603-e4575cc48707",
   "metadata": {},
   "outputs": [
    {
     "data": {
      "image/png": "[encoded data removed]",
      "text/plain": [
       "<Figure size 640x480 with 1 Axes>"
      ]
     },
     "metadata": {},
     "output_type": "display_data"
    }
   ],
   "source": [
    "plt.boxplot(df_arc.drop(df_arc.loc[df_arc['Реактивная мощность'] < 0].index)['Полная мощность'])\n",
    "plt.title('Определение выбросов для полной мощности')\n",
    "plt.show()"
   ]
  },
  {
   "cell_type": "markdown",
   "id": "78787219-e164-4772-8055-646beeb71ec7",
   "metadata": {},
   "source": [
    "Среди выбросов нет аномально выделяющихся значений, значит, избавляться от этой части информации нельзя. \n"
   ]
  },
  {
   "cell_type": "markdown",
   "id": "715214e0-aba1-4af2-960d-718793ac3c05",
   "metadata": {},
   "source": [
    "**Время нагрева дугой**"
   ]
  },
  {
   "cell_type": "code",
   "execution_count": 36,
   "id": "0fabd516-e8e8-4d9b-b766-d231f8e4d414",
   "metadata": {},
   "outputs": [],
   "source": [
    "df_arc['Начало нагрева дугой'] = pd.to_datetime(df_arc['Начало нагрева дугой'])"
   ]
  },
  {
   "cell_type": "code",
   "execution_count": 37,
   "id": "288c310a-caec-476f-9409-48a5ba9f42fe",
   "metadata": {},
   "outputs": [],
   "source": [
    "df_arc['Конец нагрева дугой'] = pd.to_datetime(df_arc['Конец нагрева дугой'])"
   ]
  },
  {
   "cell_type": "code",
   "execution_count": 38,
   "id": "90e183af-4d73-4c85-a12f-327af11618f0",
   "metadata": {},
   "outputs": [],
   "source": [
    "df_arc['Время нагрева дугой'] = (df_arc['Конец нагрева дугой'] - df_arc['Начало нагрева дугой'])\\\n",
    "                                .apply(lambda x: x.total_seconds())"
   ]
  },
  {
   "cell_type": "code",
   "execution_count": 39,
   "id": "5c5051fb-a910-4fa1-9947-4322dc7222ec",
   "metadata": {},
   "outputs": [
    {
     "data": {
      "text/html": [
       "<div>\n",
       "<style scoped>\n",
       "    .dataframe tbody tr th:only-of-type {\n",
       "        vertical-align: middle;\n",
       "    }\n",
       "\n",
       "    .dataframe tbody tr th {\n",
       "        vertical-align: top;\n",
       "    }\n",
       "\n",
       "    .dataframe thead th {\n",
       "        text-align: right;\n",
       "    }\n",
       "</style>\n",
       "<table border=\"1\" class=\"dataframe\">\n",
       "  <thead>\n",
       "    <tr style=\"text-align: right;\">\n",
       "      <th></th>\n",
       "      <th>key</th>\n",
       "      <th>Время нагрева дугой</th>\n",
       "    </tr>\n",
       "  </thead>\n",
       "  <tbody>\n",
       "    <tr>\n",
       "      <th>0</th>\n",
       "      <td>1</td>\n",
       "      <td>228.0</td>\n",
       "    </tr>\n",
       "    <tr>\n",
       "      <th>1</th>\n",
       "      <td>1</td>\n",
       "      <td>185.0</td>\n",
       "    </tr>\n",
       "    <tr>\n",
       "      <th>2</th>\n",
       "      <td>1</td>\n",
       "      <td>172.0</td>\n",
       "    </tr>\n",
       "    <tr>\n",
       "      <th>3</th>\n",
       "      <td>1</td>\n",
       "      <td>365.0</td>\n",
       "    </tr>\n",
       "    <tr>\n",
       "      <th>4</th>\n",
       "      <td>1</td>\n",
       "      <td>148.0</td>\n",
       "    </tr>\n",
       "    <tr>\n",
       "      <th>5</th>\n",
       "      <td>2</td>\n",
       "      <td>137.0</td>\n",
       "    </tr>\n",
       "    <tr>\n",
       "      <th>6</th>\n",
       "      <td>2</td>\n",
       "      <td>338.0</td>\n",
       "    </tr>\n",
       "    <tr>\n",
       "      <th>7</th>\n",
       "      <td>2</td>\n",
       "      <td>126.0</td>\n",
       "    </tr>\n",
       "    <tr>\n",
       "      <th>8</th>\n",
       "      <td>2</td>\n",
       "      <td>210.0</td>\n",
       "    </tr>\n",
       "    <tr>\n",
       "      <th>9</th>\n",
       "      <td>3</td>\n",
       "      <td>280.0</td>\n",
       "    </tr>\n",
       "  </tbody>\n",
       "</table>\n",
       "</div>"
      ],
      "text/plain": [
       "   key  Время нагрева дугой\n",
       "0    1                228.0\n",
       "1    1                185.0\n",
       "2    1                172.0\n",
       "3    1                365.0\n",
       "4    1                148.0\n",
       "5    2                137.0\n",
       "6    2                338.0\n",
       "7    2                126.0\n",
       "8    2                210.0\n",
       "9    3                280.0"
      ]
     },
     "execution_count": 39,
     "metadata": {},
     "output_type": "execute_result"
    }
   ],
   "source": [
    "df_arc.loc[:, ['key','Время нагрева дугой']].head(10)"
   ]
  },
  {
   "cell_type": "code",
   "execution_count": 40,
   "id": "10f6bc48-7d76-4036-a34e-603338b57931",
   "metadata": {},
   "outputs": [
    {
     "data": {
      "image/png": "[encoded data removed]",
      "text/plain": [
       "<Figure size 1000x300 with 1 Axes>"
      ]
     },
     "metadata": {},
     "output_type": "display_data"
    }
   ],
   "source": [
    "df_arc['Время нагрева дугой'].hist(bins=50, figsize=(10, 3))\n",
    "plt.title('Время нагрева дугой')\n",
    "plt.xlabel('время, с')\n",
    "plt.ylabel('количество измерений')\n",
    "plt.show()"
   ]
  },
  {
   "cell_type": "code",
   "execution_count": 41,
   "id": "b22008e3-a13a-4494-819c-4f9c9f74efb7",
   "metadata": {
    "scrolled": true
   },
   "outputs": [
    {
     "data": {
      "image/png": "[encoded data removed]",
      "text/plain": [
       "<Figure size 1000x300 with 1 Axes>"
      ]
     },
     "metadata": {},
     "output_type": "display_data"
    }
   ],
   "source": [
    "plt.figure(figsize=(10, 3))\n",
    "plt.boxplot(df_arc['Время нагрева дугой'], vert=False, whis=3)\n",
    "plt.title('Определение выбросов для времени нагрева дугой')\n",
    "plt.show()"
   ]
  },
  {
   "cell_type": "markdown",
   "id": "c391b69b-d030-446c-883a-39e482b79ee1",
   "metadata": {},
   "source": [
    "Теоретически, такое время возможно"
   ]
  },
  {
   "cell_type": "markdown",
   "id": "7a49525b-09f7-4420-be5d-c1e0e4300ca2",
   "metadata": {},
   "source": [
    "**Совершенная работа**"
   ]
  },
  {
   "cell_type": "code",
   "execution_count": 42,
   "id": "c2f0f51b-2352-4be6-bcc2-a7af5d93d116",
   "metadata": {},
   "outputs": [],
   "source": [
    "df_arc['Работа'] = df_arc['Время нагрева дугой'] * df_arc['Полная мощность']"
   ]
  },
  {
   "cell_type": "code",
   "execution_count": 43,
   "id": "006c51d5-ec60-4c00-9319-02a7028f0fee",
   "metadata": {
    "scrolled": true
   },
   "outputs": [
    {
     "data": {
      "text/html": [
       "<div>\n",
       "<style scoped>\n",
       "    .dataframe tbody tr th:only-of-type {\n",
       "        vertical-align: middle;\n",
       "    }\n",
       "\n",
       "    .dataframe tbody tr th {\n",
       "        vertical-align: top;\n",
       "    }\n",
       "\n",
       "    .dataframe thead th {\n",
       "        text-align: right;\n",
       "    }\n",
       "</style>\n",
       "<table border=\"1\" class=\"dataframe\">\n",
       "  <thead>\n",
       "    <tr style=\"text-align: right;\">\n",
       "      <th></th>\n",
       "      <th>key</th>\n",
       "      <th>Время нагрева дугой</th>\n",
       "      <th>Работа</th>\n",
       "      <th>Полная мощность</th>\n",
       "    </tr>\n",
       "  </thead>\n",
       "  <tbody>\n",
       "    <tr>\n",
       "      <th>0</th>\n",
       "      <td>1</td>\n",
       "      <td>1098.0</td>\n",
       "      <td>770.282114</td>\n",
       "      <td>3.718736</td>\n",
       "    </tr>\n",
       "    <tr>\n",
       "      <th>1</th>\n",
       "      <td>2</td>\n",
       "      <td>811.0</td>\n",
       "      <td>481.760005</td>\n",
       "      <td>2.588349</td>\n",
       "    </tr>\n",
       "    <tr>\n",
       "      <th>2</th>\n",
       "      <td>3</td>\n",
       "      <td>655.0</td>\n",
       "      <td>722.837668</td>\n",
       "      <td>5.019223</td>\n",
       "    </tr>\n",
       "    <tr>\n",
       "      <th>3</th>\n",
       "      <td>4</td>\n",
       "      <td>741.0</td>\n",
       "      <td>683.455597</td>\n",
       "      <td>3.400038</td>\n",
       "    </tr>\n",
       "    <tr>\n",
       "      <th>4</th>\n",
       "      <td>5</td>\n",
       "      <td>869.0</td>\n",
       "      <td>512.169934</td>\n",
       "      <td>2.816980</td>\n",
       "    </tr>\n",
       "  </tbody>\n",
       "</table>\n",
       "</div>"
      ],
      "text/plain": [
       "   key  Время нагрева дугой      Работа  Полная мощность\n",
       "0    1               1098.0  770.282114         3.718736\n",
       "1    2                811.0  481.760005         2.588349\n",
       "2    3                655.0  722.837668         5.019223\n",
       "3    4                741.0  683.455597         3.400038\n",
       "4    5                869.0  512.169934         2.816980"
      ]
     },
     "execution_count": 43,
     "metadata": {},
     "output_type": "execute_result"
    }
   ],
   "source": [
    "df_arc_new = df_arc.groupby('key')[['Время нагрева дугой', 'Работа', 'Полная мощность']].sum().reset_index()\n",
    "df_arc_new.head()"
   ]
  },
  {
   "cell_type": "code",
   "execution_count": 44,
   "id": "4d460a06-3b2e-498e-acc5-4509f35bf615",
   "metadata": {
    "scrolled": true
   },
   "outputs": [
    {
     "data": {
      "image/png": "[encoded data removed]",
      "text/plain": [
       "<Figure size 1000x300 with 1 Axes>"
      ]
     },
     "metadata": {},
     "output_type": "display_data"
    }
   ],
   "source": [
    "df_arc['Работа'].drop(df_arc.loc[df_arc['Реактивная мощность'] < 0].index).hist(bins=50, figsize=(10, 3))\n",
    "plt.title('Работа, совершенная электродами')\n",
    "plt.xlabel('работа')\n",
    "plt.ylabel('количество измерений')\n",
    "plt.show()"
   ]
  },
  {
   "cell_type": "markdown",
   "id": "badc01a6-ca9e-48ae-8a5b-f42b4715ca87",
   "metadata": {},
   "source": [
    "теоретически, такое время возможно"
   ]
  },
  {
   "cell_type": "code",
   "execution_count": 45,
   "id": "626ea663-442e-4827-bef7-758e10263e63",
   "metadata": {},
   "outputs": [
    {
     "data": {
      "image/png": "[encoded data removed]",
      "text/plain": [
       "<Figure size 1000x300 with 1 Axes>"
      ]
     },
     "metadata": {},
     "output_type": "display_data"
    }
   ],
   "source": [
    "plt.figure(figsize=(10, 3))\n",
    "plt.boxplot(df_arc['Работа'].drop(df_arc.loc[df_arc['Реактивная мощность'] < 0].index), vert=False, whis=3)\n",
    "plt.title('Определение выбросов для работы нагрева дугой')\n",
    "plt.show()"
   ]
  },
  {
   "cell_type": "code",
   "execution_count": 46,
   "id": "2c098eb2-5f13-46ae-8f35-3087fea1368d",
   "metadata": {},
   "outputs": [
    {
     "data": {
      "text/plain": [
       "(3214, 4)"
      ]
     },
     "execution_count": 46,
     "metadata": {},
     "output_type": "execute_result"
    }
   ],
   "source": [
    "df_arc_new.shape"
   ]
  },
  {
   "cell_type": "markdown",
   "id": "e0f9a1cc-8acf-4a41-90c6-490676ae19bc",
   "metadata": {},
   "source": [
    "Впоследствии данные будут объединяться пересечением, и в итоговую выборку войдут ковши с полными и верными данными."
   ]
  },
  {
   "cell_type": "code",
   "execution_count": 49,
   "id": "09ca8fcc-6d58-48aa-9dc5-a681e63a90de",
   "metadata": {},
   "outputs": [
    {
     "data": {
      "text/html": [
       "<div>\n",
       "<style scoped>\n",
       "    .dataframe tbody tr th:only-of-type {\n",
       "        vertical-align: middle;\n",
       "    }\n",
       "\n",
       "    .dataframe tbody tr th {\n",
       "        vertical-align: top;\n",
       "    }\n",
       "\n",
       "    .dataframe thead th {\n",
       "        text-align: right;\n",
       "    }\n",
       "</style>\n",
       "<table border=\"1\" class=\"dataframe\">\n",
       "  <thead>\n",
       "    <tr style=\"text-align: right;\">\n",
       "      <th></th>\n",
       "      <th>key</th>\n",
       "      <th>Время нагрева дугой</th>\n",
       "      <th>Работа</th>\n",
       "      <th>Полная мощность</th>\n",
       "    </tr>\n",
       "  </thead>\n",
       "  <tbody>\n",
       "    <tr>\n",
       "      <th>0</th>\n",
       "      <td>1</td>\n",
       "      <td>1098.0</td>\n",
       "      <td>770.282114</td>\n",
       "      <td>3.718736</td>\n",
       "    </tr>\n",
       "    <tr>\n",
       "      <th>1</th>\n",
       "      <td>2</td>\n",
       "      <td>811.0</td>\n",
       "      <td>481.760005</td>\n",
       "      <td>2.588349</td>\n",
       "    </tr>\n",
       "    <tr>\n",
       "      <th>2</th>\n",
       "      <td>3</td>\n",
       "      <td>655.0</td>\n",
       "      <td>722.837668</td>\n",
       "      <td>5.019223</td>\n",
       "    </tr>\n",
       "    <tr>\n",
       "      <th>3</th>\n",
       "      <td>4</td>\n",
       "      <td>741.0</td>\n",
       "      <td>683.455597</td>\n",
       "      <td>3.400038</td>\n",
       "    </tr>\n",
       "    <tr>\n",
       "      <th>4</th>\n",
       "      <td>5</td>\n",
       "      <td>869.0</td>\n",
       "      <td>512.169934</td>\n",
       "      <td>2.816980</td>\n",
       "    </tr>\n",
       "    <tr>\n",
       "      <th>...</th>\n",
       "      <td>...</td>\n",
       "      <td>...</td>\n",
       "      <td>...</td>\n",
       "      <td>...</td>\n",
       "    </tr>\n",
       "    <tr>\n",
       "      <th>3209</th>\n",
       "      <td>3237</td>\n",
       "      <td>909.0</td>\n",
       "      <td>630.503534</td>\n",
       "      <td>3.250657</td>\n",
       "    </tr>\n",
       "    <tr>\n",
       "      <th>3210</th>\n",
       "      <td>3238</td>\n",
       "      <td>546.0</td>\n",
       "      <td>286.052252</td>\n",
       "      <td>1.723937</td>\n",
       "    </tr>\n",
       "    <tr>\n",
       "      <th>3211</th>\n",
       "      <td>3239</td>\n",
       "      <td>1216.0</td>\n",
       "      <td>941.538764</td>\n",
       "      <td>6.014480</td>\n",
       "    </tr>\n",
       "    <tr>\n",
       "      <th>3212</th>\n",
       "      <td>3240</td>\n",
       "      <td>839.0</td>\n",
       "      <td>657.439848</td>\n",
       "      <td>4.082920</td>\n",
       "    </tr>\n",
       "    <tr>\n",
       "      <th>3213</th>\n",
       "      <td>3241</td>\n",
       "      <td>659.0</td>\n",
       "      <td>538.258300</td>\n",
       "      <td>3.722880</td>\n",
       "    </tr>\n",
       "  </tbody>\n",
       "</table>\n",
       "<p>3213 rows × 4 columns</p>\n",
       "</div>"
      ],
      "text/plain": [
       "       key  Время нагрева дугой      Работа  Полная мощность\n",
       "0        1               1098.0  770.282114         3.718736\n",
       "1        2                811.0  481.760005         2.588349\n",
       "2        3                655.0  722.837668         5.019223\n",
       "3        4                741.0  683.455597         3.400038\n",
       "4        5                869.0  512.169934         2.816980\n",
       "...    ...                  ...         ...              ...\n",
       "3209  3237                909.0  630.503534         3.250657\n",
       "3210  3238                546.0  286.052252         1.723937\n",
       "3211  3239               1216.0  941.538764         6.014480\n",
       "3212  3240                839.0  657.439848         4.082920\n",
       "3213  3241                659.0  538.258300         3.722880\n",
       "\n",
       "[3213 rows x 4 columns]"
      ]
     },
     "execution_count": 49,
     "metadata": {},
     "output_type": "execute_result"
    }
   ],
   "source": [
    "df_arc_new"
   ]
  },
  {
   "cell_type": "markdown",
   "id": "4bd1e92e-705c-4b1f-8f8f-b892c278def4",
   "metadata": {},
   "source": [
    "### Данные о подаче сыпучих материалов "
   ]
  },
  {
   "cell_type": "code",
   "execution_count": 50,
   "id": "b8e86660-d4e7-401a-b5dd-004d2312bceb",
   "metadata": {},
   "outputs": [],
   "source": [
    "df_bulk['bulk_count'] = df_bulk.drop(columns='key').notna().sum(axis=1)"
   ]
  },
  {
   "cell_type": "code",
   "execution_count": 51,
   "id": "b5618c95-933a-43e8-9c84-a169cc75b8bf",
   "metadata": {},
   "outputs": [
    {
     "data": {
      "text/plain": [
       "key           3129\n",
       "Bulk 1         252\n",
       "Bulk 2          22\n",
       "Bulk 3        1298\n",
       "Bulk 4        1014\n",
       "Bulk 5          77\n",
       "Bulk 6         576\n",
       "Bulk 7          25\n",
       "Bulk 8           1\n",
       "Bulk 9          19\n",
       "Bulk 10        176\n",
       "Bulk 11        177\n",
       "Bulk 12       2450\n",
       "Bulk 13         18\n",
       "Bulk 14       2806\n",
       "Bulk 15       2248\n",
       "bulk_count    3129\n",
       "dtype: int64"
      ]
     },
     "execution_count": 51,
     "metadata": {},
     "output_type": "execute_result"
    }
   ],
   "source": [
    "df_bulk.notna().sum()"
   ]
  },
  {
   "cell_type": "markdown",
   "id": "fdd4536c",
   "metadata": {},
   "source": [
    "Пропуск значений в количестве сыпучих материалов обозначает отсутствие этой добавки"
   ]
  },
  {
   "cell_type": "code",
   "execution_count": 52,
   "id": "6e4f5c83-f5d0-45ef-b553-0929a2792d51",
   "metadata": {},
   "outputs": [],
   "source": [
    "df_bulk = df_bulk.fillna(0)"
   ]
  },
  {
   "cell_type": "code",
   "execution_count": 53,
   "id": "c78f7430-cd81-4196-8854-d285c09f6b82",
   "metadata": {},
   "outputs": [],
   "source": [
    "df_bulk = df_bulk.astype('float32')"
   ]
  },
  {
   "cell_type": "code",
   "execution_count": 54,
   "id": "ff2348b4-16a6-4d94-9cf8-c7ff833c5750",
   "metadata": {},
   "outputs": [],
   "source": [
    "df_bulk['bulk_sum'] = (df_bulk['Bulk 1'] + df_bulk['Bulk 2'] + df_bulk['Bulk 3'] + df_bulk['Bulk 4'] \n",
    "                       + df_bulk['Bulk 5'] + df_bulk['Bulk 6'] + df_bulk['Bulk 7'] + df_bulk['Bulk 8'] \n",
    "                       + df_bulk['Bulk 9'] + df_bulk['Bulk 10'] + df_bulk['Bulk 11'] + df_bulk['Bulk 12'] \n",
    "                       + df_bulk['Bulk 13'] + df_bulk['Bulk 14'] + df_bulk['Bulk 15'])\n"
   ]
  },
  {
   "cell_type": "code",
   "execution_count": 55,
   "id": "7e2080a4-f3cd-46f1-9e56-32b3e7c7e4e8",
   "metadata": {},
   "outputs": [
    {
     "data": {
      "image/png": "[encoded data removed]",
      "text/plain": [
       "<Figure size 1000x300 with 1 Axes>"
      ]
     },
     "metadata": {},
     "output_type": "display_data"
    }
   ],
   "source": [
    "df_bulk['bulk_sum'].hist(bins=50, figsize=(10, 3))\n",
    "plt.title('Общий объем добавок')\n",
    "plt.xlabel('объем')\n",
    "plt.ylabel('количество измерений')\n",
    "plt.show()"
   ]
  },
  {
   "cell_type": "code",
   "execution_count": 56,
   "id": "133d0185-164d-4371-bb76-d3cb1878384e",
   "metadata": {},
   "outputs": [
    {
     "data": {
      "image/png": "[encoded data removed]",
      "text/plain": [
       "<Figure size 1000x300 with 1 Axes>"
      ]
     },
     "metadata": {},
     "output_type": "display_data"
    }
   ],
   "source": [
    "plt.figure(figsize=(10, 3))\n",
    "plt.boxplot(df_bulk['bulk_sum'], vert=False, whis=3)\n",
    "plt.title('Определение выбросов для общего объёма добавок')\n",
    "plt.show()"
   ]
  },
  {
   "cell_type": "code",
   "execution_count": 57,
   "id": "d0843502-9241-465a-b323-415e767d12ec",
   "metadata": {},
   "outputs": [],
   "source": [
    "df_bulk = df_bulk.drop(df_bulk.loc[df_bulk['bulk_sum'] > 2000].index)"
   ]
  },
  {
   "cell_type": "code",
   "execution_count": 58,
   "id": "b941f2f2-f96c-46b5-a6f8-e32ca8cbee23",
   "metadata": {},
   "outputs": [],
   "source": [
    "df_bulk = df_bulk.drop(columns=['Bulk 1', 'Bulk 2', 'Bulk 5', 'Bulk 7', 'Bulk 8', 'Bulk 9', 'Bulk 10', 'Bulk 11', 'Bulk 13'])"
   ]
  },
  {
   "cell_type": "code",
   "execution_count": 59,
   "id": "fbcc7122-7571-4701-a088-3f51dd7cc742",
   "metadata": {
    "scrolled": true
   },
   "outputs": [
    {
     "data": {
      "text/html": [
       "<div>\n",
       "<style scoped>\n",
       "    .dataframe tbody tr th:only-of-type {\n",
       "        vertical-align: middle;\n",
       "    }\n",
       "\n",
       "    .dataframe tbody tr th {\n",
       "        vertical-align: top;\n",
       "    }\n",
       "\n",
       "    .dataframe thead th {\n",
       "        text-align: right;\n",
       "    }\n",
       "</style>\n",
       "<table border=\"1\" class=\"dataframe\">\n",
       "  <thead>\n",
       "    <tr style=\"text-align: right;\">\n",
       "      <th></th>\n",
       "      <th>key</th>\n",
       "      <th>Bulk 3</th>\n",
       "      <th>Bulk 4</th>\n",
       "      <th>Bulk 6</th>\n",
       "      <th>Bulk 12</th>\n",
       "      <th>Bulk 14</th>\n",
       "      <th>Bulk 15</th>\n",
       "      <th>bulk_count</th>\n",
       "      <th>bulk_sum</th>\n",
       "    </tr>\n",
       "  </thead>\n",
       "  <tbody>\n",
       "    <tr>\n",
       "      <th>0</th>\n",
       "      <td>1.0</td>\n",
       "      <td>0.0</td>\n",
       "      <td>43.0</td>\n",
       "      <td>0.0</td>\n",
       "      <td>206.0</td>\n",
       "      <td>150.0</td>\n",
       "      <td>154.0</td>\n",
       "      <td>4.0</td>\n",
       "      <td>553.0</td>\n",
       "    </tr>\n",
       "    <tr>\n",
       "      <th>1</th>\n",
       "      <td>2.0</td>\n",
       "      <td>0.0</td>\n",
       "      <td>73.0</td>\n",
       "      <td>0.0</td>\n",
       "      <td>206.0</td>\n",
       "      <td>149.0</td>\n",
       "      <td>154.0</td>\n",
       "      <td>4.0</td>\n",
       "      <td>582.0</td>\n",
       "    </tr>\n",
       "    <tr>\n",
       "      <th>2</th>\n",
       "      <td>3.0</td>\n",
       "      <td>0.0</td>\n",
       "      <td>34.0</td>\n",
       "      <td>0.0</td>\n",
       "      <td>205.0</td>\n",
       "      <td>152.0</td>\n",
       "      <td>153.0</td>\n",
       "      <td>4.0</td>\n",
       "      <td>544.0</td>\n",
       "    </tr>\n",
       "    <tr>\n",
       "      <th>3</th>\n",
       "      <td>4.0</td>\n",
       "      <td>0.0</td>\n",
       "      <td>81.0</td>\n",
       "      <td>0.0</td>\n",
       "      <td>207.0</td>\n",
       "      <td>153.0</td>\n",
       "      <td>154.0</td>\n",
       "      <td>4.0</td>\n",
       "      <td>595.0</td>\n",
       "    </tr>\n",
       "    <tr>\n",
       "      <th>4</th>\n",
       "      <td>5.0</td>\n",
       "      <td>0.0</td>\n",
       "      <td>78.0</td>\n",
       "      <td>0.0</td>\n",
       "      <td>203.0</td>\n",
       "      <td>151.0</td>\n",
       "      <td>152.0</td>\n",
       "      <td>4.0</td>\n",
       "      <td>584.0</td>\n",
       "    </tr>\n",
       "  </tbody>\n",
       "</table>\n",
       "</div>"
      ],
      "text/plain": [
       "   key  Bulk 3  Bulk 4  Bulk 6  Bulk 12  Bulk 14  Bulk 15  bulk_count  \\\n",
       "0  1.0     0.0    43.0     0.0    206.0    150.0    154.0         4.0   \n",
       "1  2.0     0.0    73.0     0.0    206.0    149.0    154.0         4.0   \n",
       "2  3.0     0.0    34.0     0.0    205.0    152.0    153.0         4.0   \n",
       "3  4.0     0.0    81.0     0.0    207.0    153.0    154.0         4.0   \n",
       "4  5.0     0.0    78.0     0.0    203.0    151.0    152.0         4.0   \n",
       "\n",
       "   bulk_sum  \n",
       "0     553.0  \n",
       "1     582.0  \n",
       "2     544.0  \n",
       "3     595.0  \n",
       "4     584.0  "
      ]
     },
     "execution_count": 59,
     "metadata": {},
     "output_type": "execute_result"
    }
   ],
   "source": [
    "df_bulk.head()"
   ]
  },
  {
   "cell_type": "markdown",
   "id": "c0bd735d",
   "metadata": {},
   "source": [
    "В данных не учитываем аномально большой объем добавок"
   ]
  },
  {
   "cell_type": "markdown",
   "id": "9e12d438-7e61-4e0b-8594-193ee6d71b1c",
   "metadata": {},
   "source": [
    "### Объём подаваемого газа "
   ]
  },
  {
   "cell_type": "code",
   "execution_count": 60,
   "id": "5cff6246-6a72-4dd1-a418-9794c9df6f62",
   "metadata": {},
   "outputs": [
    {
     "data": {
      "image/png": "[encoded data removed]",
      "text/plain": [
       "<Figure size 1000x300 with 1 Axes>"
      ]
     },
     "metadata": {},
     "output_type": "display_data"
    }
   ],
   "source": [
    "df_gas['Газ 1'].hist(bins=50, figsize=(10, 3))\n",
    "plt.title('Общий объем поданного газа')\n",
    "plt.xlabel('объем')\n",
    "plt.ylabel('количество измерений')\n",
    "plt.show()"
   ]
  },
  {
   "cell_type": "code",
   "execution_count": 61,
   "id": "20737056-f5e8-46ab-af9c-ce5161179efe",
   "metadata": {},
   "outputs": [
    {
     "data": {
      "image/png": "[encoded data removed]",
      "text/plain": [
       "<Figure size 1000x300 with 1 Axes>"
      ]
     },
     "metadata": {},
     "output_type": "display_data"
    }
   ],
   "source": [
    "plt.figure(figsize=(10, 3))\n",
    "plt.boxplot(df_gas['Газ 1'], vert=False, whis=3)\n",
    "plt.title('Определение выбросов для общего объёма добавок')\n",
    "plt.show()"
   ]
  },
  {
   "cell_type": "markdown",
   "id": "59a873f5-37fb-41da-8c67-6cc459ca42d6",
   "metadata": {},
   "source": [
    "Большие значения объема поданного газа могут  соответствовать большому времени нагрева. "
   ]
  },
  {
   "cell_type": "code",
   "execution_count": 62,
   "id": "017c8a53-719f-4f38-a023-2e87da162848",
   "metadata": {},
   "outputs": [
    {
     "data": {
      "text/plain": [
       "2"
      ]
     },
     "execution_count": 62,
     "metadata": {},
     "output_type": "execute_result"
    }
   ],
   "source": [
    "(df_gas['Газ 1'] > 60).sum()"
   ]
  },
  {
   "cell_type": "code",
   "execution_count": 63,
   "id": "8234e24c-2988-4875-9e75-52d3ad573963",
   "metadata": {},
   "outputs": [
    {
     "data": {
      "text/plain": [
       "(3234, 2)"
      ]
     },
     "execution_count": 63,
     "metadata": {},
     "output_type": "execute_result"
    }
   ],
   "source": [
    "df_gas = df_gas.loc[df_gas['Газ 1'] < 50]\n",
    "df_gas.shape"
   ]
  },
  {
   "cell_type": "markdown",
   "id": "784ee486-ab01-426f-be78-0af0266fe61e",
   "metadata": {},
   "source": [
    "### Результаты измерения температуры"
   ]
  },
  {
   "cell_type": "code",
   "execution_count": 64,
   "id": "cf642475-0b20-484c-b32f-7fe7c8d85178",
   "metadata": {},
   "outputs": [
    {
     "data": {
      "text/plain": [
       "key             0\n",
       "Время замера    0\n",
       "Температура     0\n",
       "dtype: int64"
      ]
     },
     "execution_count": 64,
     "metadata": {},
     "output_type": "execute_result"
    }
   ],
   "source": [
    "df_t.isna().sum()"
   ]
  },
  {
   "cell_type": "markdown",
   "id": "bbe119ea-1194-4987-afb5-d152c6e77a58",
   "metadata": {},
   "source": [
    "Отбросим ковши, у которых менише 2 измерений температуры, то есть нет начальной и конечной"
   ]
  },
  {
   "cell_type": "code",
   "execution_count": 65,
   "id": "1d97e858-1979-4006-b2a4-29e5b2080c03",
   "metadata": {},
   "outputs": [
    {
     "data": {
      "text/html": [
       "<div>\n",
       "<style scoped>\n",
       "    .dataframe tbody tr th:only-of-type {\n",
       "        vertical-align: middle;\n",
       "    }\n",
       "\n",
       "    .dataframe tbody tr th {\n",
       "        vertical-align: top;\n",
       "    }\n",
       "\n",
       "    .dataframe thead th {\n",
       "        text-align: right;\n",
       "    }\n",
       "</style>\n",
       "<table border=\"1\" class=\"dataframe\">\n",
       "  <thead>\n",
       "    <tr style=\"text-align: right;\">\n",
       "      <th></th>\n",
       "      <th>key</th>\n",
       "      <th>Количество замеров</th>\n",
       "    </tr>\n",
       "  </thead>\n",
       "  <tbody>\n",
       "    <tr>\n",
       "      <th>0</th>\n",
       "      <td>1</td>\n",
       "      <td>6</td>\n",
       "    </tr>\n",
       "    <tr>\n",
       "      <th>1</th>\n",
       "      <td>2</td>\n",
       "      <td>5</td>\n",
       "    </tr>\n",
       "    <tr>\n",
       "      <th>2</th>\n",
       "      <td>3</td>\n",
       "      <td>6</td>\n",
       "    </tr>\n",
       "    <tr>\n",
       "      <th>3</th>\n",
       "      <td>4</td>\n",
       "      <td>5</td>\n",
       "    </tr>\n",
       "    <tr>\n",
       "      <th>4</th>\n",
       "      <td>5</td>\n",
       "      <td>5</td>\n",
       "    </tr>\n",
       "  </tbody>\n",
       "</table>\n",
       "</div>"
      ],
      "text/plain": [
       "   key  Количество замеров\n",
       "0    1                   6\n",
       "1    2                   5\n",
       "2    3                   6\n",
       "3    4                   5\n",
       "4    5                   5"
      ]
     },
     "execution_count": 65,
     "metadata": {},
     "output_type": "execute_result"
    }
   ],
   "source": [
    "df_t_grouped = df_t.groupby('key')['Время замера'].count().reset_index().rename(columns={'Время замера':'Количество замеров'})\n",
    "df_t_grouped.head()"
   ]
  },
  {
   "cell_type": "code",
   "execution_count": 66,
   "id": "df806bf2-98be-4f9f-b60f-661a00a10ed1",
   "metadata": {},
   "outputs": [
    {
     "data": {
      "text/plain": [
       "741"
      ]
     },
     "execution_count": 66,
     "metadata": {},
     "output_type": "execute_result"
    }
   ],
   "source": [
    "(df_t_grouped['Количество замеров'] < 2).sum()"
   ]
  },
  {
   "cell_type": "code",
   "execution_count": 67,
   "id": "bd0ce004-417e-4f06-804e-3442a162f39f",
   "metadata": {},
   "outputs": [
    {
     "data": {
      "text/plain": [
       "(2475, 2)"
      ]
     },
     "execution_count": 67,
     "metadata": {},
     "output_type": "execute_result"
    }
   ],
   "source": [
    "df_t_grouped = df_t_grouped.loc[df_t_grouped['Количество замеров'] >= 2]\n",
    "df_t_grouped.shape"
   ]
  },
  {
   "cell_type": "markdown",
   "id": "4c8b124a-4e99-4d8c-b3e6-584df74ff5e7",
   "metadata": {},
   "source": [
    "Удалены ковши, имеющие только одно измерение температуры"
   ]
  },
  {
   "cell_type": "code",
   "execution_count": 68,
   "id": "e8f735cd-2f91-4799-9b7d-6ea2f9a0af79",
   "metadata": {},
   "outputs": [
    {
     "data": {
      "text/html": [
       "<div>\n",
       "<style scoped>\n",
       "    .dataframe tbody tr th:only-of-type {\n",
       "        vertical-align: middle;\n",
       "    }\n",
       "\n",
       "    .dataframe tbody tr th {\n",
       "        vertical-align: top;\n",
       "    }\n",
       "\n",
       "    .dataframe thead th {\n",
       "        text-align: right;\n",
       "    }\n",
       "</style>\n",
       "<table border=\"1\" class=\"dataframe\">\n",
       "  <thead>\n",
       "    <tr style=\"text-align: right;\">\n",
       "      <th></th>\n",
       "      <th>key</th>\n",
       "      <th>Время замера</th>\n",
       "    </tr>\n",
       "  </thead>\n",
       "  <tbody>\n",
       "    <tr>\n",
       "      <th>0</th>\n",
       "      <td>1</td>\n",
       "      <td>2019-05-03 11:30:38</td>\n",
       "    </tr>\n",
       "    <tr>\n",
       "      <th>1</th>\n",
       "      <td>2</td>\n",
       "      <td>2019-05-03 11:55:09</td>\n",
       "    </tr>\n",
       "    <tr>\n",
       "      <th>2</th>\n",
       "      <td>3</td>\n",
       "      <td>2019-05-03 12:35:57</td>\n",
       "    </tr>\n",
       "    <tr>\n",
       "      <th>3</th>\n",
       "      <td>4</td>\n",
       "      <td>2019-05-03 12:59:47</td>\n",
       "    </tr>\n",
       "    <tr>\n",
       "      <th>4</th>\n",
       "      <td>5</td>\n",
       "      <td>2019-05-03 13:36:39</td>\n",
       "    </tr>\n",
       "  </tbody>\n",
       "</table>\n",
       "</div>"
      ],
      "text/plain": [
       "   key         Время замера\n",
       "0    1  2019-05-03 11:30:38\n",
       "1    2  2019-05-03 11:55:09\n",
       "2    3  2019-05-03 12:35:57\n",
       "3    4  2019-05-03 12:59:47\n",
       "4    5  2019-05-03 13:36:39"
      ]
     },
     "execution_count": 68,
     "metadata": {},
     "output_type": "execute_result"
    }
   ],
   "source": [
    "df_tmax = df_t.groupby('key')['Время замера'].max().reset_index()\n",
    "df_tmax.head()"
   ]
  },
  {
   "cell_type": "code",
   "execution_count": 69,
   "id": "871ae061-ae8b-4009-88fc-16ea3c7c5aa8",
   "metadata": {},
   "outputs": [],
   "source": [
    "df_tmin = df_t.groupby('key')['Время замера'].min().reset_index()"
   ]
  },
  {
   "cell_type": "code",
   "execution_count": 70,
   "id": "1fde914b-67d4-495e-ab71-11c5162f269c",
   "metadata": {},
   "outputs": [
    {
     "data": {
      "text/html": [
       "<div>\n",
       "<style scoped>\n",
       "    .dataframe tbody tr th:only-of-type {\n",
       "        vertical-align: middle;\n",
       "    }\n",
       "\n",
       "    .dataframe tbody tr th {\n",
       "        vertical-align: top;\n",
       "    }\n",
       "\n",
       "    .dataframe thead th {\n",
       "        text-align: right;\n",
       "    }\n",
       "</style>\n",
       "<table border=\"1\" class=\"dataframe\">\n",
       "  <thead>\n",
       "    <tr style=\"text-align: right;\">\n",
       "      <th></th>\n",
       "      <th>key</th>\n",
       "      <th>Температура</th>\n",
       "      <th>Количество замеров</th>\n",
       "    </tr>\n",
       "  </thead>\n",
       "  <tbody>\n",
       "    <tr>\n",
       "      <th>0</th>\n",
       "      <td>1</td>\n",
       "      <td>1613.0</td>\n",
       "      <td>6</td>\n",
       "    </tr>\n",
       "    <tr>\n",
       "      <th>1</th>\n",
       "      <td>2</td>\n",
       "      <td>1602.0</td>\n",
       "      <td>5</td>\n",
       "    </tr>\n",
       "    <tr>\n",
       "      <th>2</th>\n",
       "      <td>3</td>\n",
       "      <td>1599.0</td>\n",
       "      <td>6</td>\n",
       "    </tr>\n",
       "    <tr>\n",
       "      <th>3</th>\n",
       "      <td>4</td>\n",
       "      <td>1625.0</td>\n",
       "      <td>5</td>\n",
       "    </tr>\n",
       "    <tr>\n",
       "      <th>4</th>\n",
       "      <td>5</td>\n",
       "      <td>1602.0</td>\n",
       "      <td>5</td>\n",
       "    </tr>\n",
       "  </tbody>\n",
       "</table>\n",
       "</div>"
      ],
      "text/plain": [
       "   key  Температура  Количество замеров\n",
       "0    1       1613.0                   6\n",
       "1    2       1602.0                   5\n",
       "2    3       1599.0                   6\n",
       "3    4       1625.0                   5\n",
       "4    5       1602.0                   5"
      ]
     },
     "execution_count": 70,
     "metadata": {},
     "output_type": "execute_result"
    }
   ],
   "source": [
    "df_temp_max = df_t.merge(df_tmax, on='Время замера').drop(columns=['key_y', 'Время замера']).rename(columns={'key_x':'key'})\\\n",
    "                  .merge(df_t_grouped, on='key')\n",
    "df_temp_max.head()"
   ]
  },
  {
   "cell_type": "code",
   "execution_count": 71,
   "id": "fe654d42-6f20-494a-a995-cd532ff9df0b",
   "metadata": {
    "scrolled": true
   },
   "outputs": [
    {
     "data": {
      "text/plain": [
       "(2475, 3)"
      ]
     },
     "execution_count": 71,
     "metadata": {},
     "output_type": "execute_result"
    }
   ],
   "source": [
    "df_temp_max.shape                                 "
   ]
  },
  {
   "cell_type": "markdown",
   "id": "64e5aaec-b752-42cb-921c-291433962313",
   "metadata": {},
   "source": [
    "Проверим, соответствует ли измеренная температура темпертуре плавления стали и удалим лишние ковши с неправильно измеренной температурой"
   ]
  },
  {
   "cell_type": "code",
   "execution_count": 72,
   "id": "8d9e0494-d7d7-4254-885d-4844e265ccaf",
   "metadata": {},
   "outputs": [
    {
     "data": {
      "text/plain": [
       "0"
      ]
     },
     "execution_count": 72,
     "metadata": {},
     "output_type": "execute_result"
    }
   ],
   "source": [
    "(df_temp_max['Температура'] < 1400).sum()"
   ]
  },
  {
   "cell_type": "code",
   "execution_count": 73,
   "id": "82d4020f-9d37-4e75-9fa4-40ef18f92472",
   "metadata": {},
   "outputs": [],
   "source": [
    "df_temp_max = df_temp_max.loc[df_temp_max['Температура'] > 1400]"
   ]
  },
  {
   "cell_type": "code",
   "execution_count": 74,
   "id": "4f689a56-93be-47e1-8680-c46419fdd4b9",
   "metadata": {},
   "outputs": [
    {
     "data": {
      "text/plain": [
       "(2475, 3)"
      ]
     },
     "execution_count": 74,
     "metadata": {},
     "output_type": "execute_result"
    }
   ],
   "source": [
    "df_temp_max.shape"
   ]
  },
  {
   "cell_type": "code",
   "execution_count": 75,
   "id": "b522b502-81fb-4b09-bdd4-0dc54a97488a",
   "metadata": {},
   "outputs": [
    {
     "data": {
      "text/html": [
       "<div>\n",
       "<style scoped>\n",
       "    .dataframe tbody tr th:only-of-type {\n",
       "        vertical-align: middle;\n",
       "    }\n",
       "\n",
       "    .dataframe tbody tr th {\n",
       "        vertical-align: top;\n",
       "    }\n",
       "\n",
       "    .dataframe thead th {\n",
       "        text-align: right;\n",
       "    }\n",
       "</style>\n",
       "<table border=\"1\" class=\"dataframe\">\n",
       "  <thead>\n",
       "    <tr style=\"text-align: right;\">\n",
       "      <th></th>\n",
       "      <th>key</th>\n",
       "      <th>Начальная температура</th>\n",
       "    </tr>\n",
       "  </thead>\n",
       "  <tbody>\n",
       "    <tr>\n",
       "      <th>0</th>\n",
       "      <td>1</td>\n",
       "      <td>1571.0</td>\n",
       "    </tr>\n",
       "    <tr>\n",
       "      <th>1</th>\n",
       "      <td>2</td>\n",
       "      <td>1581.0</td>\n",
       "    </tr>\n",
       "    <tr>\n",
       "      <th>2</th>\n",
       "      <td>3</td>\n",
       "      <td>1596.0</td>\n",
       "    </tr>\n",
       "    <tr>\n",
       "      <th>3</th>\n",
       "      <td>4</td>\n",
       "      <td>1601.0</td>\n",
       "    </tr>\n",
       "    <tr>\n",
       "      <th>4</th>\n",
       "      <td>5</td>\n",
       "      <td>1576.0</td>\n",
       "    </tr>\n",
       "  </tbody>\n",
       "</table>\n",
       "</div>"
      ],
      "text/plain": [
       "   key  Начальная температура\n",
       "0    1                 1571.0\n",
       "1    2                 1581.0\n",
       "2    3                 1596.0\n",
       "3    4                 1601.0\n",
       "4    5                 1576.0"
      ]
     },
     "execution_count": 75,
     "metadata": {},
     "output_type": "execute_result"
    }
   ],
   "source": [
    "df_temp_min = df_t.merge(df_tmin, on='Время замера').drop(columns='Время замера')\\\n",
    "                  .drop(columns='key_y').rename(columns={'key_x':'key'})\\\n",
    "                  .rename(columns={'Температура': 'Начальная температура'})\n",
    "df_temp_min.head()"
   ]
  },
  {
   "cell_type": "code",
   "execution_count": 76,
   "id": "f315ba08-3984-464d-8f16-15c7206ea51b",
   "metadata": {},
   "outputs": [
    {
     "data": {
      "text/plain": [
       "5"
      ]
     },
     "execution_count": 76,
     "metadata": {},
     "output_type": "execute_result"
    }
   ],
   "source": [
    "(df_temp_min['Начальная температура'] < 1400).sum()"
   ]
  },
  {
   "cell_type": "code",
   "execution_count": 77,
   "id": "a2c7a537-0d61-40bc-95f5-e05529cbc7c6",
   "metadata": {},
   "outputs": [],
   "source": [
    "df_temp_min = df_temp_min.loc[df_temp_min['Начальная температура'] > 1400]"
   ]
  },
  {
   "cell_type": "code",
   "execution_count": 78,
   "id": "d8f7db23-81b2-4bed-bc21-7c251df0ec93",
   "metadata": {},
   "outputs": [
    {
     "data": {
      "text/plain": [
       "(3211, 2)"
      ]
     },
     "execution_count": 78,
     "metadata": {},
     "output_type": "execute_result"
    }
   ],
   "source": [
    "df_temp_min.shape"
   ]
  },
  {
   "cell_type": "code",
   "execution_count": 79,
   "id": "8f01108d-90db-4407-8e4d-ccbb7a28ad40",
   "metadata": {
    "scrolled": true
   },
   "outputs": [
    {
     "data": {
      "image/png": "[encoded data removed]",
      "text/plain": [
       "<Figure size 1000x300 with 1 Axes>"
      ]
     },
     "metadata": {},
     "output_type": "display_data"
    }
   ],
   "source": [
    "df_temp_max['Температура'].hist(bins=50, figsize=(10, 3))\n",
    "plt.title('Конечная температура сплава')\n",
    "plt.xlabel('температура')\n",
    "plt.ylabel('количество измерений')\n",
    "plt.show()"
   ]
  },
  {
   "cell_type": "code",
   "execution_count": 80,
   "id": "8f6a27be-0ccb-414b-838f-38325ffe8a93",
   "metadata": {},
   "outputs": [
    {
     "data": {
      "image/png": "[encoded data removed]",
      "text/plain": [
       "<Figure size 1000x300 with 1 Axes>"
      ]
     },
     "metadata": {},
     "output_type": "display_data"
    }
   ],
   "source": [
    "df_temp_min['Начальная температура'].hist(bins=50, figsize=(10, 3))\n",
    "plt.title('Начальная температура сплава')\n",
    "plt.xlabel('температура')\n",
    "plt.ylabel('количество измерений')\n",
    "plt.show()"
   ]
  },
  {
   "cell_type": "markdown",
   "id": "653fcc15-bd54-4537-acdb-d770c61d251b",
   "metadata": {},
   "source": [
    "### Данные о проволочных материалах (объём)"
   ]
  },
  {
   "cell_type": "code",
   "execution_count": 82,
   "id": "06f9b676-c0bb-457d-b616-d33366b4bfa9",
   "metadata": {},
   "outputs": [],
   "source": [
    "df_wire = df_wire.fillna(0)"
   ]
  },
  {
   "cell_type": "code",
   "execution_count": 83,
   "id": "47c3bc66-9c49-4659-ba89-f1dd755d9a29",
   "metadata": {},
   "outputs": [],
   "source": [
    "df_wire['wire_sum'] = df_wire['Wire 1'] + df_wire['Wire 2'] + df_wire['Wire 3'] +\\\n",
    "                       df_wire['Wire 4'] + df_wire['Wire 5'] + df_wire['Wire 6'] +\\\n",
    "                       df_wire['Wire 7'] + df_wire['Wire 8'] + df_wire['Wire 9']"
   ]
  },
  {
   "cell_type": "code",
   "execution_count": 84,
   "id": "211029e0-190e-4177-a754-cce80fe7fc8c",
   "metadata": {},
   "outputs": [
    {
     "data": {
      "image/png": "[encoded data removed]",
      "text/plain": [
       "<Figure size 1000x300 with 1 Axes>"
      ]
     },
     "metadata": {},
     "output_type": "display_data"
    }
   ],
   "source": [
    "df_wire['wire_sum'].hist(bins=50, figsize=(10, 3))\n",
    "plt.title('Общий объем проволочных материалов')\n",
    "plt.xlabel('объем')\n",
    "plt.ylabel('количество измерений')\n",
    "plt.show()"
   ]
  },
  {
   "cell_type": "code",
   "execution_count": 85,
   "id": "ffecc4c3-798c-4c98-82c2-4396ed17f716",
   "metadata": {},
   "outputs": [],
   "source": [
    "df_wire['wire_count'] = df_wire.apply(lambda x: (x > 0).sum() - 1, axis='columns')"
   ]
  },
  {
   "cell_type": "code",
   "execution_count": 86,
   "id": "4e28a07e-d4b2-4b4c-9900-b782bdce7a8e",
   "metadata": {},
   "outputs": [
    {
     "data": {
      "image/png": "[encoded data removed]",
      "text/plain": [
       "<Figure size 1000x300 with 1 Axes>"
      ]
     },
     "metadata": {},
     "output_type": "display_data"
    }
   ],
   "source": [
    "df_wire['wire_count'].hist(bins=50, figsize=(10, 3))\n",
    "plt.title('Количество видов проволочных материалов')\n",
    "plt.xlabel('объем')\n",
    "plt.ylabel('количество измерений')\n",
    "plt.show()"
   ]
  },
  {
   "cell_type": "code",
   "execution_count": 87,
   "id": "c6bba0ca-f697-4fb5-9380-2710fb69d5b4",
   "metadata": {},
   "outputs": [],
   "source": [
    "df_wire = df_wire[['key', 'wire_sum', 'wire_count', 'Wire 1', 'Wire 2']]"
   ]
  },
  {
   "cell_type": "code",
   "execution_count": 88,
   "id": "71215843-3981-4ef5-bbee-ea3d652f39f8",
   "metadata": {},
   "outputs": [
    {
     "data": {
      "text/html": [
       "<div>\n",
       "<style scoped>\n",
       "    .dataframe tbody tr th:only-of-type {\n",
       "        vertical-align: middle;\n",
       "    }\n",
       "\n",
       "    .dataframe tbody tr th {\n",
       "        vertical-align: top;\n",
       "    }\n",
       "\n",
       "    .dataframe thead th {\n",
       "        text-align: right;\n",
       "    }\n",
       "</style>\n",
       "<table border=\"1\" class=\"dataframe\">\n",
       "  <thead>\n",
       "    <tr style=\"text-align: right;\">\n",
       "      <th></th>\n",
       "      <th>key</th>\n",
       "      <th>wire_sum</th>\n",
       "      <th>wire_count</th>\n",
       "      <th>Wire 1</th>\n",
       "      <th>Wire 2</th>\n",
       "    </tr>\n",
       "  </thead>\n",
       "  <tbody>\n",
       "    <tr>\n",
       "      <th>0</th>\n",
       "      <td>1</td>\n",
       "      <td>60.059998</td>\n",
       "      <td>2</td>\n",
       "      <td>60.059998</td>\n",
       "      <td>0.00000</td>\n",
       "    </tr>\n",
       "    <tr>\n",
       "      <th>1</th>\n",
       "      <td>2</td>\n",
       "      <td>96.052315</td>\n",
       "      <td>2</td>\n",
       "      <td>96.052315</td>\n",
       "      <td>0.00000</td>\n",
       "    </tr>\n",
       "    <tr>\n",
       "      <th>2</th>\n",
       "      <td>3</td>\n",
       "      <td>91.160157</td>\n",
       "      <td>2</td>\n",
       "      <td>91.160157</td>\n",
       "      <td>0.00000</td>\n",
       "    </tr>\n",
       "    <tr>\n",
       "      <th>3</th>\n",
       "      <td>4</td>\n",
       "      <td>89.063515</td>\n",
       "      <td>2</td>\n",
       "      <td>89.063515</td>\n",
       "      <td>0.00000</td>\n",
       "    </tr>\n",
       "    <tr>\n",
       "      <th>4</th>\n",
       "      <td>5</td>\n",
       "      <td>98.352796</td>\n",
       "      <td>3</td>\n",
       "      <td>89.238236</td>\n",
       "      <td>9.11456</td>\n",
       "    </tr>\n",
       "  </tbody>\n",
       "</table>\n",
       "</div>"
      ],
      "text/plain": [
       "   key   wire_sum  wire_count     Wire 1   Wire 2\n",
       "0    1  60.059998           2  60.059998  0.00000\n",
       "1    2  96.052315           2  96.052315  0.00000\n",
       "2    3  91.160157           2  91.160157  0.00000\n",
       "3    4  89.063515           2  89.063515  0.00000\n",
       "4    5  98.352796           3  89.238236  9.11456"
      ]
     },
     "execution_count": 88,
     "metadata": {},
     "output_type": "execute_result"
    }
   ],
   "source": [
    "df_wire.head()"
   ]
  },
  {
   "cell_type": "markdown",
   "id": "3a902f44-baab-401f-af69-5d64ace0a41f",
   "metadata": {},
   "source": [
    "## Объединение данных и анализ признаков"
   ]
  },
  {
   "cell_type": "code",
   "execution_count": 89,
   "id": "d3f8e30c-9b16-4bb9-8655-82bd7f9ab6a0",
   "metadata": {},
   "outputs": [],
   "source": [
    "df = df_temp_max.merge(df_bulk, on='key', how='inner')\\\n",
    "               .merge(df_temp_min, on='key', how='inner')\\\n",
    "               .merge(df_arc_new, on='key', how='inner')\\\n",
    "               .merge(df_gas, on='key', how='inner')\\\n",
    "               .merge(df_wire, on='key', how='inner')"
   ]
  },
  {
   "cell_type": "code",
   "execution_count": 90,
   "id": "372fd713-994c-4ad8-910e-f948f08d5161",
   "metadata": {
    "scrolled": true
   },
   "outputs": [
    {
     "data": {
      "text/html": [
       "<div>\n",
       "<style scoped>\n",
       "    .dataframe tbody tr th:only-of-type {\n",
       "        vertical-align: middle;\n",
       "    }\n",
       "\n",
       "    .dataframe tbody tr th {\n",
       "        vertical-align: top;\n",
       "    }\n",
       "\n",
       "    .dataframe thead th {\n",
       "        text-align: right;\n",
       "    }\n",
       "</style>\n",
       "<table border=\"1\" class=\"dataframe\">\n",
       "  <thead>\n",
       "    <tr style=\"text-align: right;\">\n",
       "      <th></th>\n",
       "      <th>key</th>\n",
       "      <th>Температура</th>\n",
       "      <th>Количество замеров</th>\n",
       "      <th>Bulk 3</th>\n",
       "      <th>Bulk 4</th>\n",
       "      <th>Bulk 6</th>\n",
       "      <th>Bulk 12</th>\n",
       "      <th>Bulk 14</th>\n",
       "      <th>Bulk 15</th>\n",
       "      <th>bulk_count</th>\n",
       "      <th>bulk_sum</th>\n",
       "      <th>Начальная температура</th>\n",
       "      <th>Время нагрева дугой</th>\n",
       "      <th>Работа</th>\n",
       "      <th>Полная мощность</th>\n",
       "      <th>Газ 1</th>\n",
       "      <th>wire_sum</th>\n",
       "      <th>wire_count</th>\n",
       "      <th>Wire 1</th>\n",
       "      <th>Wire 2</th>\n",
       "    </tr>\n",
       "  </thead>\n",
       "  <tbody>\n",
       "    <tr>\n",
       "      <th>0</th>\n",
       "      <td>1</td>\n",
       "      <td>1613.0</td>\n",
       "      <td>6</td>\n",
       "      <td>0.0</td>\n",
       "      <td>43.0</td>\n",
       "      <td>0.0</td>\n",
       "      <td>206.0</td>\n",
       "      <td>150.0</td>\n",
       "      <td>154.0</td>\n",
       "      <td>4.0</td>\n",
       "      <td>553.0</td>\n",
       "      <td>1571.0</td>\n",
       "      <td>1098.0</td>\n",
       "      <td>770.282114</td>\n",
       "      <td>3.718736</td>\n",
       "      <td>29.749986</td>\n",
       "      <td>60.059998</td>\n",
       "      <td>2</td>\n",
       "      <td>60.059998</td>\n",
       "      <td>0.00000</td>\n",
       "    </tr>\n",
       "    <tr>\n",
       "      <th>1</th>\n",
       "      <td>2</td>\n",
       "      <td>1602.0</td>\n",
       "      <td>5</td>\n",
       "      <td>0.0</td>\n",
       "      <td>73.0</td>\n",
       "      <td>0.0</td>\n",
       "      <td>206.0</td>\n",
       "      <td>149.0</td>\n",
       "      <td>154.0</td>\n",
       "      <td>4.0</td>\n",
       "      <td>582.0</td>\n",
       "      <td>1581.0</td>\n",
       "      <td>811.0</td>\n",
       "      <td>481.760005</td>\n",
       "      <td>2.588349</td>\n",
       "      <td>12.555561</td>\n",
       "      <td>96.052315</td>\n",
       "      <td>2</td>\n",
       "      <td>96.052315</td>\n",
       "      <td>0.00000</td>\n",
       "    </tr>\n",
       "    <tr>\n",
       "      <th>2</th>\n",
       "      <td>3</td>\n",
       "      <td>1599.0</td>\n",
       "      <td>6</td>\n",
       "      <td>0.0</td>\n",
       "      <td>34.0</td>\n",
       "      <td>0.0</td>\n",
       "      <td>205.0</td>\n",
       "      <td>152.0</td>\n",
       "      <td>153.0</td>\n",
       "      <td>4.0</td>\n",
       "      <td>544.0</td>\n",
       "      <td>1596.0</td>\n",
       "      <td>655.0</td>\n",
       "      <td>722.837668</td>\n",
       "      <td>5.019223</td>\n",
       "      <td>28.554793</td>\n",
       "      <td>91.160157</td>\n",
       "      <td>2</td>\n",
       "      <td>91.160157</td>\n",
       "      <td>0.00000</td>\n",
       "    </tr>\n",
       "    <tr>\n",
       "      <th>3</th>\n",
       "      <td>4</td>\n",
       "      <td>1625.0</td>\n",
       "      <td>5</td>\n",
       "      <td>0.0</td>\n",
       "      <td>81.0</td>\n",
       "      <td>0.0</td>\n",
       "      <td>207.0</td>\n",
       "      <td>153.0</td>\n",
       "      <td>154.0</td>\n",
       "      <td>4.0</td>\n",
       "      <td>595.0</td>\n",
       "      <td>1601.0</td>\n",
       "      <td>741.0</td>\n",
       "      <td>683.455597</td>\n",
       "      <td>3.400038</td>\n",
       "      <td>18.841219</td>\n",
       "      <td>89.063515</td>\n",
       "      <td>2</td>\n",
       "      <td>89.063515</td>\n",
       "      <td>0.00000</td>\n",
       "    </tr>\n",
       "    <tr>\n",
       "      <th>4</th>\n",
       "      <td>5</td>\n",
       "      <td>1602.0</td>\n",
       "      <td>5</td>\n",
       "      <td>0.0</td>\n",
       "      <td>78.0</td>\n",
       "      <td>0.0</td>\n",
       "      <td>203.0</td>\n",
       "      <td>151.0</td>\n",
       "      <td>152.0</td>\n",
       "      <td>4.0</td>\n",
       "      <td>584.0</td>\n",
       "      <td>1576.0</td>\n",
       "      <td>869.0</td>\n",
       "      <td>512.169934</td>\n",
       "      <td>2.816980</td>\n",
       "      <td>5.413692</td>\n",
       "      <td>98.352796</td>\n",
       "      <td>3</td>\n",
       "      <td>89.238236</td>\n",
       "      <td>9.11456</td>\n",
       "    </tr>\n",
       "  </tbody>\n",
       "</table>\n",
       "</div>"
      ],
      "text/plain": [
       "   key  Температура  Количество замеров  Bulk 3  Bulk 4  Bulk 6  Bulk 12  \\\n",
       "0    1       1613.0                   6     0.0    43.0     0.0    206.0   \n",
       "1    2       1602.0                   5     0.0    73.0     0.0    206.0   \n",
       "2    3       1599.0                   6     0.0    34.0     0.0    205.0   \n",
       "3    4       1625.0                   5     0.0    81.0     0.0    207.0   \n",
       "4    5       1602.0                   5     0.0    78.0     0.0    203.0   \n",
       "\n",
       "   Bulk 14  Bulk 15  bulk_count  bulk_sum  Начальная температура  \\\n",
       "0    150.0    154.0         4.0     553.0                 1571.0   \n",
       "1    149.0    154.0         4.0     582.0                 1581.0   \n",
       "2    152.0    153.0         4.0     544.0                 1596.0   \n",
       "3    153.0    154.0         4.0     595.0                 1601.0   \n",
       "4    151.0    152.0         4.0     584.0                 1576.0   \n",
       "\n",
       "   Время нагрева дугой      Работа  Полная мощность      Газ 1   wire_sum  \\\n",
       "0               1098.0  770.282114         3.718736  29.749986  60.059998   \n",
       "1                811.0  481.760005         2.588349  12.555561  96.052315   \n",
       "2                655.0  722.837668         5.019223  28.554793  91.160157   \n",
       "3                741.0  683.455597         3.400038  18.841219  89.063515   \n",
       "4                869.0  512.169934         2.816980   5.413692  98.352796   \n",
       "\n",
       "   wire_count     Wire 1   Wire 2  \n",
       "0           2  60.059998  0.00000  \n",
       "1           2  96.052315  0.00000  \n",
       "2           2  91.160157  0.00000  \n",
       "3           2  89.063515  0.00000  \n",
       "4           3  89.238236  9.11456  "
      ]
     },
     "execution_count": 90,
     "metadata": {},
     "output_type": "execute_result"
    }
   ],
   "source": [
    "df.head()"
   ]
  },
  {
   "cell_type": "code",
   "execution_count": 91,
   "id": "f731ab48-c73c-488c-a975-026d5b78dde4",
   "metadata": {},
   "outputs": [],
   "source": [
    "df = df.dropna()"
   ]
  },
  {
   "cell_type": "code",
   "execution_count": 92,
   "id": "94973991",
   "metadata": {},
   "outputs": [
    {
     "data": {
      "text/plain": [
       "(2320, 20)"
      ]
     },
     "execution_count": 92,
     "metadata": {},
     "output_type": "execute_result"
    }
   ],
   "source": [
    "df.shape"
   ]
  },
  {
   "cell_type": "markdown",
   "id": "252646f8-36e5-4d2a-9dfd-8a512a1d5ac9",
   "metadata": {},
   "source": [
    "Исследуем датафрейм на мультиколлинеарность"
   ]
  },
  {
   "cell_type": "code",
   "execution_count": 93,
   "id": "56d4ddd4-06d2-4794-b47f-887f0a740e43",
   "metadata": {},
   "outputs": [],
   "source": [
    "df_corr = df.corr().reset_index()\n"
   ]
  },
  {
   "cell_type": "markdown",
   "id": "4913e8b2-f993-4600-a73a-25a2eb2a331c",
   "metadata": {},
   "source": [
    "Поскольку таблица корреляции большая и по ней сложно найти коррелирующие признаки, вычислим их. "
   ]
  },
  {
   "cell_type": "code",
   "execution_count": 94,
   "id": "01db4d78-a33b-48a6-b78c-7c192e0a0bb1",
   "metadata": {},
   "outputs": [],
   "source": [
    "df_corr = df_corr.replace(1, 0)"
   ]
  },
  {
   "cell_type": "code",
   "execution_count": 95,
   "id": "270b57f3-0aa3-4441-b55d-affd0f1bec19",
   "metadata": {},
   "outputs": [],
   "source": [
    "row, col = np.where(df_corr.drop(columns='index') > 0.9)"
   ]
  },
  {
   "cell_type": "code",
   "execution_count": 96,
   "id": "b08f288e-92c0-4dd7-b372-cc9852b642c9",
   "metadata": {},
   "outputs": [
    {
     "name": "stdout",
     "output_type": "stream",
     "text": [
      "Время нагрева дугой / Работа\n",
      "Работа / Время нагрева дугой\n"
     ]
    }
   ],
   "source": [
    "for z in zip(row, col):\n",
    "    print(df_corr.loc[z[0], 'index'], '/', df_corr.loc[z[1], 'index'])"
   ]
  },
  {
   "cell_type": "code",
   "execution_count": 97,
   "id": "ce2f7a7e-f321-41ff-8a54-349ba55c5f54",
   "metadata": {},
   "outputs": [
    {
     "data": {
      "text/plain": [
       "(array([], dtype=int64), array([], dtype=int64))"
      ]
     },
     "execution_count": 97,
     "metadata": {},
     "output_type": "execute_result"
    }
   ],
   "source": [
    "np.where(df_corr.drop(columns='index') < -0.7)"
   ]
  },
  {
   "cell_type": "markdown",
   "id": "ca4b694d-98dd-428e-b748-329800fde020",
   "metadata": {},
   "source": [
    "Мультиколлинеарных признаков не оказалось. Данные объединены, и можно удалить ключ, а также один из коллинеарных признаков."
   ]
  },
  {
   "cell_type": "code",
   "execution_count": 98,
   "id": "407e8ad1-61e0-43bd-be07-00df94142104",
   "metadata": {},
   "outputs": [],
   "source": [
    "df = df.drop(columns=['key'])"
   ]
  },
  {
   "cell_type": "code",
   "execution_count": 99,
   "id": "92570dad-20df-4e45-9ed0-658f7de0a741",
   "metadata": {},
   "outputs": [
    {
     "data": {
      "text/plain": [
       "(2320, 19)"
      ]
     },
     "execution_count": 99,
     "metadata": {},
     "output_type": "execute_result"
    }
   ],
   "source": [
    "df.shape"
   ]
  },
  {
   "cell_type": "markdown",
   "id": "0d406fe1-2f3a-4d31-95f7-d170277fedb5",
   "metadata": {},
   "source": [
    "Посмотрим на корреляцию между конечной температурой и имеющимися признаками"
   ]
  },
  {
   "cell_type": "code",
   "execution_count": 100,
   "id": "aa140a9d-77df-4005-bc19-e71521d2c59f",
   "metadata": {},
   "outputs": [],
   "source": [
    "temp_corr = {}\n",
    "for col in df.drop(columns='Температура').columns.values:\n",
    "    c = df[col].corr(df['Температура'])\n",
    "    temp_corr[col] =  c "
   ]
  },
  {
   "cell_type": "code",
   "execution_count": 101,
   "id": "9ed135ca-d3fe-4f9a-926c-dba6d287ded0",
   "metadata": {},
   "outputs": [
    {
     "data": {
      "text/plain": [
       "{'Количество замеров': 0.1771470825641133,\n",
       " 'Bulk 3': -0.03899460113547046,\n",
       " 'Bulk 4': 0.18990533924241756,\n",
       " 'Bulk 6': -0.18173922256007125,\n",
       " 'Bulk 12': 0.26385967978759534,\n",
       " 'Bulk 14': 0.1085890117525797,\n",
       " 'Bulk 15': 0.2672293282255611,\n",
       " 'bulk_count': 0.10898256394934021,\n",
       " 'bulk_sum': 0.22104982320703773,\n",
       " 'Начальная температура': 0.30697373659599536,\n",
       " 'Время нагрева дугой': 0.27469604754281657,\n",
       " 'Работа': 0.2521482527413359,\n",
       " 'Полная мощность': 0.17023369267053126,\n",
       " 'Газ 1': 0.05941265905479355,\n",
       " 'wire_sum': 0.06248268149134613,\n",
       " 'wire_count': -0.19468344463350823,\n",
       " 'Wire 1': 0.319028726321768,\n",
       " 'Wire 2': -0.21499491700268658}"
      ]
     },
     "execution_count": 101,
     "metadata": {},
     "output_type": "execute_result"
    }
   ],
   "source": [
    "temp_corr"
   ]
  },
  {
   "cell_type": "markdown",
   "id": "005a8428-3fe6-4631-b441-e9d7264de5e1",
   "metadata": {},
   "source": [
    "Конечная температура напрямую зависит от начальной температуры, зависимость от остальных признаков очень слабая. "
   ]
  },
  {
   "cell_type": "markdown",
   "id": "fa400518-a005-43a8-a7ee-793aecf49c2d",
   "metadata": {},
   "source": [
    "## Подготовка данных"
   ]
  },
  {
   "cell_type": "markdown",
   "id": "4dcc2b3b-3032-4986-b510-dc70aa2b8f0e",
   "metadata": {},
   "source": [
    "Разобъем данные на целевой и остальные признаки, разделим их на тренировочную и тестовую выборки.   \n",
    "Стандартизируем данные для использования в линейных моделях.   \n",
    "В качестве линейных моделей использую те, которые не чувствительны к выбросам, чтобы не терять информацию, т.к. выборка небольшая. \n"
   ]
  },
  {
   "cell_type": "code",
   "execution_count": 102,
   "id": "c9792b16-d8ca-406f-99fb-b1f01adc50d9",
   "metadata": {},
   "outputs": [],
   "source": [
    "X = df.drop(columns=['Температура'])"
   ]
  },
  {
   "cell_type": "code",
   "execution_count": 103,
   "id": "1531a985-5f8f-483e-8829-36a57d8e0804",
   "metadata": {},
   "outputs": [],
   "source": [
    "Y = df['Температура']"
   ]
  },
  {
   "cell_type": "code",
   "execution_count": 104,
   "id": "fec6be7a-322f-461b-8824-16e65b398c44",
   "metadata": {},
   "outputs": [],
   "source": [
    "X_train, X_test, y_train, y_test = train_test_split(X, Y, test_size=0.25, random_state=131223)"
   ]
  },
  {
   "cell_type": "code",
   "execution_count": 105,
   "id": "3813e392-486a-459d-ae12-c37f7c75760e",
   "metadata": {},
   "outputs": [
    {
     "data": {
      "text/plain": [
       "((1740, 18), (1740,))"
      ]
     },
     "execution_count": 105,
     "metadata": {},
     "output_type": "execute_result"
    }
   ],
   "source": [
    "X_train.shape, y_train.shape"
   ]
  },
  {
   "cell_type": "code",
   "execution_count": 106,
   "id": "ae4194e0-3862-4c3a-8d4e-4fb7a61908fa",
   "metadata": {},
   "outputs": [
    {
     "data": {
      "text/plain": [
       "((580, 18), (580,))"
      ]
     },
     "execution_count": 106,
     "metadata": {},
     "output_type": "execute_result"
    }
   ],
   "source": [
    "X_test.shape, y_test.shape"
   ]
  },
  {
   "cell_type": "code",
   "execution_count": 107,
   "id": "08b9237a-7dec-4c21-8cc1-5721546e8d49",
   "metadata": {},
   "outputs": [],
   "source": [
    "scaler = StandardScaler()"
   ]
  },
  {
   "cell_type": "code",
   "execution_count": 108,
   "id": "6697c6fd-543b-45b6-aa0d-2a87d2cff646",
   "metadata": {},
   "outputs": [],
   "source": [
    "scaler.fit(X_train)\n",
    "scaled_X_train = scaler.transform(X_train)"
   ]
  },
  {
   "cell_type": "markdown",
   "id": "320dcc8f-6a2d-4d79-9847-bb35cedbf6c8",
   "metadata": {},
   "source": [
    "## Обучение моделей машинного обучения"
   ]
  },
  {
   "cell_type": "markdown",
   "id": "13490abe-1243-41ea-a0cf-5c2f742b8220",
   "metadata": {},
   "source": [
    "### Ridge"
   ]
  },
  {
   "cell_type": "code",
   "execution_count": 109,
   "id": "8fe5bc66-ed03-4bb8-aeb9-0ee7145a0ea4",
   "metadata": {},
   "outputs": [
    {
     "data": {
      "text/html": [
       "<style>#sk-container-id-1 {color: black;}#sk-container-id-1 pre{padding: 0;}#sk-container-id-1 div.sk-toggleable {background-color: white;}#sk-container-id-1 label.sk-toggleable__label {cursor: pointer;display: block;width: 100%;margin-bottom: 0;padding: 0.3em;box-sizing: border-box;text-align: center;}#sk-container-id-1 label.sk-toggleable__label-arrow:before {content: \"▸\";float: left;margin-right: 0.25em;color: #696969;}#sk-container-id-1 label.sk-toggleable__label-arrow:hover:before {color: black;}#sk-container-id-1 div.sk-estimator:hover label.sk-toggleable__label-arrow:before {color: black;}#sk-container-id-1 div.sk-toggleable__content {max-height: 0;max-width: 0;overflow: hidden;text-align: left;background-color: #f0f8ff;}#sk-container-id-1 div.sk-toggleable__content pre {margin: 0.2em;color: black;border-radius: 0.25em;background-color: #f0f8ff;}#sk-container-id-1 input.sk-toggleable__control:checked~div.sk-toggleable__content {max-height: 200px;max-width: 100%;overflow: auto;}#sk-container-id-1 input.sk-toggleable__control:checked~label.sk-toggleable__label-arrow:before {content: \"▾\";}#sk-container-id-1 div.sk-estimator input.sk-toggleable__control:checked~label.sk-toggleable__label {background-color: #d4ebff;}#sk-container-id-1 div.sk-label input.sk-toggleable__control:checked~label.sk-toggleable__label {background-color: #d4ebff;}#sk-container-id-1 input.sk-hidden--visually {border: 0;clip: rect(1px 1px 1px 1px);clip: rect(1px, 1px, 1px, 1px);height: 1px;margin: -1px;overflow: hidden;padding: 0;position: absolute;width: 1px;}#sk-container-id-1 div.sk-estimator {font-family: monospace;background-color: #f0f8ff;border: 1px dotted black;border-radius: 0.25em;box-sizing: border-box;margin-bottom: 0.5em;}#sk-container-id-1 div.sk-estimator:hover {background-color: #d4ebff;}#sk-container-id-1 div.sk-parallel-item::after {content: \"\";width: 100%;border-bottom: 1px solid gray;flex-grow: 1;}#sk-container-id-1 div.sk-label:hover label.sk-toggleable__label {background-color: #d4ebff;}#sk-container-id-1 div.sk-serial::before {content: \"\";position: absolute;border-left: 1px solid gray;box-sizing: border-box;top: 0;bottom: 0;left: 50%;z-index: 0;}#sk-container-id-1 div.sk-serial {display: flex;flex-direction: column;align-items: center;background-color: white;padding-right: 0.2em;padding-left: 0.2em;position: relative;}#sk-container-id-1 div.sk-item {position: relative;z-index: 1;}#sk-container-id-1 div.sk-parallel {display: flex;align-items: stretch;justify-content: center;background-color: white;position: relative;}#sk-container-id-1 div.sk-item::before, #sk-container-id-1 div.sk-parallel-item::before {content: \"\";position: absolute;border-left: 1px solid gray;box-sizing: border-box;top: 0;bottom: 0;left: 50%;z-index: -1;}#sk-container-id-1 div.sk-parallel-item {display: flex;flex-direction: column;z-index: 1;position: relative;background-color: white;}#sk-container-id-1 div.sk-parallel-item:first-child::after {align-self: flex-end;width: 50%;}#sk-container-id-1 div.sk-parallel-item:last-child::after {align-self: flex-start;width: 50%;}#sk-container-id-1 div.sk-parallel-item:only-child::after {width: 0;}#sk-container-id-1 div.sk-dashed-wrapped {border: 1px dashed gray;margin: 0 0.4em 0.5em 0.4em;box-sizing: border-box;padding-bottom: 0.4em;background-color: white;}#sk-container-id-1 div.sk-label label {font-family: monospace;font-weight: bold;display: inline-block;line-height: 1.2em;}#sk-container-id-1 div.sk-label-container {text-align: center;}#sk-container-id-1 div.sk-container {/* jupyter's `normalize.less` sets `[hidden] { display: none; }` but bootstrap.min.css set `[hidden] { display: none !important; }` so we also need the `!important` here to be able to override the default hidden behavior on the sphinx rendered scikit-learn.org. See: https://github.com/scikit-learn/scikit-learn/issues/21755 */display: inline-block !important;position: relative;}#sk-container-id-1 div.sk-text-repr-fallback {display: none;}</style><div id=\"sk-container-id-1\" class=\"sk-top-container\"><div class=\"sk-text-repr-fallback\"><pre>GridSearchCV(cv=5, estimator=Ridge(),\n",
       "             param_grid={&#x27;alpha&#x27;: [1e-15, 1e-10, 1e-08, 0.001, 0.01, 1, 5, 10,\n",
       "                                   20, 30, 35, 40, 45, 50, 55, 100],\n",
       "                         &#x27;random_state&#x27;: [131223]},\n",
       "             scoring=&#x27;neg_mean_absolute_error&#x27;)</pre><b>In a Jupyter environment, please rerun this cell to show the HTML representation or trust the notebook. <br />On GitHub, the HTML representation is unable to render, please try loading this page with nbviewer.org.</b></div><div class=\"sk-container\" hidden><div class=\"sk-item sk-dashed-wrapped\"><div class=\"sk-label-container\"><div class=\"sk-label sk-toggleable\"><input class=\"sk-toggleable__control sk-hidden--visually\" id=\"sk-estimator-id-1\" type=\"checkbox\" ><label for=\"sk-estimator-id-1\" class=\"sk-toggleable__label sk-toggleable__label-arrow\">GridSearchCV</label><div class=\"sk-toggleable__content\"><pre>GridSearchCV(cv=5, estimator=Ridge(),\n",
       "             param_grid={&#x27;alpha&#x27;: [1e-15, 1e-10, 1e-08, 0.001, 0.01, 1, 5, 10,\n",
       "                                   20, 30, 35, 40, 45, 50, 55, 100],\n",
       "                         &#x27;random_state&#x27;: [131223]},\n",
       "             scoring=&#x27;neg_mean_absolute_error&#x27;)</pre></div></div></div><div class=\"sk-parallel\"><div class=\"sk-parallel-item\"><div class=\"sk-item\"><div class=\"sk-label-container\"><div class=\"sk-label sk-toggleable\"><input class=\"sk-toggleable__control sk-hidden--visually\" id=\"sk-estimator-id-2\" type=\"checkbox\" ><label for=\"sk-estimator-id-2\" class=\"sk-toggleable__label sk-toggleable__label-arrow\">estimator: Ridge</label><div class=\"sk-toggleable__content\"><pre>Ridge()</pre></div></div></div><div class=\"sk-serial\"><div class=\"sk-item\"><div class=\"sk-estimator sk-toggleable\"><input class=\"sk-toggleable__control sk-hidden--visually\" id=\"sk-estimator-id-3\" type=\"checkbox\" ><label for=\"sk-estimator-id-3\" class=\"sk-toggleable__label sk-toggleable__label-arrow\">Ridge</label><div class=\"sk-toggleable__content\"><pre>Ridge()</pre></div></div></div></div></div></div></div></div></div></div>"
      ],
      "text/plain": [
       "GridSearchCV(cv=5, estimator=Ridge(),\n",
       "             param_grid={'alpha': [1e-15, 1e-10, 1e-08, 0.001, 0.01, 1, 5, 10,\n",
       "                                   20, 30, 35, 40, 45, 50, 55, 100],\n",
       "                         'random_state': [131223]},\n",
       "             scoring='neg_mean_absolute_error')"
      ]
     },
     "execution_count": 109,
     "metadata": {},
     "output_type": "execute_result"
    }
   ],
   "source": [
    "RidgeRegression = Ridge()\n",
    "hyperParameters = {'alpha':[1e-15,1e-10,1e-8,1e-3,1e-2,1,5,10,20,30,35,40,45,50,55,100],\n",
    "                   'random_state': [131223]}\n",
    "ridgeRegressor = GridSearchCV(RidgeRegression, hyperParameters, scoring='neg_mean_absolute_error', cv=5)\n",
    "ridgeRegressor.fit(scaled_X_train, y_train)"
   ]
  },
  {
   "cell_type": "code",
   "execution_count": 110,
   "id": "57857d66-ea43-4cbb-b7a1-c286ad54bd88",
   "metadata": {},
   "outputs": [
    {
     "data": {
      "text/plain": [
       "{'alpha': 1, 'random_state': 131223}"
      ]
     },
     "execution_count": 110,
     "metadata": {},
     "output_type": "execute_result"
    }
   ],
   "source": [
    "ridgeRegressor.best_params_"
   ]
  },
  {
   "cell_type": "code",
   "execution_count": 111,
   "id": "c9efa24d-0edb-4b26-b61c-6500d1713a19",
   "metadata": {},
   "outputs": [
    {
     "data": {
      "text/plain": [
       "-6.3181636829348475"
      ]
     },
     "execution_count": 111,
     "metadata": {},
     "output_type": "execute_result"
    }
   ],
   "source": [
    "ridgeRegressor.best_score_"
   ]
  },
  {
   "cell_type": "markdown",
   "id": "4c7dff68-7645-4321-8308-c2c580d17f35",
   "metadata": {},
   "source": [
    "### Lasso"
   ]
  },
  {
   "cell_type": "code",
   "execution_count": 112,
   "id": "8510f232-2267-4afc-a721-8399a31cbab1",
   "metadata": {},
   "outputs": [
    {
     "data": {
      "text/html": [
       "<style>#sk-container-id-2 {color: black;}#sk-container-id-2 pre{padding: 0;}#sk-container-id-2 div.sk-toggleable {background-color: white;}#sk-container-id-2 label.sk-toggleable__label {cursor: pointer;display: block;width: 100%;margin-bottom: 0;padding: 0.3em;box-sizing: border-box;text-align: center;}#sk-container-id-2 label.sk-toggleable__label-arrow:before {content: \"▸\";float: left;margin-right: 0.25em;color: #696969;}#sk-container-id-2 label.sk-toggleable__label-arrow:hover:before {color: black;}#sk-container-id-2 div.sk-estimator:hover label.sk-toggleable__label-arrow:before {color: black;}#sk-container-id-2 div.sk-toggleable__content {max-height: 0;max-width: 0;overflow: hidden;text-align: left;background-color: #f0f8ff;}#sk-container-id-2 div.sk-toggleable__content pre {margin: 0.2em;color: black;border-radius: 0.25em;background-color: #f0f8ff;}#sk-container-id-2 input.sk-toggleable__control:checked~div.sk-toggleable__content {max-height: 200px;max-width: 100%;overflow: auto;}#sk-container-id-2 input.sk-toggleable__control:checked~label.sk-toggleable__label-arrow:before {content: \"▾\";}#sk-container-id-2 div.sk-estimator input.sk-toggleable__control:checked~label.sk-toggleable__label {background-color: #d4ebff;}#sk-container-id-2 div.sk-label input.sk-toggleable__control:checked~label.sk-toggleable__label {background-color: #d4ebff;}#sk-container-id-2 input.sk-hidden--visually {border: 0;clip: rect(1px 1px 1px 1px);clip: rect(1px, 1px, 1px, 1px);height: 1px;margin: -1px;overflow: hidden;padding: 0;position: absolute;width: 1px;}#sk-container-id-2 div.sk-estimator {font-family: monospace;background-color: #f0f8ff;border: 1px dotted black;border-radius: 0.25em;box-sizing: border-box;margin-bottom: 0.5em;}#sk-container-id-2 div.sk-estimator:hover {background-color: #d4ebff;}#sk-container-id-2 div.sk-parallel-item::after {content: \"\";width: 100%;border-bottom: 1px solid gray;flex-grow: 1;}#sk-container-id-2 div.sk-label:hover label.sk-toggleable__label {background-color: #d4ebff;}#sk-container-id-2 div.sk-serial::before {content: \"\";position: absolute;border-left: 1px solid gray;box-sizing: border-box;top: 0;bottom: 0;left: 50%;z-index: 0;}#sk-container-id-2 div.sk-serial {display: flex;flex-direction: column;align-items: center;background-color: white;padding-right: 0.2em;padding-left: 0.2em;position: relative;}#sk-container-id-2 div.sk-item {position: relative;z-index: 1;}#sk-container-id-2 div.sk-parallel {display: flex;align-items: stretch;justify-content: center;background-color: white;position: relative;}#sk-container-id-2 div.sk-item::before, #sk-container-id-2 div.sk-parallel-item::before {content: \"\";position: absolute;border-left: 1px solid gray;box-sizing: border-box;top: 0;bottom: 0;left: 50%;z-index: -1;}#sk-container-id-2 div.sk-parallel-item {display: flex;flex-direction: column;z-index: 1;position: relative;background-color: white;}#sk-container-id-2 div.sk-parallel-item:first-child::after {align-self: flex-end;width: 50%;}#sk-container-id-2 div.sk-parallel-item:last-child::after {align-self: flex-start;width: 50%;}#sk-container-id-2 div.sk-parallel-item:only-child::after {width: 0;}#sk-container-id-2 div.sk-dashed-wrapped {border: 1px dashed gray;margin: 0 0.4em 0.5em 0.4em;box-sizing: border-box;padding-bottom: 0.4em;background-color: white;}#sk-container-id-2 div.sk-label label {font-family: monospace;font-weight: bold;display: inline-block;line-height: 1.2em;}#sk-container-id-2 div.sk-label-container {text-align: center;}#sk-container-id-2 div.sk-container {/* jupyter's `normalize.less` sets `[hidden] { display: none; }` but bootstrap.min.css set `[hidden] { display: none !important; }` so we also need the `!important` here to be able to override the default hidden behavior on the sphinx rendered scikit-learn.org. See: https://github.com/scikit-learn/scikit-learn/issues/21755 */display: inline-block !important;position: relative;}#sk-container-id-2 div.sk-text-repr-fallback {display: none;}</style><div id=\"sk-container-id-2\" class=\"sk-top-container\"><div class=\"sk-text-repr-fallback\"><pre>GridSearchCV(cv=5, estimator=Lasso(),\n",
       "             param_grid={&#x27;alpha&#x27;: [0.05, 0.1, 1, 5, 10, 20, 30, 35, 40, 45, 50,\n",
       "                                   55, 100, 200, 500, 1000]},\n",
       "             scoring=&#x27;neg_mean_absolute_error&#x27;)</pre><b>In a Jupyter environment, please rerun this cell to show the HTML representation or trust the notebook. <br />On GitHub, the HTML representation is unable to render, please try loading this page with nbviewer.org.</b></div><div class=\"sk-container\" hidden><div class=\"sk-item sk-dashed-wrapped\"><div class=\"sk-label-container\"><div class=\"sk-label sk-toggleable\"><input class=\"sk-toggleable__control sk-hidden--visually\" id=\"sk-estimator-id-4\" type=\"checkbox\" ><label for=\"sk-estimator-id-4\" class=\"sk-toggleable__label sk-toggleable__label-arrow\">GridSearchCV</label><div class=\"sk-toggleable__content\"><pre>GridSearchCV(cv=5, estimator=Lasso(),\n",
       "             param_grid={&#x27;alpha&#x27;: [0.05, 0.1, 1, 5, 10, 20, 30, 35, 40, 45, 50,\n",
       "                                   55, 100, 200, 500, 1000]},\n",
       "             scoring=&#x27;neg_mean_absolute_error&#x27;)</pre></div></div></div><div class=\"sk-parallel\"><div class=\"sk-parallel-item\"><div class=\"sk-item\"><div class=\"sk-label-container\"><div class=\"sk-label sk-toggleable\"><input class=\"sk-toggleable__control sk-hidden--visually\" id=\"sk-estimator-id-5\" type=\"checkbox\" ><label for=\"sk-estimator-id-5\" class=\"sk-toggleable__label sk-toggleable__label-arrow\">estimator: Lasso</label><div class=\"sk-toggleable__content\"><pre>Lasso()</pre></div></div></div><div class=\"sk-serial\"><div class=\"sk-item\"><div class=\"sk-estimator sk-toggleable\"><input class=\"sk-toggleable__control sk-hidden--visually\" id=\"sk-estimator-id-6\" type=\"checkbox\" ><label for=\"sk-estimator-id-6\" class=\"sk-toggleable__label sk-toggleable__label-arrow\">Lasso</label><div class=\"sk-toggleable__content\"><pre>Lasso()</pre></div></div></div></div></div></div></div></div></div></div>"
      ],
      "text/plain": [
       "GridSearchCV(cv=5, estimator=Lasso(),\n",
       "             param_grid={'alpha': [0.05, 0.1, 1, 5, 10, 20, 30, 35, 40, 45, 50,\n",
       "                                   55, 100, 200, 500, 1000]},\n",
       "             scoring='neg_mean_absolute_error')"
      ]
     },
     "execution_count": 112,
     "metadata": {},
     "output_type": "execute_result"
    }
   ],
   "source": [
    "LassoRegression = Lasso()\n",
    "hyperParameters = {'alpha':[0.05, 0.1, 1, 5, 10, 20, 30, 35, 40, 45, 50, 55, 100, 200, 500, 1000]}\n",
    "LassoRegressor = GridSearchCV(LassoRegression, hyperParameters, scoring='neg_mean_absolute_error', cv=5)\n",
    "LassoRegressor.fit(scaled_X_train, y_train)"
   ]
  },
  {
   "cell_type": "code",
   "execution_count": 113,
   "id": "eb5477ab-4017-41e5-b3e6-f1c9057170ad",
   "metadata": {},
   "outputs": [
    {
     "data": {
      "text/plain": [
       "{'alpha': 0.05}"
      ]
     },
     "execution_count": 113,
     "metadata": {},
     "output_type": "execute_result"
    }
   ],
   "source": [
    "LassoRegressor.best_params_"
   ]
  },
  {
   "cell_type": "code",
   "execution_count": 114,
   "id": "32d967e6-3c0f-45f1-98a7-d0f363fd892e",
   "metadata": {},
   "outputs": [
    {
     "data": {
      "text/plain": [
       "-6.331521162507782"
      ]
     },
     "execution_count": 114,
     "metadata": {},
     "output_type": "execute_result"
    }
   ],
   "source": [
    "LassoRegressor.best_score_"
   ]
  },
  {
   "cell_type": "markdown",
   "id": "7b2d4d63-1871-4662-a806-8a8c5e847c34",
   "metadata": {},
   "source": [
    "### LGBM"
   ]
  },
  {
   "cell_type": "code",
   "execution_count": 115,
   "id": "1f25b683-5a2f-43f7-9747-0802b56a5061",
   "metadata": {},
   "outputs": [
    {
     "data": {
      "text/html": [
       "<style>#sk-container-id-3 {color: black;}#sk-container-id-3 pre{padding: 0;}#sk-container-id-3 div.sk-toggleable {background-color: white;}#sk-container-id-3 label.sk-toggleable__label {cursor: pointer;display: block;width: 100%;margin-bottom: 0;padding: 0.3em;box-sizing: border-box;text-align: center;}#sk-container-id-3 label.sk-toggleable__label-arrow:before {content: \"▸\";float: left;margin-right: 0.25em;color: #696969;}#sk-container-id-3 label.sk-toggleable__label-arrow:hover:before {color: black;}#sk-container-id-3 div.sk-estimator:hover label.sk-toggleable__label-arrow:before {color: black;}#sk-container-id-3 div.sk-toggleable__content {max-height: 0;max-width: 0;overflow: hidden;text-align: left;background-color: #f0f8ff;}#sk-container-id-3 div.sk-toggleable__content pre {margin: 0.2em;color: black;border-radius: 0.25em;background-color: #f0f8ff;}#sk-container-id-3 input.sk-toggleable__control:checked~div.sk-toggleable__content {max-height: 200px;max-width: 100%;overflow: auto;}#sk-container-id-3 input.sk-toggleable__control:checked~label.sk-toggleable__label-arrow:before {content: \"▾\";}#sk-container-id-3 div.sk-estimator input.sk-toggleable__control:checked~label.sk-toggleable__label {background-color: #d4ebff;}#sk-container-id-3 div.sk-label input.sk-toggleable__control:checked~label.sk-toggleable__label {background-color: #d4ebff;}#sk-container-id-3 input.sk-hidden--visually {border: 0;clip: rect(1px 1px 1px 1px);clip: rect(1px, 1px, 1px, 1px);height: 1px;margin: -1px;overflow: hidden;padding: 0;position: absolute;width: 1px;}#sk-container-id-3 div.sk-estimator {font-family: monospace;background-color: #f0f8ff;border: 1px dotted black;border-radius: 0.25em;box-sizing: border-box;margin-bottom: 0.5em;}#sk-container-id-3 div.sk-estimator:hover {background-color: #d4ebff;}#sk-container-id-3 div.sk-parallel-item::after {content: \"\";width: 100%;border-bottom: 1px solid gray;flex-grow: 1;}#sk-container-id-3 div.sk-label:hover label.sk-toggleable__label {background-color: #d4ebff;}#sk-container-id-3 div.sk-serial::before {content: \"\";position: absolute;border-left: 1px solid gray;box-sizing: border-box;top: 0;bottom: 0;left: 50%;z-index: 0;}#sk-container-id-3 div.sk-serial {display: flex;flex-direction: column;align-items: center;background-color: white;padding-right: 0.2em;padding-left: 0.2em;position: relative;}#sk-container-id-3 div.sk-item {position: relative;z-index: 1;}#sk-container-id-3 div.sk-parallel {display: flex;align-items: stretch;justify-content: center;background-color: white;position: relative;}#sk-container-id-3 div.sk-item::before, #sk-container-id-3 div.sk-parallel-item::before {content: \"\";position: absolute;border-left: 1px solid gray;box-sizing: border-box;top: 0;bottom: 0;left: 50%;z-index: -1;}#sk-container-id-3 div.sk-parallel-item {display: flex;flex-direction: column;z-index: 1;position: relative;background-color: white;}#sk-container-id-3 div.sk-parallel-item:first-child::after {align-self: flex-end;width: 50%;}#sk-container-id-3 div.sk-parallel-item:last-child::after {align-self: flex-start;width: 50%;}#sk-container-id-3 div.sk-parallel-item:only-child::after {width: 0;}#sk-container-id-3 div.sk-dashed-wrapped {border: 1px dashed gray;margin: 0 0.4em 0.5em 0.4em;box-sizing: border-box;padding-bottom: 0.4em;background-color: white;}#sk-container-id-3 div.sk-label label {font-family: monospace;font-weight: bold;display: inline-block;line-height: 1.2em;}#sk-container-id-3 div.sk-label-container {text-align: center;}#sk-container-id-3 div.sk-container {/* jupyter's `normalize.less` sets `[hidden] { display: none; }` but bootstrap.min.css set `[hidden] { display: none !important; }` so we also need the `!important` here to be able to override the default hidden behavior on the sphinx rendered scikit-learn.org. See: https://github.com/scikit-learn/scikit-learn/issues/21755 */display: inline-block !important;position: relative;}#sk-container-id-3 div.sk-text-repr-fallback {display: none;}</style><div id=\"sk-container-id-3\" class=\"sk-top-container\"><div class=\"sk-text-repr-fallback\"><pre>GridSearchCV(cv=5, estimator=LGBMRegressor(),\n",
       "             param_grid={&#x27;learning_rate&#x27;: [0.001, 0.01, 0.1, 0.5],\n",
       "                         &#x27;max_depth&#x27;: [2, 4, 6, 8, 10, 12],\n",
       "                         &#x27;num_leaves&#x27;: [4, 8, 16], &#x27;random_state&#x27;: [131223],\n",
       "                         &#x27;verbose&#x27;: [-1]},\n",
       "             scoring=&#x27;neg_mean_absolute_error&#x27;)</pre><b>In a Jupyter environment, please rerun this cell to show the HTML representation or trust the notebook. <br />On GitHub, the HTML representation is unable to render, please try loading this page with nbviewer.org.</b></div><div class=\"sk-container\" hidden><div class=\"sk-item sk-dashed-wrapped\"><div class=\"sk-label-container\"><div class=\"sk-label sk-toggleable\"><input class=\"sk-toggleable__control sk-hidden--visually\" id=\"sk-estimator-id-7\" type=\"checkbox\" ><label for=\"sk-estimator-id-7\" class=\"sk-toggleable__label sk-toggleable__label-arrow\">GridSearchCV</label><div class=\"sk-toggleable__content\"><pre>GridSearchCV(cv=5, estimator=LGBMRegressor(),\n",
       "             param_grid={&#x27;learning_rate&#x27;: [0.001, 0.01, 0.1, 0.5],\n",
       "                         &#x27;max_depth&#x27;: [2, 4, 6, 8, 10, 12],\n",
       "                         &#x27;num_leaves&#x27;: [4, 8, 16], &#x27;random_state&#x27;: [131223],\n",
       "                         &#x27;verbose&#x27;: [-1]},\n",
       "             scoring=&#x27;neg_mean_absolute_error&#x27;)</pre></div></div></div><div class=\"sk-parallel\"><div class=\"sk-parallel-item\"><div class=\"sk-item\"><div class=\"sk-label-container\"><div class=\"sk-label sk-toggleable\"><input class=\"sk-toggleable__control sk-hidden--visually\" id=\"sk-estimator-id-8\" type=\"checkbox\" ><label for=\"sk-estimator-id-8\" class=\"sk-toggleable__label sk-toggleable__label-arrow\">estimator: LGBMRegressor</label><div class=\"sk-toggleable__content\"><pre>LGBMRegressor()</pre></div></div></div><div class=\"sk-serial\"><div class=\"sk-item\"><div class=\"sk-estimator sk-toggleable\"><input class=\"sk-toggleable__control sk-hidden--visually\" id=\"sk-estimator-id-9\" type=\"checkbox\" ><label for=\"sk-estimator-id-9\" class=\"sk-toggleable__label sk-toggleable__label-arrow\">LGBMRegressor</label><div class=\"sk-toggleable__content\"><pre>LGBMRegressor()</pre></div></div></div></div></div></div></div></div></div></div>"
      ],
      "text/plain": [
       "GridSearchCV(cv=5, estimator=LGBMRegressor(),\n",
       "             param_grid={'learning_rate': [0.001, 0.01, 0.1, 0.5],\n",
       "                         'max_depth': [2, 4, 6, 8, 10, 12],\n",
       "                         'num_leaves': [4, 8, 16], 'random_state': [131223],\n",
       "                         'verbose': [-1]},\n",
       "             scoring='neg_mean_absolute_error')"
      ]
     },
     "execution_count": 115,
     "metadata": {},
     "output_type": "execute_result"
    }
   ],
   "source": [
    "LGBMReg = LGBMRegressor()\n",
    "hyperParameters = {'max_depth': [2, 4, 6, 8, 10, 12],\n",
    "                   'num_leaves': [4, 8, 16],\n",
    "                   'learning_rate': [0.001, 0.01, 0.1, 0.5],\n",
    "                   'random_state': [131223],\n",
    "                   'verbose': [-1]}\n",
    "LGBMRegression = GridSearchCV(LGBMReg, hyperParameters, scoring='neg_mean_absolute_error', cv=5)\n",
    "LGBMRegression.fit(X_train, y_train)"
   ]
  },
  {
   "cell_type": "code",
   "execution_count": 116,
   "id": "c7102d3b-129e-4840-ac06-34357bc9e2db",
   "metadata": {},
   "outputs": [
    {
     "data": {
      "text/plain": [
       "{'learning_rate': 0.1,\n",
       " 'max_depth': 8,\n",
       " 'num_leaves': 8,\n",
       " 'random_state': 131223,\n",
       " 'verbose': -1}"
      ]
     },
     "execution_count": 116,
     "metadata": {},
     "output_type": "execute_result"
    }
   ],
   "source": [
    "LGBMRegression.best_params_"
   ]
  },
  {
   "cell_type": "code",
   "execution_count": 117,
   "id": "3f62a898-0734-4e20-aac2-f4c3c13116fb",
   "metadata": {
    "scrolled": true
   },
   "outputs": [
    {
     "data": {
      "text/plain": [
       "-6.207657210092609"
      ]
     },
     "execution_count": 117,
     "metadata": {},
     "output_type": "execute_result"
    }
   ],
   "source": [
    "LGBMRegression.best_score_"
   ]
  },
  {
   "cell_type": "markdown",
   "id": "c2ad9530",
   "metadata": {},
   "source": [
    "**CatBoost**"
   ]
  },
  {
   "cell_type": "code",
   "execution_count": 142,
   "id": "f97f57b5",
   "metadata": {},
   "outputs": [
    {
     "data": {
      "text/html": [
       "<style>#sk-container-id-7 {color: black;}#sk-container-id-7 pre{padding: 0;}#sk-container-id-7 div.sk-toggleable {background-color: white;}#sk-container-id-7 label.sk-toggleable__label {cursor: pointer;display: block;width: 100%;margin-bottom: 0;padding: 0.3em;box-sizing: border-box;text-align: center;}#sk-container-id-7 label.sk-toggleable__label-arrow:before {content: \"▸\";float: left;margin-right: 0.25em;color: #696969;}#sk-container-id-7 label.sk-toggleable__label-arrow:hover:before {color: black;}#sk-container-id-7 div.sk-estimator:hover label.sk-toggleable__label-arrow:before {color: black;}#sk-container-id-7 div.sk-toggleable__content {max-height: 0;max-width: 0;overflow: hidden;text-align: left;background-color: #f0f8ff;}#sk-container-id-7 div.sk-toggleable__content pre {margin: 0.2em;color: black;border-radius: 0.25em;background-color: #f0f8ff;}#sk-container-id-7 input.sk-toggleable__control:checked~div.sk-toggleable__content {max-height: 200px;max-width: 100%;overflow: auto;}#sk-container-id-7 input.sk-toggleable__control:checked~label.sk-toggleable__label-arrow:before {content: \"▾\";}#sk-container-id-7 div.sk-estimator input.sk-toggleable__control:checked~label.sk-toggleable__label {background-color: #d4ebff;}#sk-container-id-7 div.sk-label input.sk-toggleable__control:checked~label.sk-toggleable__label {background-color: #d4ebff;}#sk-container-id-7 input.sk-hidden--visually {border: 0;clip: rect(1px 1px 1px 1px);clip: rect(1px, 1px, 1px, 1px);height: 1px;margin: -1px;overflow: hidden;padding: 0;position: absolute;width: 1px;}#sk-container-id-7 div.sk-estimator {font-family: monospace;background-color: #f0f8ff;border: 1px dotted black;border-radius: 0.25em;box-sizing: border-box;margin-bottom: 0.5em;}#sk-container-id-7 div.sk-estimator:hover {background-color: #d4ebff;}#sk-container-id-7 div.sk-parallel-item::after {content: \"\";width: 100%;border-bottom: 1px solid gray;flex-grow: 1;}#sk-container-id-7 div.sk-label:hover label.sk-toggleable__label {background-color: #d4ebff;}#sk-container-id-7 div.sk-serial::before {content: \"\";position: absolute;border-left: 1px solid gray;box-sizing: border-box;top: 0;bottom: 0;left: 50%;z-index: 0;}#sk-container-id-7 div.sk-serial {display: flex;flex-direction: column;align-items: center;background-color: white;padding-right: 0.2em;padding-left: 0.2em;position: relative;}#sk-container-id-7 div.sk-item {position: relative;z-index: 1;}#sk-container-id-7 div.sk-parallel {display: flex;align-items: stretch;justify-content: center;background-color: white;position: relative;}#sk-container-id-7 div.sk-item::before, #sk-container-id-7 div.sk-parallel-item::before {content: \"\";position: absolute;border-left: 1px solid gray;box-sizing: border-box;top: 0;bottom: 0;left: 50%;z-index: -1;}#sk-container-id-7 div.sk-parallel-item {display: flex;flex-direction: column;z-index: 1;position: relative;background-color: white;}#sk-container-id-7 div.sk-parallel-item:first-child::after {align-self: flex-end;width: 50%;}#sk-container-id-7 div.sk-parallel-item:last-child::after {align-self: flex-start;width: 50%;}#sk-container-id-7 div.sk-parallel-item:only-child::after {width: 0;}#sk-container-id-7 div.sk-dashed-wrapped {border: 1px dashed gray;margin: 0 0.4em 0.5em 0.4em;box-sizing: border-box;padding-bottom: 0.4em;background-color: white;}#sk-container-id-7 div.sk-label label {font-family: monospace;font-weight: bold;display: inline-block;line-height: 1.2em;}#sk-container-id-7 div.sk-label-container {text-align: center;}#sk-container-id-7 div.sk-container {/* jupyter's `normalize.less` sets `[hidden] { display: none; }` but bootstrap.min.css set `[hidden] { display: none !important; }` so we also need the `!important` here to be able to override the default hidden behavior on the sphinx rendered scikit-learn.org. See: https://github.com/scikit-learn/scikit-learn/issues/21755 */display: inline-block !important;position: relative;}#sk-container-id-7 div.sk-text-repr-fallback {display: none;}</style><div id=\"sk-container-id-7\" class=\"sk-top-container\"><div class=\"sk-text-repr-fallback\"><pre>GridSearchCV(cv=5,\n",
       "             estimator=&lt;catboost.core.CatBoostRegressor object at 0x0000014177B247C0&gt;,\n",
       "             param_grid={&#x27;depth&#x27;: [2, 4, 6], &#x27;l2_leaf_reg&#x27;: [2, 4, 6],\n",
       "                         &#x27;learning_rate&#x27;: [0.001, 0.01, 0.05],\n",
       "                         &#x27;n_estimators&#x27;: [200, 500, 1000],\n",
       "                         &#x27;random_seed&#x27;: [131223], &#x27;silent&#x27;: [True]},\n",
       "             scoring=&#x27;neg_mean_absolute_error&#x27;)</pre><b>In a Jupyter environment, please rerun this cell to show the HTML representation or trust the notebook. <br />On GitHub, the HTML representation is unable to render, please try loading this page with nbviewer.org.</b></div><div class=\"sk-container\" hidden><div class=\"sk-item sk-dashed-wrapped\"><div class=\"sk-label-container\"><div class=\"sk-label sk-toggleable\"><input class=\"sk-toggleable__control sk-hidden--visually\" id=\"sk-estimator-id-19\" type=\"checkbox\" ><label for=\"sk-estimator-id-19\" class=\"sk-toggleable__label sk-toggleable__label-arrow\">GridSearchCV</label><div class=\"sk-toggleable__content\"><pre>GridSearchCV(cv=5,\n",
       "             estimator=&lt;catboost.core.CatBoostRegressor object at 0x0000014177B247C0&gt;,\n",
       "             param_grid={&#x27;depth&#x27;: [2, 4, 6], &#x27;l2_leaf_reg&#x27;: [2, 4, 6],\n",
       "                         &#x27;learning_rate&#x27;: [0.001, 0.01, 0.05],\n",
       "                         &#x27;n_estimators&#x27;: [200, 500, 1000],\n",
       "                         &#x27;random_seed&#x27;: [131223], &#x27;silent&#x27;: [True]},\n",
       "             scoring=&#x27;neg_mean_absolute_error&#x27;)</pre></div></div></div><div class=\"sk-parallel\"><div class=\"sk-parallel-item\"><div class=\"sk-item\"><div class=\"sk-label-container\"><div class=\"sk-label sk-toggleable\"><input class=\"sk-toggleable__control sk-hidden--visually\" id=\"sk-estimator-id-20\" type=\"checkbox\" ><label for=\"sk-estimator-id-20\" class=\"sk-toggleable__label sk-toggleable__label-arrow\">estimator: CatBoostRegressor</label><div class=\"sk-toggleable__content\"><pre>&lt;catboost.core.CatBoostRegressor object at 0x0000014177B247C0&gt;</pre></div></div></div><div class=\"sk-serial\"><div class=\"sk-item\"><div class=\"sk-estimator sk-toggleable\"><input class=\"sk-toggleable__control sk-hidden--visually\" id=\"sk-estimator-id-21\" type=\"checkbox\" ><label for=\"sk-estimator-id-21\" class=\"sk-toggleable__label sk-toggleable__label-arrow\">CatBoostRegressor</label><div class=\"sk-toggleable__content\"><pre>&lt;catboost.core.CatBoostRegressor object at 0x0000014177B247C0&gt;</pre></div></div></div></div></div></div></div></div></div></div>"
      ],
      "text/plain": [
       "GridSearchCV(cv=5,\n",
       "             estimator=<catboost.core.CatBoostRegressor object at 0x0000014177B247C0>,\n",
       "             param_grid={'depth': [2, 4, 6], 'l2_leaf_reg': [2, 4, 6],\n",
       "                         'learning_rate': [0.001, 0.01, 0.05],\n",
       "                         'n_estimators': [200, 500, 1000],\n",
       "                         'random_seed': [131223], 'silent': [True]},\n",
       "             scoring='neg_mean_absolute_error')"
      ]
     },
     "execution_count": 142,
     "metadata": {},
     "output_type": "execute_result"
    }
   ],
   "source": [
    "CatReg = CatBoostRegressor()\n",
    "hyperParameters  = {\n",
    "        'learning_rate': [0.001, 0.01, 0.05],\n",
    "        'depth': [2, 4, 6],\n",
    "        'l2_leaf_reg': [2, 4, 6],  \n",
    "        'n_estimators': [200, 500, 1000],\n",
    "        'random_seed':[131223],\n",
    "        'silent':[True]\n",
    "        }\n",
    "CatRegression = GridSearchCV(CatReg, hyperParameters, scoring='neg_mean_absolute_error', cv=5)\n",
    "CatRegression.fit(X_train, y_train)"
   ]
  },
  {
   "cell_type": "code",
   "execution_count": 143,
   "id": "c837b76e",
   "metadata": {},
   "outputs": [
    {
     "data": {
      "text/plain": [
       "{'depth': 2,\n",
       " 'l2_leaf_reg': 6,\n",
       " 'learning_rate': 0.05,\n",
       " 'n_estimators': 1000,\n",
       " 'random_seed': 131223,\n",
       " 'silent': True}"
      ]
     },
     "execution_count": 143,
     "metadata": {},
     "output_type": "execute_result"
    }
   ],
   "source": [
    "CatRegression.best_params_"
   ]
  },
  {
   "cell_type": "code",
   "execution_count": 144,
   "id": "e148c864",
   "metadata": {},
   "outputs": [
    {
     "data": {
      "text/plain": [
       "-6.074377014965959"
      ]
     },
     "execution_count": 144,
     "metadata": {},
     "output_type": "execute_result"
    }
   ],
   "source": [
    "CatRegression.best_score_"
   ]
  },
  {
   "cell_type": "markdown",
   "id": "428ee00e-8f19-4b80-8b9e-1350b03b9baa",
   "metadata": {},
   "source": [
    "### XGBoost"
   ]
  },
  {
   "cell_type": "code",
   "execution_count": 121,
   "id": "b92a6c4d-7050-431c-b326-c8b646d27d45",
   "metadata": {},
   "outputs": [
    {
     "data": {
      "text/html": [
       "<style>#sk-container-id-5 {color: black;}#sk-container-id-5 pre{padding: 0;}#sk-container-id-5 div.sk-toggleable {background-color: white;}#sk-container-id-5 label.sk-toggleable__label {cursor: pointer;display: block;width: 100%;margin-bottom: 0;padding: 0.3em;box-sizing: border-box;text-align: center;}#sk-container-id-5 label.sk-toggleable__label-arrow:before {content: \"▸\";float: left;margin-right: 0.25em;color: #696969;}#sk-container-id-5 label.sk-toggleable__label-arrow:hover:before {color: black;}#sk-container-id-5 div.sk-estimator:hover label.sk-toggleable__label-arrow:before {color: black;}#sk-container-id-5 div.sk-toggleable__content {max-height: 0;max-width: 0;overflow: hidden;text-align: left;background-color: #f0f8ff;}#sk-container-id-5 div.sk-toggleable__content pre {margin: 0.2em;color: black;border-radius: 0.25em;background-color: #f0f8ff;}#sk-container-id-5 input.sk-toggleable__control:checked~div.sk-toggleable__content {max-height: 200px;max-width: 100%;overflow: auto;}#sk-container-id-5 input.sk-toggleable__control:checked~label.sk-toggleable__label-arrow:before {content: \"▾\";}#sk-container-id-5 div.sk-estimator input.sk-toggleable__control:checked~label.sk-toggleable__label {background-color: #d4ebff;}#sk-container-id-5 div.sk-label input.sk-toggleable__control:checked~label.sk-toggleable__label {background-color: #d4ebff;}#sk-container-id-5 input.sk-hidden--visually {border: 0;clip: rect(1px 1px 1px 1px);clip: rect(1px, 1px, 1px, 1px);height: 1px;margin: -1px;overflow: hidden;padding: 0;position: absolute;width: 1px;}#sk-container-id-5 div.sk-estimator {font-family: monospace;background-color: #f0f8ff;border: 1px dotted black;border-radius: 0.25em;box-sizing: border-box;margin-bottom: 0.5em;}#sk-container-id-5 div.sk-estimator:hover {background-color: #d4ebff;}#sk-container-id-5 div.sk-parallel-item::after {content: \"\";width: 100%;border-bottom: 1px solid gray;flex-grow: 1;}#sk-container-id-5 div.sk-label:hover label.sk-toggleable__label {background-color: #d4ebff;}#sk-container-id-5 div.sk-serial::before {content: \"\";position: absolute;border-left: 1px solid gray;box-sizing: border-box;top: 0;bottom: 0;left: 50%;z-index: 0;}#sk-container-id-5 div.sk-serial {display: flex;flex-direction: column;align-items: center;background-color: white;padding-right: 0.2em;padding-left: 0.2em;position: relative;}#sk-container-id-5 div.sk-item {position: relative;z-index: 1;}#sk-container-id-5 div.sk-parallel {display: flex;align-items: stretch;justify-content: center;background-color: white;position: relative;}#sk-container-id-5 div.sk-item::before, #sk-container-id-5 div.sk-parallel-item::before {content: \"\";position: absolute;border-left: 1px solid gray;box-sizing: border-box;top: 0;bottom: 0;left: 50%;z-index: -1;}#sk-container-id-5 div.sk-parallel-item {display: flex;flex-direction: column;z-index: 1;position: relative;background-color: white;}#sk-container-id-5 div.sk-parallel-item:first-child::after {align-self: flex-end;width: 50%;}#sk-container-id-5 div.sk-parallel-item:last-child::after {align-self: flex-start;width: 50%;}#sk-container-id-5 div.sk-parallel-item:only-child::after {width: 0;}#sk-container-id-5 div.sk-dashed-wrapped {border: 1px dashed gray;margin: 0 0.4em 0.5em 0.4em;box-sizing: border-box;padding-bottom: 0.4em;background-color: white;}#sk-container-id-5 div.sk-label label {font-family: monospace;font-weight: bold;display: inline-block;line-height: 1.2em;}#sk-container-id-5 div.sk-label-container {text-align: center;}#sk-container-id-5 div.sk-container {/* jupyter's `normalize.less` sets `[hidden] { display: none; }` but bootstrap.min.css set `[hidden] { display: none !important; }` so we also need the `!important` here to be able to override the default hidden behavior on the sphinx rendered scikit-learn.org. See: https://github.com/scikit-learn/scikit-learn/issues/21755 */display: inline-block !important;position: relative;}#sk-container-id-5 div.sk-text-repr-fallback {display: none;}</style><div id=\"sk-container-id-5\" class=\"sk-top-container\"><div class=\"sk-text-repr-fallback\"><pre>GridSearchCV(cv=5,\n",
       "             estimator=XGBRegressor(base_score=None, booster=None,\n",
       "                                    callbacks=None, colsample_bylevel=None,\n",
       "                                    colsample_bynode=None,\n",
       "                                    colsample_bytree=None,\n",
       "                                    early_stopping_rounds=None,\n",
       "                                    enable_categorical=False, eval_metric=None,\n",
       "                                    feature_types=None, gamma=None, gpu_id=None,\n",
       "                                    grow_policy=None, importance_type=None,\n",
       "                                    interaction_constraints=None,\n",
       "                                    learning_rate=None, m...\n",
       "                                    max_cat_to_onehot=None, max_delta_step=None,\n",
       "                                    max_depth=None, max_leaves=None,\n",
       "                                    min_child_weight=None, missing=nan,\n",
       "                                    monotone_constraints=None, n_estimators=100,\n",
       "                                    n_jobs=None, num_parallel_tree=None,\n",
       "                                    predictor=None, random_state=None, ...),\n",
       "             param_grid={&#x27;learning_rate&#x27;: [0.001, 0.01, 0.1],\n",
       "                         &#x27;max_depth&#x27;: [2, 4, 6, 8, 10],\n",
       "                         &#x27;n_estimators&#x27;: [100, 200, 500, 800, 1000],\n",
       "                         &#x27;random_state&#x27;: [131223]},\n",
       "             scoring=&#x27;neg_mean_absolute_error&#x27;)</pre><b>In a Jupyter environment, please rerun this cell to show the HTML representation or trust the notebook. <br />On GitHub, the HTML representation is unable to render, please try loading this page with nbviewer.org.</b></div><div class=\"sk-container\" hidden><div class=\"sk-item sk-dashed-wrapped\"><div class=\"sk-label-container\"><div class=\"sk-label sk-toggleable\"><input class=\"sk-toggleable__control sk-hidden--visually\" id=\"sk-estimator-id-13\" type=\"checkbox\" ><label for=\"sk-estimator-id-13\" class=\"sk-toggleable__label sk-toggleable__label-arrow\">GridSearchCV</label><div class=\"sk-toggleable__content\"><pre>GridSearchCV(cv=5,\n",
       "             estimator=XGBRegressor(base_score=None, booster=None,\n",
       "                                    callbacks=None, colsample_bylevel=None,\n",
       "                                    colsample_bynode=None,\n",
       "                                    colsample_bytree=None,\n",
       "                                    early_stopping_rounds=None,\n",
       "                                    enable_categorical=False, eval_metric=None,\n",
       "                                    feature_types=None, gamma=None, gpu_id=None,\n",
       "                                    grow_policy=None, importance_type=None,\n",
       "                                    interaction_constraints=None,\n",
       "                                    learning_rate=None, m...\n",
       "                                    max_cat_to_onehot=None, max_delta_step=None,\n",
       "                                    max_depth=None, max_leaves=None,\n",
       "                                    min_child_weight=None, missing=nan,\n",
       "                                    monotone_constraints=None, n_estimators=100,\n",
       "                                    n_jobs=None, num_parallel_tree=None,\n",
       "                                    predictor=None, random_state=None, ...),\n",
       "             param_grid={&#x27;learning_rate&#x27;: [0.001, 0.01, 0.1],\n",
       "                         &#x27;max_depth&#x27;: [2, 4, 6, 8, 10],\n",
       "                         &#x27;n_estimators&#x27;: [100, 200, 500, 800, 1000],\n",
       "                         &#x27;random_state&#x27;: [131223]},\n",
       "             scoring=&#x27;neg_mean_absolute_error&#x27;)</pre></div></div></div><div class=\"sk-parallel\"><div class=\"sk-parallel-item\"><div class=\"sk-item\"><div class=\"sk-label-container\"><div class=\"sk-label sk-toggleable\"><input class=\"sk-toggleable__control sk-hidden--visually\" id=\"sk-estimator-id-14\" type=\"checkbox\" ><label for=\"sk-estimator-id-14\" class=\"sk-toggleable__label sk-toggleable__label-arrow\">estimator: XGBRegressor</label><div class=\"sk-toggleable__content\"><pre>XGBRegressor(base_score=None, booster=None, callbacks=None,\n",
       "             colsample_bylevel=None, colsample_bynode=None,\n",
       "             colsample_bytree=None, early_stopping_rounds=None,\n",
       "             enable_categorical=False, eval_metric=None, feature_types=None,\n",
       "             gamma=None, gpu_id=None, grow_policy=None, importance_type=None,\n",
       "             interaction_constraints=None, learning_rate=None, max_bin=None,\n",
       "             max_cat_threshold=None, max_cat_to_onehot=None,\n",
       "             max_delta_step=None, max_depth=None, max_leaves=None,\n",
       "             min_child_weight=None, missing=nan, monotone_constraints=None,\n",
       "             n_estimators=100, n_jobs=None, num_parallel_tree=None,\n",
       "             predictor=None, random_state=None, ...)</pre></div></div></div><div class=\"sk-serial\"><div class=\"sk-item\"><div class=\"sk-estimator sk-toggleable\"><input class=\"sk-toggleable__control sk-hidden--visually\" id=\"sk-estimator-id-15\" type=\"checkbox\" ><label for=\"sk-estimator-id-15\" class=\"sk-toggleable__label sk-toggleable__label-arrow\">XGBRegressor</label><div class=\"sk-toggleable__content\"><pre>XGBRegressor(base_score=None, booster=None, callbacks=None,\n",
       "             colsample_bylevel=None, colsample_bynode=None,\n",
       "             colsample_bytree=None, early_stopping_rounds=None,\n",
       "             enable_categorical=False, eval_metric=None, feature_types=None,\n",
       "             gamma=None, gpu_id=None, grow_policy=None, importance_type=None,\n",
       "             interaction_constraints=None, learning_rate=None, max_bin=None,\n",
       "             max_cat_threshold=None, max_cat_to_onehot=None,\n",
       "             max_delta_step=None, max_depth=None, max_leaves=None,\n",
       "             min_child_weight=None, missing=nan, monotone_constraints=None,\n",
       "             n_estimators=100, n_jobs=None, num_parallel_tree=None,\n",
       "             predictor=None, random_state=None, ...)</pre></div></div></div></div></div></div></div></div></div></div>"
      ],
      "text/plain": [
       "GridSearchCV(cv=5,\n",
       "             estimator=XGBRegressor(base_score=None, booster=None,\n",
       "                                    callbacks=None, colsample_bylevel=None,\n",
       "                                    colsample_bynode=None,\n",
       "                                    colsample_bytree=None,\n",
       "                                    early_stopping_rounds=None,\n",
       "                                    enable_categorical=False, eval_metric=None,\n",
       "                                    feature_types=None, gamma=None, gpu_id=None,\n",
       "                                    grow_policy=None, importance_type=None,\n",
       "                                    interaction_constraints=None,\n",
       "                                    learning_rate=None, m...\n",
       "                                    max_cat_to_onehot=None, max_delta_step=None,\n",
       "                                    max_depth=None, max_leaves=None,\n",
       "                                    min_child_weight=None, missing=nan,\n",
       "                                    monotone_constraints=None, n_estimators=100,\n",
       "                                    n_jobs=None, num_parallel_tree=None,\n",
       "                                    predictor=None, random_state=None, ...),\n",
       "             param_grid={'learning_rate': [0.001, 0.01, 0.1],\n",
       "                         'max_depth': [2, 4, 6, 8, 10],\n",
       "                         'n_estimators': [100, 200, 500, 800, 1000],\n",
       "                         'random_state': [131223]},\n",
       "             scoring='neg_mean_absolute_error')"
      ]
     },
     "execution_count": 121,
     "metadata": {},
     "output_type": "execute_result"
    }
   ],
   "source": [
    "LGBReg = XGBRegressor()\n",
    "hyperParameters = {'learning_rate':[0.001, 0.01, 0.1],\n",
    "                   'n_estimators': [100, 200, 500, 800, 1000],\n",
    "                   'max_depth': [2, 4, 6, 8, 10],\n",
    "                   'random_state': [131223]}\n",
    "LGBRegression = GridSearchCV(LGBReg, hyperParameters, scoring='neg_mean_absolute_error', cv=5)\n",
    "LGBRegression.fit(X_train, y_train)"
   ]
  },
  {
   "cell_type": "code",
   "execution_count": 122,
   "id": "40005f68-5ec7-42df-8ee2-1b184c798dcf",
   "metadata": {},
   "outputs": [
    {
     "data": {
      "text/plain": [
       "{'learning_rate': 0.1,\n",
       " 'max_depth': 2,\n",
       " 'n_estimators': 200,\n",
       " 'random_state': 131223}"
      ]
     },
     "execution_count": 122,
     "metadata": {},
     "output_type": "execute_result"
    }
   ],
   "source": [
    "LGBRegression.best_params_"
   ]
  },
  {
   "cell_type": "code",
   "execution_count": 123,
   "id": "b983c01c-5def-4b88-9932-f8f8ed992d80",
   "metadata": {},
   "outputs": [
    {
     "data": {
      "text/plain": [
       "-6.141167932269218"
      ]
     },
     "execution_count": 123,
     "metadata": {},
     "output_type": "execute_result"
    }
   ],
   "source": [
    "LGBRegression.best_score_"
   ]
  },
  {
   "cell_type": "markdown",
   "id": "f5b479e6",
   "metadata": {},
   "source": [
    "## Проверка модели на тестовой выборке"
   ]
  },
  {
   "cell_type": "code",
   "execution_count": 145,
   "id": "285b863c",
   "metadata": {},
   "outputs": [],
   "source": [
    "model = CatRegression.best_estimator_"
   ]
  },
  {
   "cell_type": "code",
   "execution_count": 146,
   "id": "93954f8f",
   "metadata": {},
   "outputs": [
    {
     "data": {
      "text/plain": [
       "<catboost.core.CatBoostRegressor at 0x14178d6c640>"
      ]
     },
     "execution_count": 146,
     "metadata": {},
     "output_type": "execute_result"
    }
   ],
   "source": [
    "model.fit(X_train, y_train)"
   ]
  },
  {
   "cell_type": "code",
   "execution_count": 147,
   "id": "7d9c6304",
   "metadata": {},
   "outputs": [],
   "source": [
    "y_pred = model.predict(X_test)"
   ]
  },
  {
   "cell_type": "code",
   "execution_count": 148,
   "id": "6a0c6695",
   "metadata": {},
   "outputs": [
    {
     "data": {
      "text/plain": [
       "6.28275665336084"
      ]
     },
     "execution_count": 148,
     "metadata": {},
     "output_type": "execute_result"
    }
   ],
   "source": [
    "mean_absolute_error(y_test, y_pred)"
   ]
  },
  {
   "cell_type": "markdown",
   "id": "2799fce4",
   "metadata": {},
   "source": [
    "## Выявление важных признаков для полученной модели"
   ]
  },
  {
   "cell_type": "markdown",
   "id": "62f9c885",
   "metadata": {},
   "source": [
    "Из полученной модели выведем важность признаков"
   ]
  },
  {
   "cell_type": "code",
   "execution_count": 163,
   "id": "0d2df578",
   "metadata": {
    "scrolled": true
   },
   "outputs": [],
   "source": [
    "importance = list(zip(model.feature_names_, list(model.feature_importances_)))"
   ]
  },
  {
   "cell_type": "code",
   "execution_count": 177,
   "id": "57c2ec9c",
   "metadata": {},
   "outputs": [
    {
     "data": {
      "text/html": [
       "<div>\n",
       "<style scoped>\n",
       "    .dataframe tbody tr th:only-of-type {\n",
       "        vertical-align: middle;\n",
       "    }\n",
       "\n",
       "    .dataframe tbody tr th {\n",
       "        vertical-align: top;\n",
       "    }\n",
       "\n",
       "    .dataframe thead th {\n",
       "        text-align: right;\n",
       "    }\n",
       "</style>\n",
       "<table border=\"1\" class=\"dataframe\">\n",
       "  <thead>\n",
       "    <tr style=\"text-align: right;\">\n",
       "      <th></th>\n",
       "      <th>feature</th>\n",
       "      <th>importance</th>\n",
       "    </tr>\n",
       "  </thead>\n",
       "  <tbody>\n",
       "    <tr>\n",
       "      <th>10</th>\n",
       "      <td>Время нагрева дугой</td>\n",
       "      <td>23.879837</td>\n",
       "    </tr>\n",
       "    <tr>\n",
       "      <th>9</th>\n",
       "      <td>Начальная температура</td>\n",
       "      <td>23.829550</td>\n",
       "    </tr>\n",
       "    <tr>\n",
       "      <th>3</th>\n",
       "      <td>Bulk 6</td>\n",
       "      <td>8.089789</td>\n",
       "    </tr>\n",
       "    <tr>\n",
       "      <th>16</th>\n",
       "      <td>Wire 1</td>\n",
       "      <td>6.999648</td>\n",
       "    </tr>\n",
       "    <tr>\n",
       "      <th>11</th>\n",
       "      <td>Работа</td>\n",
       "      <td>6.593314</td>\n",
       "    </tr>\n",
       "    <tr>\n",
       "      <th>6</th>\n",
       "      <td>Bulk 15</td>\n",
       "      <td>5.542079</td>\n",
       "    </tr>\n",
       "    <tr>\n",
       "      <th>4</th>\n",
       "      <td>Bulk 12</td>\n",
       "      <td>3.846562</td>\n",
       "    </tr>\n",
       "    <tr>\n",
       "      <th>17</th>\n",
       "      <td>Wire 2</td>\n",
       "      <td>3.500531</td>\n",
       "    </tr>\n",
       "    <tr>\n",
       "      <th>13</th>\n",
       "      <td>Газ 1</td>\n",
       "      <td>3.214548</td>\n",
       "    </tr>\n",
       "    <tr>\n",
       "      <th>5</th>\n",
       "      <td>Bulk 14</td>\n",
       "      <td>2.904818</td>\n",
       "    </tr>\n",
       "    <tr>\n",
       "      <th>15</th>\n",
       "      <td>wire_count</td>\n",
       "      <td>2.685982</td>\n",
       "    </tr>\n",
       "    <tr>\n",
       "      <th>12</th>\n",
       "      <td>Полная мощность</td>\n",
       "      <td>2.398070</td>\n",
       "    </tr>\n",
       "    <tr>\n",
       "      <th>2</th>\n",
       "      <td>Bulk 4</td>\n",
       "      <td>1.890730</td>\n",
       "    </tr>\n",
       "    <tr>\n",
       "      <th>14</th>\n",
       "      <td>wire_sum</td>\n",
       "      <td>1.721475</td>\n",
       "    </tr>\n",
       "    <tr>\n",
       "      <th>7</th>\n",
       "      <td>bulk_count</td>\n",
       "      <td>1.007934</td>\n",
       "    </tr>\n",
       "    <tr>\n",
       "      <th>0</th>\n",
       "      <td>Количество замеров</td>\n",
       "      <td>0.803280</td>\n",
       "    </tr>\n",
       "    <tr>\n",
       "      <th>8</th>\n",
       "      <td>bulk_sum</td>\n",
       "      <td>0.594421</td>\n",
       "    </tr>\n",
       "    <tr>\n",
       "      <th>1</th>\n",
       "      <td>Bulk 3</td>\n",
       "      <td>0.497432</td>\n",
       "    </tr>\n",
       "  </tbody>\n",
       "</table>\n",
       "</div>"
      ],
      "text/plain": [
       "                  feature  importance\n",
       "10    Время нагрева дугой   23.879837\n",
       "9   Начальная температура   23.829550\n",
       "3                  Bulk 6    8.089789\n",
       "16                 Wire 1    6.999648\n",
       "11                 Работа    6.593314\n",
       "6                 Bulk 15    5.542079\n",
       "4                 Bulk 12    3.846562\n",
       "17                 Wire 2    3.500531\n",
       "13                  Газ 1    3.214548\n",
       "5                 Bulk 14    2.904818\n",
       "15             wire_count    2.685982\n",
       "12        Полная мощность    2.398070\n",
       "2                  Bulk 4    1.890730\n",
       "14               wire_sum    1.721475\n",
       "7              bulk_count    1.007934\n",
       "0      Количество замеров    0.803280\n",
       "8                bulk_sum    0.594421\n",
       "1                  Bulk 3    0.497432"
      ]
     },
     "execution_count": 177,
     "metadata": {},
     "output_type": "execute_result"
    }
   ],
   "source": [
    "importances = pd.DataFrame(importance, columns = ['feature', 'importance']).sort_values(by='importance', ascending=False)\n",
    "importances"
   ]
  },
  {
   "cell_type": "markdown",
   "id": "891b3611",
   "metadata": {},
   "source": [
    "Визуализируем полученные результаты"
   ]
  },
  {
   "cell_type": "code",
   "execution_count": 178,
   "id": "ae5951ff-59c1-4c21-b40c-7043052af777",
   "metadata": {},
   "outputs": [
    {
     "data": {
      "image/png": "[encoded data removed]",
      "text/plain": [
       "<Figure size 1500x1200 with 1 Axes>"
      ]
     },
     "metadata": {},
     "output_type": "display_data"
    }
   ],
   "source": [
    "plt.figure(figsize=(15, 12))\n",
    "plt.barh(importances['feature'], importances['importance'])\n",
    "plt.show()"
   ]
  },
  {
   "cell_type": "markdown",
   "id": "e688176e",
   "metadata": {},
   "source": [
    "Наибольшее влияние на конечную температуру оказывают начальная температура и время нагрева дугой. Также на температуру влияют добавки Bulk 6, 12, 15 и Wire 1, а также работа элетродов."
   ]
  },
  {
   "cell_type": "markdown",
   "id": "bb428aa9",
   "metadata": {},
   "source": [
    "## Выводы"
   ]
  },
  {
   "cell_type": "markdown",
   "id": "31b15f80",
   "metadata": {},
   "source": [
    "1. Загружены данные о процессе. Некоторые оказались бесполезны для исследования.\n",
    "2. Исследованы выбросы. Учитывая особенности производства, удалены были только наиболее выделяющиеся. Подобраны можели, нечувствительные к выбросам.\n",
    "3. Добавлены дополнительные признаки:\n",
    "* полная мощность;\n",
    "* работа электродов;\n",
    "* общее время нагрева дугой; \n",
    "* общий объем сыпучих и проволочных добавок;\n",
    "* количество видов сыпучих и проволочных материалов.\n",
    "4. В данных о сыпучих материалах содержится множество пропусков, по всей видимости, соответствующих отсутствию данной добавки в ковше. Пропуски заполнены нулями. \n",
    "5. Выделены начальная и конечная температуры\n",
    "6. Данные объединены в итоговый датафрейм таким образом, что в него не вошли ковши с неполными или ошибочными данными.\n",
    "7. Подобрана модель машинного обучения со следующими параметрами:\n",
    "```\n",
    "CatBoostRegressor{\n",
    " 'depth': 2,\n",
    " 'l2_leaf_reg': 6,\n",
    " 'learning_rate': 0.05,\n",
    " 'n_estimators': 1000\n",
    "  }\n",
    "```  \n",
    "Значение средней абсолютной ошибки на тестовой выборке составило 6,28°\n",
    "8. Проанализирована важность признаков для полученной модели, наиболее всего влияющие на конечную температуру процесса:\n",
    "* Наиболее значимыми оказались начальная температура и время нагрева дугой.\n",
    "* Также на температуру влияют добавки Bulk 6, 12, 15 и Wire 1, а также работа, произведенная элетродами.\n",
    "* Наименее значимыми оказались общий объем добавок, количество этапов и видов сыпучих добавок, объем добавок Bulk 3 и 4. "
   ]
  },
  {
   "cell_type": "code",
   "execution_count": null,
   "id": "82851aa1",
   "metadata": {},
   "outputs": [],
   "source": []
  }
 ],
 "metadata": {
  "ExecuteTimeLog": [
   {
    "duration": 3528,
    "start_time": "2023-12-21T14:57:52.054Z"
   },
   {
    "duration": 114,
    "start_time": "2023-12-21T14:58:00.381Z"
   },
   {
    "duration": 12,
    "start_time": "2023-12-21T14:58:01.094Z"
   },
   {
    "duration": 18,
    "start_time": "2023-12-21T14:58:01.712Z"
   },
   {
    "duration": 3,
    "start_time": "2023-12-21T14:58:02.326Z"
   },
   {
    "duration": 198,
    "start_time": "2023-12-21T15:02:02.613Z"
   },
   {
    "duration": 3,
    "start_time": "2023-12-21T15:02:18.052Z"
   },
   {
    "duration": 82,
    "start_time": "2023-12-21T15:02:19.719Z"
   },
   {
    "duration": 12,
    "start_time": "2023-12-21T15:02:19.908Z"
   },
   {
    "duration": 17,
    "start_time": "2023-12-21T15:02:20.569Z"
   },
   {
    "duration": 4,
    "start_time": "2023-12-21T15:02:20.774Z"
   },
   {
    "duration": 69,
    "start_time": "2023-12-21T15:02:21.843Z"
   },
   {
    "duration": 8,
    "start_time": "2023-12-21T15:02:22.231Z"
   },
   {
    "duration": 96,
    "start_time": "2023-12-21T15:02:36.593Z"
   },
   {
    "duration": 11,
    "start_time": "2023-12-21T15:02:37.496Z"
   },
   {
    "duration": 61,
    "start_time": "2023-12-21T15:02:38.930Z"
   },
   {
    "duration": 105,
    "start_time": "2023-12-21T15:02:40.482Z"
   },
   {
    "duration": 12,
    "start_time": "2023-12-21T15:02:40.678Z"
   },
   {
    "duration": 87,
    "start_time": "2023-12-21T15:02:41.916Z"
   },
   {
    "duration": 9,
    "start_time": "2023-12-21T15:02:42.384Z"
   },
   {
    "duration": 12,
    "start_time": "2023-12-21T15:02:42.574Z"
   },
   {
    "duration": 85,
    "start_time": "2023-12-21T15:02:45.930Z"
   },
   {
    "duration": 8,
    "start_time": "2023-12-21T15:02:46.103Z"
   },
   {
    "duration": 11,
    "start_time": "2023-12-21T15:02:46.272Z"
   },
   {
    "duration": 13,
    "start_time": "2023-12-21T15:02:46.431Z"
   },
   {
    "duration": 4,
    "start_time": "2023-12-21T15:02:46.597Z"
   },
   {
    "duration": 72,
    "start_time": "2023-12-21T15:02:47.452Z"
   },
   {
    "duration": 10,
    "start_time": "2023-12-21T15:02:47.622Z"
   },
   {
    "duration": 32,
    "start_time": "2023-12-21T15:02:47.794Z"
   },
   {
    "duration": 75,
    "start_time": "2023-12-21T15:02:48.965Z"
   },
   {
    "duration": 10,
    "start_time": "2023-12-21T15:02:49.140Z"
   },
   {
    "duration": 79,
    "start_time": "2023-12-21T15:04:21.075Z"
   },
   {
    "duration": 10,
    "start_time": "2023-12-21T15:04:21.804Z"
   },
   {
    "duration": 50,
    "start_time": "2023-12-21T15:04:22.327Z"
   },
   {
    "duration": 87,
    "start_time": "2023-12-21T15:05:52.342Z"
   },
   {
    "duration": 13,
    "start_time": "2023-12-21T15:05:52.826Z"
   },
   {
    "duration": 93,
    "start_time": "2023-12-21T15:05:53.910Z"
   },
   {
    "duration": 13,
    "start_time": "2023-12-21T15:05:54.426Z"
   },
   {
    "duration": 14,
    "start_time": "2023-12-21T15:05:54.648Z"
   },
   {
    "duration": 85,
    "start_time": "2023-12-21T15:05:55.710Z"
   },
   {
    "duration": 8,
    "start_time": "2023-12-21T15:05:57.033Z"
   },
   {
    "duration": 11,
    "start_time": "2023-12-21T15:05:57.309Z"
   },
   {
    "duration": 15,
    "start_time": "2023-12-21T15:05:57.524Z"
   },
   {
    "duration": 4,
    "start_time": "2023-12-21T15:05:57.881Z"
   },
   {
    "duration": 70,
    "start_time": "2023-12-21T15:07:23.990Z"
   },
   {
    "duration": 10,
    "start_time": "2023-12-21T15:07:24.544Z"
   },
   {
    "duration": 35,
    "start_time": "2023-12-21T15:07:24.749Z"
   },
   {
    "duration": 98,
    "start_time": "2023-12-21T15:07:26.343Z"
   },
   {
    "duration": 12,
    "start_time": "2023-12-21T15:07:26.442Z"
   },
   {
    "duration": 1404,
    "start_time": "2023-12-21T15:07:30.512Z"
   },
   {
    "duration": 0,
    "start_time": "2023-12-21T15:07:31.918Z"
   }
  ],
  "kernelspec": {
   "display_name": "Python 3 (ipykernel)",
   "language": "python",
   "name": "python3"
  },
  "language_info": {
   "codemirror_mode": {
    "name": "ipython",
    "version": 3
   },
   "file_extension": ".py",
   "mimetype": "text/x-python",
   "name": "python",
   "nbconvert_exporter": "python",
   "pygments_lexer": "ipython3",
   "version": "3.10.9"
  },
  "toc": {
   "base_numbering": 1,
   "nav_menu": {},
   "number_sections": true,
   "sideBar": true,
   "skip_h1_title": true,
   "title_cell": "Table of Contents",
   "title_sidebar": "Contents",
   "toc_cell": false,
   "toc_position": {},
   "toc_section_display": true,
   "toc_window_display": false
  }
 },
 "nbformat": 4,
 "nbformat_minor": 5
}
